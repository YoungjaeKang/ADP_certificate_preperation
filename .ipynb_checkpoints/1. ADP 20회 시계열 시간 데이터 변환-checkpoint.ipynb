{
 "cells": [
  {
   "cell_type": "markdown",
   "metadata": {},
   "source": [
    "## 시간 데이터 변환 포맷"
   ]
  },
  {
   "cell_type": "markdown",
   "metadata": {},
   "source": [
    "포맷에 따른 출력(주로 쓰는 연,월,일 그리고 시간대를 위로, 부가적으로 본인이 원할 때 사용이 가능한 포맷을 아래에 배치하였다)\n",
    "\n",
    "%y : 년(OO),\n",
    "%Y : 년(OOOO)\n",
    "\n",
    "%m : 월(숫자),\n",
    "%d : 일(숫자)\n",
    "\n",
    "%H : 시간,\n",
    "%M : 분,\n",
    "%S : 초\n",
    "\n",
    "----------------------------------\n",
    "\n",
    "%b : 월(Short) #영어로 된 월 문자열,\n",
    "%B : 월(Full) #영어로 된 월 문자열\n",
    "\n",
    "%D: 월/일/년\n",
    "\n",
    "%a : 요일 #영어로 된 요일 문자열,\n",
    "%A : 요일(FULL) #영어로 된 요일 문자열"
   ]
  },
  {
   "cell_type": "markdown",
   "metadata": {},
   "source": [
    "## datetime 패키지 이용\n",
    "\n",
    "time은 timestamp 타입과 관련이 되어있으며,\n",
    "\n",
    "datetime에서의 datetime이 주로 활용이 되는 것이며, date는 잘 쓰이지는 않지만 알아두면 좋다.\n",
    "\n",
    "그리고 timedelta가 시간 데이터에서의 덧셈, 뺏셈등을 수행하는데 유용하므로 알아두는 것이 좋다."
   ]
  },
  {
   "cell_type": "markdown",
   "metadata": {},
   "source": [
    "datetime.now()를 하면 현재 시간이 나오며, 이를 weekday, date, time등으로 분리해서 출력 가능하다.\n",
    "\n",
    "weekday는 월요일이 0이고 일요일이 6의 값을 가진다. 7로 나눗셈 했을때 나머지의 값이라고 생각하면 편하다.\n",
    "\n",
    "1부터 7까지 출력하는 방법도 있지만, 따로 찾기 보다는 그냥 weekday에 1을 더하는 것이 더 간편하다."
   ]
  },
  {
   "cell_type": "code",
   "execution_count": 6,
   "metadata": {
    "ExecuteTime": {
     "end_time": "2021-03-08T11:47:55.540199Z",
     "start_time": "2021-03-08T11:47:55.522296Z"
    }
   },
   "outputs": [
    {
     "data": {
      "text/plain": [
       "(0, datetime.date(2021, 3, 8), datetime.time(20, 47, 55, 523297))"
      ]
     },
     "execution_count": 6,
     "metadata": {},
     "output_type": "execute_result"
    }
   ],
   "source": [
    "import time\n",
    "from datetime import datetime, date, timedelta\n",
    "\n",
    "#월 = 0 ,일 = 6\n",
    "datetime.now().weekday(), datetime.now().date(), datetime.now().time()"
   ]
  },
  {
   "cell_type": "markdown",
   "metadata": {},
   "source": [
    "timedelta에 day, hour, minutes를 넣고 출력하면 day는 그대로 나오지만 나머지는 초로 계산이 된다.\n",
    "\n",
    "이건 출력 방식이기에 크게 문제가 없고, weeks는 days=7과 동일하다.\n",
    "\n",
    "date.today()와 timedelta를 활용하여서 원하는 날짜를 계산 가능하다."
   ]
  },
  {
   "cell_type": "code",
   "execution_count": 25,
   "metadata": {
    "ExecuteTime": {
     "end_time": "2021-03-08T14:00:35.317195Z",
     "start_time": "2021-03-08T14:00:35.309660Z"
    }
   },
   "outputs": [
    {
     "data": {
      "text/plain": [
       "(datetime.timedelta(days=5, seconds=63000),\n",
       " datetime.timedelta(days=7),\n",
       " datetime.date(2021, 3, 8),\n",
       " datetime.date(2021, 3, 15))"
      ]
     },
     "execution_count": 25,
     "metadata": {},
     "output_type": "execute_result"
    }
   ],
   "source": [
    "week = timedelta(weeks=1)\n",
    "next_week = date.today() + week\n",
    "timedelta(days=5, hours=17, minutes=30),  week,  date.today(),  next_week"
   ]
  },
  {
   "cell_type": "markdown",
   "metadata": {},
   "source": [
    "## 시간 데이터 타입 변환"
   ]
  },
  {
   "cell_type": "markdown",
   "metadata": {},
   "source": [
    "### str로 변환\n",
    "\n",
    "먼저 str로 바꾸는 방법이다.\n",
    "\n",
    "timestamp를 str로 바꾸는 것보다는, timestamp를 datetime으로 바꾸고 \n",
    "\n",
    "그 datetime을 str로 바꾸는 것이 원하는 str 타입의 날짜 데이터를 얻는 방법이다."
   ]
  },
  {
   "cell_type": "code",
   "execution_count": 26,
   "metadata": {
    "ExecuteTime": {
     "end_time": "2021-03-08T14:04:59.741003Z",
     "start_time": "2021-03-08T14:04:59.726982Z"
    }
   },
   "outputs": [
    {
     "data": {
      "text/plain": [
       "(1615212299.7269828, float, '1615212299.7269828', str)"
      ]
     },
     "execution_count": 26,
     "metadata": {},
     "output_type": "execute_result"
    }
   ],
   "source": [
    "timestamp1 = time.time() #timestamp -> str\n",
    "timestamp_to_str = str(timestamp1)\n",
    "timestamp1, type(timestamp1), timestamp_to_str, type(timestamp_to_str)"
   ]
  },
  {
   "cell_type": "markdown",
   "metadata": {},
   "source": [
    "timestamp에 str을 하면 단순히 숫자에 문자가 들어가는 것으로 끝난다.\n",
    "\n",
    "하지만, datetime에 strftime을 이용하고 원하는 형태를 넣어주면 원하는 str타입의 형태로 반환이 되기에 굉장히 유용하다."
   ]
  },
  {
   "cell_type": "code",
   "execution_count": 15,
   "metadata": {
    "ExecuteTime": {
     "end_time": "2021-03-08T11:51:20.384321Z",
     "start_time": "2021-03-08T11:51:20.373325Z"
    }
   },
   "outputs": [
    {
     "data": {
      "text/plain": [
       "(datetime.datetime(2021, 3, 8, 20, 51, 20, 374326),\n",
       " datetime.datetime,\n",
       " '2021-03-08 20:51:20',\n",
       " str)"
      ]
     },
     "execution_count": 15,
     "metadata": {},
     "output_type": "execute_result"
    }
   ],
   "source": [
    "datetime_to_str = datetime.now().strftime('%Y-%m-%d %H:%M:%S') #dattime -> str\n",
    "\n",
    "datetime.now(), type(datetime.now()), datetime_to_str, type(datetime_to_str)"
   ]
  },
  {
   "cell_type": "markdown",
   "metadata": {},
   "source": [
    "### timestamp로 변환\n",
    "\n",
    "str에서 바로 timestamp로 변환을 하는 방법은 없다.\n",
    "\n",
    "애초에 timestamp의 타입은 float인데, 원래 문자인 타입이 숫자로 반환이 되지 않기 때문에\n",
    "\n",
    "str에 현재 입력된 타입을 기록하고, 그걸 strptime(<-> strftime)을 이용하여서 datetime으로 바꾸고\n",
    "\n",
    "그 datetime에 timetuple을 이용하고 다시 time.mktime을 이용하여서 timestamp로 바꿔줘야 한다."
   ]
  },
  {
   "cell_type": "code",
   "execution_count": 27,
   "metadata": {
    "ExecuteTime": {
     "end_time": "2021-03-08T14:12:15.448447Z",
     "start_time": "2021-03-08T14:12:15.429598Z"
    }
   },
   "outputs": [
    {
     "data": {
      "text/plain": [
       "('2018-05-16 12:00:00',\n",
       " str,\n",
       " datetime.datetime(2018, 5, 16, 12, 0),\n",
       " datetime.datetime,\n",
       " 1526439600.0,\n",
       " float)"
      ]
     },
     "execution_count": 27,
     "metadata": {},
     "output_type": "execute_result"
    }
   ],
   "source": [
    "str1 = '2018-05-16 12:00:00' #str\n",
    "str_to_datetime = datetime.strptime(str1, '%Y-%m-%d %H:%M:%S') #str -> datetime \n",
    "datetime_to_timestamp = time.mktime(str_to_datetime.timetuple()) #str -> datetime -> timestamp\n",
    "str1, type(str1), str_to_datetime, type(str_to_datetime), datetime_to_timestamp , type(datetime_to_timestamp)"
   ]
  },
  {
   "cell_type": "markdown",
   "metadata": {},
   "source": [
    "### datetime로 변환\n",
    "\n",
    "주로 제일 많이 찾는 방법일 것이고, 앞에서 일부 방법이 미리 소개가 된 상태이다.\n",
    "\n",
    "str에서 datetime은 strptime에 현재 str에 입력된 타입을 입력해주면 되고\n",
    "\n",
    "timestamp에서 datetime은 fromtimestamp를 활용해주면 된다.\n",
    "\n",
    "ADP 15회에 fromtimestamp를 활용해서 타입 변환을 먼저 해줘야 했다는 이야기가 있어서\n",
    "\n",
    "알아두면 좋다고 생각된다."
   ]
  },
  {
   "cell_type": "code",
   "execution_count": 28,
   "metadata": {
    "ExecuteTime": {
     "end_time": "2021-03-08T14:14:54.337852Z",
     "start_time": "2021-03-08T14:14:54.325852Z"
    }
   },
   "outputs": [
    {
     "data": {
      "text/plain": [
       "('2018-05-16 12:00:00',\n",
       " str,\n",
       " datetime.datetime(2018, 5, 16, 12, 0),\n",
       " datetime.datetime)"
      ]
     },
     "execution_count": 28,
     "metadata": {},
     "output_type": "execute_result"
    }
   ],
   "source": [
    "str1 = '2018-05-16 12:00:00' #str\n",
    "str_to_datetime = datetime.strptime(str1, '%Y-%m-%d %H:%M:%S') #str -> datetime \n",
    "str1, type(str1), str_to_datetime, type(str_to_datetime)"
   ]
  },
  {
   "cell_type": "code",
   "execution_count": 29,
   "metadata": {
    "ExecuteTime": {
     "end_time": "2021-03-08T14:15:09.770962Z",
     "start_time": "2021-03-08T14:15:09.763439Z"
    },
    "scrolled": true
   },
   "outputs": [
    {
     "data": {
      "text/plain": [
       "(1615212909.7644389,\n",
       " float,\n",
       " datetime.datetime(2021, 3, 8, 23, 15, 9, 764439),\n",
       " datetime.datetime)"
      ]
     },
     "execution_count": 29,
     "metadata": {},
     "output_type": "execute_result"
    }
   ],
   "source": [
    "timestamp_to_datetime = datetime.fromtimestamp(time.time()) #timetsamp -> datetime\n",
    "time.time(), type(time.time()), timestamp_to_datetime ,  type(timestamp_to_datetime )"
   ]
  },
  {
   "cell_type": "markdown",
   "metadata": {},
   "source": [
    "## pandas 패키지 이용\n",
    "\n",
    "pandas로 하는 방법을 알아둬야 하는 이유는 DataFrame을 사용할 때, \n",
    "\n",
    "해당 방식으로 날짜 타입들이 기록되어있을 가능성이 있기 때문이다.\n",
    "\n",
    "이 포스팅 이후에 바로 진행되는 포스팅에서 pd.to_datetime을 이용해서, str을 datetime으로 변환을 해주고 진행을 한다.\n",
    "\n",
    "앞에서와는 다르게 Timestamp가 숫자가 아닌 pandas에서의 고유한 타입으로 출력이 된다"
   ]
  },
  {
   "cell_type": "code",
   "execution_count": 1,
   "metadata": {
    "ExecuteTime": {
     "end_time": "2021-03-08T11:47:54.300969Z",
     "start_time": "2021-03-08T11:47:54.101433Z"
    }
   },
   "outputs": [
    {
     "data": {
      "text/plain": [
       "(Timestamp('2019-12-22 13:30:59'), pandas._libs.tslibs.timestamps.Timestamp)"
      ]
     },
     "execution_count": 1,
     "metadata": {},
     "output_type": "execute_result"
    }
   ],
   "source": [
    "import pandas as pd\n",
    "pd_ts = pd.Timestamp(2019, 12, 22, 13, 30, 59)\n",
    "\n",
    "pd_ts, type(pd_ts)"
   ]
  },
  {
   "cell_type": "markdown",
   "metadata": {},
   "source": [
    "고유한 타입으로 출력은 되지만, 해당 값에 .timestamp, .date, strftime 등을 한 번 더 해주면 \n",
    "\n",
    "앞서 봤던 timestamp, datetime, str 타입들이 나오게 된다."
   ]
  },
  {
   "cell_type": "code",
   "execution_count": 30,
   "metadata": {
    "ExecuteTime": {
     "end_time": "2021-03-08T14:18:14.768018Z",
     "start_time": "2021-03-08T14:18:14.756020Z"
    }
   },
   "outputs": [
    {
     "data": {
      "text/plain": [
       "(1577021459.0, datetime.date(2019, 12, 22), datetime.time(13, 30, 59))"
      ]
     },
     "execution_count": 30,
     "metadata": {},
     "output_type": "execute_result"
    }
   ],
   "source": [
    "pd_ts.timestamp(),pd_ts.date(), pd_ts.time()"
   ]
  },
  {
   "cell_type": "code",
   "execution_count": 31,
   "metadata": {
    "ExecuteTime": {
     "end_time": "2021-03-08T14:18:17.126078Z",
     "start_time": "2021-03-08T14:18:17.113064Z"
    }
   },
   "outputs": [
    {
     "data": {
      "text/plain": [
       "('2019-12-22 13:30:59', str)"
      ]
     },
     "execution_count": 31,
     "metadata": {},
     "output_type": "execute_result"
    }
   ],
   "source": [
    "pd_ts.strftime('%Y-%m-%d %H:%M:%S'), type(pd_ts.strftime('%Y-%m-%d %H:%M:%S'))"
   ]
  },
  {
   "cell_type": "markdown",
   "metadata": {},
   "source": [
    "pd.Timestamp에 now, today를 하면, 판다스 타임스탬프에 현재 날짜와 시간이 기록 되는 방식으로 나오게 된다."
   ]
  },
  {
   "cell_type": "code",
   "execution_count": 3,
   "metadata": {
    "ExecuteTime": {
     "end_time": "2021-03-08T11:47:54.572663Z",
     "start_time": "2021-03-08T11:47:54.558666Z"
    }
   },
   "outputs": [
    {
     "data": {
      "text/plain": [
       "(Timestamp('2021-03-08 20:47:54.559663'),\n",
       " Timestamp('2021-03-08 20:47:54.559663'),\n",
       " pandas._libs.tslibs.timestamps.Timestamp)"
      ]
     },
     "execution_count": 3,
     "metadata": {},
     "output_type": "execute_result"
    }
   ],
   "source": [
    "pd.Timestamp.now(), pd.Timestamp.today(), type(pd.Timestamp.today())"
   ]
  },
  {
   "cell_type": "markdown",
   "metadata": {},
   "source": [
    "마지막으로, str 타입을 pd.to_datetime만 사용해서 판다스의 고유한 Tiemstamp 타입으로 변경한 모습이다.\n",
    "\n",
    "이번 예시는 단순히 하나의 문자에서만 시행이 되었지만\n",
    "\n",
    "당연하게 DataFrame의 한 컬럼에서도 똑같이 수행이 가능하다. 이건 바로 다음 포스팅에서 볼 수 있다."
   ]
  },
  {
   "cell_type": "code",
   "execution_count": 4,
   "metadata": {
    "ExecuteTime": {
     "end_time": "2021-03-08T11:47:54.708147Z",
     "start_time": "2021-03-08T11:47:54.704147Z"
    }
   },
   "outputs": [
    {
     "data": {
      "text/plain": [
       "('2020-03-02 00:00:00',\n",
       " str,\n",
       " Timestamp('2020-03-02 00:00:00'),\n",
       " pandas._libs.tslibs.timestamps.Timestamp)"
      ]
     },
     "execution_count": 4,
     "metadata": {},
     "output_type": "execute_result"
    }
   ],
   "source": [
    "t1 = '2020-03-02 00:00:00'\n",
    "t2 = pd.to_datetime(t1)\n",
    "t1, type(t1),  t2,  type(t2)"
   ]
  }
 ],
 "metadata": {
  "hide_input": false,
  "kernelspec": {
   "display_name": "Python 3 (ipykernel)",
   "language": "python",
   "name": "python3"
  },
  "language_info": {
   "codemirror_mode": {
    "name": "ipython",
    "version": 3
   },
   "file_extension": ".py",
   "mimetype": "text/x-python",
   "name": "python",
   "nbconvert_exporter": "python",
   "pygments_lexer": "ipython3",
   "version": "3.9.7"
  },
  "toc": {
   "base_numbering": 1,
   "nav_menu": {},
   "number_sections": true,
   "sideBar": true,
   "skip_h1_title": false,
   "title_cell": "Table of Contents",
   "title_sidebar": "Contents",
   "toc_cell": false,
   "toc_position": {
    "height": "calc(100% - 180px)",
    "left": "10px",
    "top": "150px",
    "width": "252.594px"
   },
   "toc_section_display": true,
   "toc_window_display": true
  },
  "varInspector": {
   "cols": {
    "lenName": 16,
    "lenType": 16,
    "lenVar": 40
   },
   "kernels_config": {
    "python": {
     "delete_cmd_postfix": "",
     "delete_cmd_prefix": "del ",
     "library": "var_list.py",
     "varRefreshCmd": "print(var_dic_list())"
    },
    "r": {
     "delete_cmd_postfix": ") ",
     "delete_cmd_prefix": "rm(",
     "library": "var_list.r",
     "varRefreshCmd": "cat(var_dic_list()) "
    }
   },
   "types_to_exclude": [
    "module",
    "function",
    "builtin_function_or_method",
    "instance",
    "_Feature"
   ],
   "window_display": false
  }
 },
 "nbformat": 4,
 "nbformat_minor": 4
}
