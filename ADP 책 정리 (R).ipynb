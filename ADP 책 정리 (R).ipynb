{
 "cells": [
  {
   "cell_type": "markdown",
   "id": "ef7a985b",
   "metadata": {},
   "source": [
    "------------------------- 데이터 전처리 -------------------------"
   ]
  },
  {
   "cell_type": "code",
   "execution_count": 29,
   "id": "b9476350",
   "metadata": {},
   "outputs": [],
   "source": [
    "# import libraries\n",
    "\n",
    "import pandas as pd\n",
    "from sklearn.datasets import load_iris\n",
    "from factor_analyzer import FactorAnalyzer\n",
    "import matplotlib.pyplot as plt\n",
    "from sklearn.datasets import load_iris\n"
   ]
  },
  {
   "cell_type": "code",
   "execution_count": null,
   "id": "aad02304",
   "metadata": {},
   "outputs": [],
   "source": []
  },
  {
   "cell_type": "markdown",
   "id": "511726ae",
   "metadata": {},
   "source": [
    "# 파이썬 기초"
   ]
  },
  {
   "cell_type": "markdown",
   "id": "12191c3f",
   "metadata": {},
   "source": [
    "## 파이썬 다루기"
   ]
  },
  {
   "cell_type": "markdown",
   "id": "62d106a3",
   "metadata": {},
   "source": [
    "### 패키지 사용하기"
   ]
  },
  {
   "cell_type": "markdown",
   "id": "0933ae5f",
   "metadata": {},
   "source": [
    "#### 기본 명령어\n",
    "- ADP 시험에서 사용할 수 있는 패키지 확인 (공식 홈페이지)\n",
    "- 설치된 패키지 목록을 확인 : pip list (conda list)\n",
    "- pwd, ls 등"
   ]
  },
  {
   "cell_type": "markdown",
   "id": "d8a0994c",
   "metadata": {},
   "source": [
    "### 데이터 타입"
   ]
  },
  {
   "cell_type": "markdown",
   "id": "e48e0f3a",
   "metadata": {},
   "source": [
    "#### 데이터 타입 종류"
   ]
  },
  {
   "cell_type": "markdown",
   "id": "35ac1f77",
   "metadata": {},
   "source": [
    "1. Numeric Types: int(정수), float(소수), complex(복소수)\n",
    "2. Sequence Types: str(문자열), list(리스트), tuple(튜플)\n",
    "3. Mapping Type: dict(딕셔너리)\n",
    "4. Set Types: set(집합)\n",
    "5. Boolean Type: bool(불린)\n",
    "6. Binary Types: bytes, bytearray, memoryview\n"
   ]
  },
  {
   "cell_type": "markdown",
   "id": "14172e90",
   "metadata": {},
   "source": [
    "1. Numeric Types : Int / Float / Complex\n",
    "- Int(정수형) : 숫자형의 하나로 소수점이 없는 정수\n",
    "- Float(소수형) : 숫자형의 하나로 소수점이 있는 실수\n",
    "- Complex(복소수) : 실수와 허수의 합인 복소수\n",
    "- 일반적으로 수학에서 가능한 모든 기능을 사용할 수 있음\n",
    "- import math를 통해 수학적 기능을 확장시켜 활용 가능"
   ]
  },
  {
   "cell_type": "markdown",
   "id": "e2b47179",
   "metadata": {},
   "source": [
    "2. Sequence Types : Str / List / Tuple\n",
    "    1. 문자형(str)\n",
    "    - 문자열(String)이란 문자, 단어 등으로 구성된 문자들의 집합을 의미함\n",
    "    - 문자형은 문자를 다룰 수 있는 다양한 추가, 삽입, 수정, 삭제 기능을 제공함\n",
    "    - 길이 구하기, 인덱싱, 슬라이싱, 갯수 세기, 위치 찾기, 삽입, 대체하기, 나누기 등..\n",
    "    2. 리스트(list)\n",
    "    - 리스트를 사용하여 데이터를 묶어서 사용할 수 있음\n",
    "    - 불필요하게 각 각의 변수를 생성하여 데이터를 하나씩 담아줘야하는 문제점을 개선\n",
    "    - 리스트는 문자형처럼 인덱싱(indexing)과 슬라이싱(slicing) 사용 가능\n",
    "    - 또한, 수정, 삭제, 추가, 정렬, 뒤집기, 삽입 등 모두 가능\n",
    "    3. 튜플(tuple)\n",
    "    - 튜플은 2가지 점을 제외하고는 전반적으로 리스트와 유사함\n",
    "    - 차이점1. 리스트는 []로 감싸지만, 튜플은 ()로 감쌈\n",
    "    - 차이점2. 리스트는 요소의 생성, 삭제, 수정이 가능하지만 튜플은 그 값을 바꿀 수 없음\n",
    "    - 다만, 튜플은 인덱싱, 슬라이싱, 더하기, 곱하기, 길이구하기 처럼 기본적인 것은 가능\n",
    "    - 덧셈은 튜플끼리도 가능하지만, 곱셈은 튜플에 숫자를 곱해서만 가능(튜플끼리 곱셉 안됨)\n",
    "    - 또한 튜플이 1개의 값을 갖고 있다면 값 뒤에 콤마(,)를 찍어줘야하고, ()를 생략해도 가능"
   ]
  },
  {
   "cell_type": "markdown",
   "id": "04006b5d",
   "metadata": {},
   "source": [
    "3. Mapping Type : dict\n",
    "    1. 딕셔너리(dict)\n",
    "    - 자바스크립트에서 배열과 유사하기 key와 value를 갖고 있음\n",
    "    - 리스트와 같이 순차적인 index값을 요구하지 않고 key값을 통해 value를 얻음\n",
    "    - {} 중괄호로 감싸서 만들 수 있음. {key1:value1, key2:value2, key3:value3, ...key(N):value(N)}\n",
    "    - 요소를 추가, 삭제, 값 가져오기, 지우기 등..."
   ]
  },
  {
   "cell_type": "markdown",
   "id": "e4754b8c",
   "metadata": {},
   "source": [
    "4. Set Type : set\n",
    "    1. 집합(set)\n",
    "    - 집합 자료형은 set 키워드를 사용해 만들 수 있음. 비어있는 집합 : set()\n",
    "    - 집합은 중복을 허용하지 않기 때문에 집합으로 변환시켰을 때 중복된 값은 제거됨(종종 중복을 없애는 필터 기능으로 사용됨)\n",
    "    - 집합은 순서가 없기 때문에 저장된 값을 인덱싱으로 접근 불가\n",
    "    - 집합에서 인덱싱으로 저장된 값을 저장하기 위해서는 자료형을 리스트나 튜플로 변환 후 제어해야 함\n",
    "    - 집합은 교집합, 합집합, 차집합을 구하는데 이용함"
   ]
  },
  {
   "cell_type": "markdown",
   "id": "4b19dc5c",
   "metadata": {},
   "source": [
    "5. Boolean Type : bool\n",
    "- 불 자료형은 참(True)와 거짓(False)로 나타내는 자료형임. 이 2가지 값만 가질 수 있음\n",
    "- 빈 자료값(\"\", (), {}, [] 등), 숫자 0, None 는 False, 나머지는 True\n",
    "- 조건문과 함께 활용"
   ]
  },
  {
   "cell_type": "markdown",
   "id": "46227fde",
   "metadata": {},
   "source": [
    "#### 형 변환"
   ]
  },
  {
   "cell_type": "markdown",
   "id": "1b662669",
   "metadata": {},
   "source": [
    "- type, astype (df)"
   ]
  },
  {
   "cell_type": "markdown",
   "id": "f349323a",
   "metadata": {},
   "source": [
    "### 데이터 구조"
   ]
  },
  {
   "cell_type": "markdown",
   "id": "45c219d8",
   "metadata": {},
   "source": [
    "#### 리스트\n",
    "- 데이터 타입에 대한 글에서 숫자, 문자형 데이터는 변할 수 없는(immutable) 데이터라고 설명한 적 있습니다. 리스트의 경우 변할 수 있는(mutable) 데이터 입니다."
   ]
  },
  {
   "cell_type": "markdown",
   "id": "e0c0c22d",
   "metadata": {},
   "source": [
    "##### 내장 함수"
   ]
  },
  {
   "cell_type": "code",
   "execution_count": 11,
   "id": "ff766622",
   "metadata": {},
   "outputs": [
    {
     "name": "stdout",
     "output_type": "stream",
     "text": [
      "['수박', '참외', '자몽', '멜론', '망고']\n",
      "['수박', '참외', '망고', '자몽', '멜론', '망고']\n",
      "['수박', '참외', '자몽', '멜론', '망고']\n",
      "망고\n",
      "['수박', '참외', '자몽', '멜론']\n",
      "['멜론', '자몽', '참외', '수박']\n",
      "[]\n"
     ]
    }
   ],
   "source": [
    "# 과일을 담은 리스트\n",
    "fruits = ['수박', '참외', '자몽', '멜론']\n",
    "\n",
    "# 리스트 끝에 추가\n",
    "fruits.append('망고')\n",
    "print(fruits) # ['수박', '참외', '자몽', '멜론', '망고']\n",
    "\n",
    "# 리스트 특정 위치에 삽입 --> 지정한 인덱스에 값을 저장한다.\n",
    "fruits.insert(2, '망고')\n",
    "print(fruits) # ['수박', '참외', '망고', '자몽', '멜론', '망고']\n",
    "\n",
    "# 리스트에서 값으로 제거(첫번 째 값 만 제거된다)\n",
    "fruits.remove('망고')\n",
    "print(fruits) # ['수박', '참외', '자몽', '멜론', '망고']\n",
    "\n",
    "# 리스트에서 인덱스로 값 제거하고 반환한다\n",
    "print(fruits.pop(4)) # 망고\n",
    "print(fruits) # ['수박', '참외', '자몽', '멜론']\n",
    "\n",
    "# 리스트 역순으로 재배치한다.\n",
    "fruits.reverse()\n",
    "print(fruits) # ['멜론', '자몽', '참외', '수박']\n",
    "\n",
    "# 리스트의 모든 값을 제거한다.\n",
    "fruits.clear()\n",
    "print(fruits) # []"
   ]
  },
  {
   "cell_type": "markdown",
   "id": "697b07cd",
   "metadata": {},
   "source": [
    "##### Slicing"
   ]
  },
  {
   "cell_type": "code",
   "execution_count": 12,
   "id": "8e045c4d",
   "metadata": {},
   "outputs": [
    {
     "name": "stdout",
     "output_type": "stream",
     "text": [
      "['수박', '참외']\n",
      "['자몽', '멜론']\n",
      "['참외', '자몽', '멜론']\n",
      "['수박', '자몽']\n"
     ]
    }
   ],
   "source": [
    "# Object[start:end:step]\n",
    "\n",
    "# 과일을 담은 리스트\n",
    "fruits = ['수박', '참외', '자몽', '멜론']\n",
    "\n",
    "# 인덱스 2 전까지 범위로 한다.\n",
    "print(fruits[:2]) # ['수박', '참외']\n",
    "\n",
    "# 인덱스 2를 포함해서 끝까지 범위로 한다.\n",
    "print(fruits[2:]) # ['자몽', '멜론']\n",
    "\n",
    "# 인덱스 1부터 4 전까지 범위로 한다.\n",
    "print(fruits[1:4]) # ['참외', '자몽', '멜론']\n",
    "\n",
    "# 인덱스 0 부터 4 전까지 범위로 잡고 2개씩 건너 뛴다.\n",
    "print(fruits[0:4:2]) # ['수박', '자몽']"
   ]
  },
  {
   "cell_type": "markdown",
   "id": "306645ac",
   "metadata": {},
   "source": [
    "##### del 예약어\n",
    "- 인덱스로 리스트의 값을 제거하는 방법으로 del 예약어를 사용하는 방법이 있습니다. 리스트의 pop 메소드와의 차이는 값을 반환해주지 않는 다는 점입니다. 그리고 slicing을 통해서 범위로 값을 삭제할 수 있습니다."
   ]
  },
  {
   "cell_type": "code",
   "execution_count": 15,
   "id": "5820f28d",
   "metadata": {},
   "outputs": [
    {
     "name": "stdout",
     "output_type": "stream",
     "text": [
      "['수박', '자몽', '멜론']\n",
      "['수박']\n",
      "[]\n"
     ]
    }
   ],
   "source": [
    "# 과일을 담은 리스트\n",
    "fruits = ['수박', '참외', '자몽', '멜론']\n",
    "\n",
    "# 인덱스 1의 값을 삭제한다.\n",
    "del fruits[1]\n",
    "print(fruits) # ['수박', '자몽', '멜론']\n",
    "\n",
    "# 인덱스 1부터 3 전까지의 범위를 삭제한다.\n",
    "del fruits[1:3]\n",
    "print(fruits) # ['수박']\n",
    "\n",
    "# 리스트의 모든 값을 삭제한다. --> clear함수와 동등합니다.\n",
    "del fruits[:]\n",
    "print(fruits) # []"
   ]
  },
  {
   "cell_type": "markdown",
   "id": "86aaffb1",
   "metadata": {},
   "source": [
    "##### pop"
   ]
  },
  {
   "cell_type": "code",
   "execution_count": 21,
   "id": "4395e047",
   "metadata": {},
   "outputs": [
    {
     "data": {
      "text/plain": [
       "'자몽'"
      ]
     },
     "execution_count": 21,
     "metadata": {},
     "output_type": "execute_result"
    }
   ],
   "source": [
    "fruits = ['수박', '참외', '자몽', '멜론']\n",
    "fruits.pop(2)"
   ]
  },
  {
   "cell_type": "markdown",
   "id": "4b0bddbc",
   "metadata": {},
   "source": [
    "#### Tuple\n",
    "- Tuple은 immutable한 list입니다. list와 똑같이 인덱스를 이용해서 읽을 수 있고 데이터가 순차적으로 되어 있는 데이터 구조입니다.\n",
    "- 리스트와는 다르게 immutable하기 때문에 append나 remove와 같이 데이터를 변경하는 함수를 사용할 수 없고 직접 인덱스에 접근해서 데이터를 수정할수도 없습니다.\n",
    "- 성능의 차이가 있다는 것이 가장 큰 차이 입니다. list와는 다르게 tuple은 immutable하기 때문에 append나 remove처럼 데이터를 제어하는 메소드를 객체에서 갖고 있지 않습니다. 그러다보니 메모리에서는 상대적은 적은 공간을 차지하게 될 것이고 객체를 생성하거나 탐색할 때 더 적은 시간이 소요됩니다."
   ]
  },
  {
   "cell_type": "code",
   "execution_count": null,
   "id": "2bb405c3",
   "metadata": {},
   "outputs": [],
   "source": []
  },
  {
   "cell_type": "markdown",
   "id": "1956a658",
   "metadata": {},
   "source": [
    "##### packing / unpacking\n",
    "- packing : 튜플로 데이터를 묶어주는 것을 패킹이라고 힙니다. 즉 튜플로 데이터들을 할당해주는 것이 packing 입니다.\n",
    "- unpacking : 튜플의 데이터를 풀어서 각각 변수에 할당해주는 것이 unpacking입니다."
   ]
  },
  {
   "cell_type": "code",
   "execution_count": 26,
   "id": "50d150c9",
   "metadata": {},
   "outputs": [
    {
     "name": "stdout",
     "output_type": "stream",
     "text": [
      "합격 True 95\n"
     ]
    }
   ],
   "source": [
    "# tuple packing\n",
    "result = '수학', 100, '영어', 95.5\n",
    "\n",
    "# tuple unpacking\n",
    "math, m_score, english, e_score = result\n",
    "\n",
    "# 함수의 반환값을 tuple packing\n",
    "def report(x, y):\n",
    "    result = '불합격'\n",
    "    is_smart = False\n",
    "    if x + y > 90:\n",
    "        result = '합격'\n",
    "        is_smart = True\n",
    "    return result, is_smart, x + y\n",
    "\n",
    "# 함수의 반환값을 tuple unpacking\n",
    "pass_result, smart_bool, score = report(50, 45)\n",
    "print(pass_result, smart_bool, score) # 합격 True 95"
   ]
  },
  {
   "cell_type": "markdown",
   "id": "6bf5baaa",
   "metadata": {},
   "source": [
    "#### Set\n",
    "- 세트는 순서가 없고 중복이 없는 데이터 집합입니다. 과일 가게에서 판매하고 있는 과일들의 종류를 알기 위해 사용한다던가... 회사에서 프로그래머들이 사용할 수 있는 프로그래밍 언어의 종류가 어떤것이 있는지 확인하는 등 중복을 없애고 존재하고 있는 데이터를 확인하기 위해 많이 사용됩니다.\n",
    "- 세트는 중괄호를 이용해서 초기화할 수 있습니다. 하지만... 뒤에서 알아볼 dictionary 타입도 중괄호를 사용하기 때문에 빈 세트를 생성할 때는 set함수를 꼭 사용해야합니다.\n",
    "- set도 mutable 데이터 구조입니다. 값을 변경할 수 있습니다."
   ]
  },
  {
   "cell_type": "code",
   "execution_count": 27,
   "id": "ce532b79",
   "metadata": {},
   "outputs": [
    {
     "name": "stdout",
     "output_type": "stream",
     "text": [
      "<class 'set'>\n",
      "{'watermelon', 'lemon', 'apple'}\n",
      "<class 'dict'>\n",
      "<class 'set'>\n",
      "set()\n"
     ]
    }
   ],
   "source": [
    "fruits = {'apple', 'lemon', 'watermelon', 'apple'}\n",
    "print(type(fruits)) # <class 'set'>\n",
    "print(fruits) # {'lemon', 'watermelon', 'apple'} 순서가 없으므로 출력이 매번 변경됩니다.\n",
    "\n",
    "# 빈 세트는 함수를 통해서만 생성할 수 있다.\n",
    "d = {}\n",
    "print(type(d)) # <class 'dict'>\n",
    "\n",
    "s = set()\n",
    "print(type(s)) # <class 'set'>\n",
    "print(s) # set()"
   ]
  },
  {
   "cell_type": "code",
   "execution_count": 28,
   "id": "2a71168f",
   "metadata": {},
   "outputs": [
    {
     "name": "stdout",
     "output_type": "stream",
     "text": [
      "{'watermelon', 'lemon', 'apple'}\n",
      "{'watermelon', 'melon', 'lemon', 'apple'}\n",
      "{'watermelon', 'apple', 'melon', 'mango', 'grape', 'lemon'}\n",
      "{'watermelon', 'apple', 'melon', 'mango', 'lemon'}\n",
      "{'apple', 'melon', 'mango', 'lemon'}\n",
      "apple\n",
      "set()\n"
     ]
    }
   ],
   "source": [
    "fruits = {'apple', 'lemon', 'watermelon', 'apple'}\n",
    "print(fruits) # {'lemon', 'watermelon', 'apple'} 순서가 없으므로 출력이 매번 변경됩니다.\n",
    "\n",
    "# 세트에 추가하기\n",
    "fruits.add('melon')\n",
    "print(fruits) # {'apple', 'melon', 'lemon', 'watermelon'}\n",
    "\n",
    "# 세트에 모든 엘러멘트 추가하기\n",
    "fruits.update(['grape', 'watermelon', 'mango'])\n",
    "print(fruits) # {'melon', 'apple', 'lemon', 'mango', 'grape', 'watermelon'}\n",
    "\n",
    "# 세트에서 제거하기(매개변수로 받은 값이 세트에 없으면 오류가 발생한다.)\n",
    "fruits.remove('grape')\n",
    "print(fruits) # {'apple', 'watermelon', 'lemon', 'mango', 'melon'}\n",
    "# fruits.remove('grape') # KeyError: 'grape'\n",
    "\n",
    "# 세트에서 제거하기(매개변수로 받은 값이 세트에 있으면 삭제한다. 오류가 발생하지 않는다.)\n",
    "fruits.discard('watermelon')\n",
    "print(fruits) # {'lemon', 'melon', 'mango', 'apple'}\n",
    "fruits.discard('watermelon')\n",
    "\n",
    "# 세트에서 무작위로 값을 반환하고 제거한다.\n",
    "print(fruits.pop()) # 무작위로 값이 나오기 때문에 어떤 값이 나올지 모른다.\n",
    "\n",
    "# 세트에서 모든 값을 제거한다.\n",
    "fruits.clear()\n",
    "print(fruits) # set()"
   ]
  },
  {
   "cell_type": "code",
   "execution_count": 29,
   "id": "93456c39",
   "metadata": {},
   "outputs": [
    {
     "name": "stdout",
     "output_type": "stream",
     "text": [
      "True\n",
      "True\n",
      "False\n",
      "False\n",
      "True\n",
      "False\n",
      "{'grape', 'lemon', 'apple'}\n",
      "{'apple'}\n",
      "{'watermelon'}\n",
      "{'watermelon', 'grape', 'lemon'}\n"
     ]
    }
   ],
   "source": [
    "fruits1 = {'apple', 'lemon', 'watermelon', 'apple'}\n",
    "fruits2 = {'apple', 'lemon'}\n",
    "fruits3 = {'apple', 'lemon'}\n",
    "fruits4 = {'apple', 'grape'}\n",
    "\"\"\"\n",
    "비교 연산으로 크다 작다의 개념으로 이해하면 됩니다. subset\n",
    "이하, 이상 --> 같은 경우를 포함\n",
    "초과, 미만 --> 같은 경우는 미포함\n",
    "\"\"\"\n",
    "# fruits1이 fruits2의 상위집합인가?\n",
    "print(fruits1 >= fruits2) # True\n",
    "print(fruits1 > fruits2) # True\n",
    "\n",
    "# fruits1이 fruits2의 부분집합인가?\n",
    "print(fruits1 <= fruits2) # False\n",
    "print(fruits1 < fruits2) # False\n",
    "\n",
    "# fruits2가 fruits3의 상위 집합인가?\n",
    "print(fruits2 >= fruits3) # True\n",
    "# 같은 경우는 False\n",
    "print(fruits2 > fruits3) # False\n",
    "\n",
    "# 합집합\n",
    "print(fruits2 | fruits4) # {'grape', 'lemon', 'apple'}\n",
    "\n",
    "# 교집합\n",
    "print(fruits2 & fruits4) # {'apple'}\n",
    "\n",
    "# 차집합\n",
    "print(fruits1 - fruits2) # {'watermelon'}\n",
    "\n",
    "# 여집합\n",
    "print(fruits1 ^ fruits4) # {'grape', 'watermelon', 'lemon'}"
   ]
  },
  {
   "cell_type": "markdown",
   "id": "2dae3351",
   "metadata": {},
   "source": [
    "#### Dictionary\n",
    "- 다른 언어에서의 Map이라는 오브젝트와 동일한 데이터 구조 입니다. key, value를 쌍으로 구성된 집합입니다. list나 tuple은 인덱스가 숫자의 형태로 되어 있는데 dictionary의 경우 인덱스를 문자형이나 숫자형처럼 immutable한 데이터 타입으로 되어 있습니다. 숫자보다는 문자형으로 key를 사용합니다.\n",
    "- dictionary는 key의 값만 mutable한 데이터 타입으로 지정해주면 됩니다. value로는 숫자형, 문자형과 같은 데이터 타입이나 list, set과 같은 데이터 구조가 들어갈수도 있습니다."
   ]
  },
  {
   "cell_type": "code",
   "execution_count": 31,
   "id": "2a0b9df5",
   "metadata": {},
   "outputs": [
    {
     "name": "stdout",
     "output_type": "stream",
     "text": [
      "tom\n",
      "3\n",
      "['apple', 'watermelon']\n",
      "25\n"
     ]
    }
   ],
   "source": [
    "d = {\n",
    "    'name': 'tom',\n",
    "    'age': 30,\n",
    "    'items': {\n",
    "        'pockets': 3,\n",
    "        'baskets': [\n",
    "            [\n",
    "                'grape',\n",
    "                'lemon'\n",
    "            ],\n",
    "            [\n",
    "                'apple',\n",
    "                'watermelon'\n",
    "            ]\n",
    "        ]\n",
    "    },\n",
    "    1: 25\n",
    "}\n",
    "\n",
    "print(d['name']) # tom\n",
    "print(d['items']['pockets']) # 3\n",
    "print(d['items']['baskets'][1]) # ['apple', 'watermelon']\n",
    "print(d[1]) # 25"
   ]
  },
  {
   "cell_type": "markdown",
   "id": "5076f3f2",
   "metadata": {},
   "source": [
    "##### dict 생성 예제"
   ]
  },
  {
   "cell_type": "code",
   "execution_count": 33,
   "id": "036b3242",
   "metadata": {},
   "outputs": [
    {
     "name": "stdout",
     "output_type": "stream",
     "text": [
      "True\n"
     ]
    }
   ],
   "source": [
    "a = {'name': 'jamong', 'age': 30}\n",
    "b = dict(name='jamong', age=30)\n",
    "c = dict(zip(['name', 'age'], ['jamong', 30]))\n",
    "d = dict([('name', 'jamong'), ('age', 30)])\n",
    "e = dict({'age': 30}, name='jamong')\n",
    "\n",
    "print(a == b == c == d == e) # True"
   ]
  },
  {
   "cell_type": "markdown",
   "id": "c90f2d3c",
   "metadata": {},
   "source": [
    "##### dict 데이터 제어"
   ]
  },
  {
   "cell_type": "code",
   "execution_count": 35,
   "id": "0802bc0f",
   "metadata": {},
   "outputs": [
    {
     "name": "stdout",
     "output_type": "stream",
     "text": [
      "{'name': 'tom', 'age': 30}\n",
      "{'age': 30}\n"
     ]
    }
   ],
   "source": [
    "d = {'name': 'tom'}\n",
    "\n",
    "# dictionary 데이터 추가\n",
    "d['age'] = 30 # {'name': 'tom', 'age': 30}\n",
    "print(d)\n",
    "\n",
    "# dictionary 데이터 삭제\n",
    "del d['name']\n",
    "print(d) # {'age': 30}"
   ]
  },
  {
   "cell_type": "code",
   "execution_count": 1,
   "id": "22775d49",
   "metadata": {},
   "outputs": [
    {
     "name": "stdout",
     "output_type": "stream",
     "text": [
      "True\n",
      "False\n",
      "dict_items([('name', 'tom'), ('age', 30)])\n",
      "dict_keys(['name', 'age'])\n",
      "dict_values(['tom', 30])\n",
      "tom\n",
      "None\n",
      "123\n",
      "{'name': 'tom', 'age': 20}\n",
      "20\n",
      "{'name': 'tom'}\n"
     ]
    },
    {
     "ename": "KeyError",
     "evalue": "'age'",
     "output_type": "error",
     "traceback": [
      "\u001b[0;31m---------------------------------------------------------------------------\u001b[0m",
      "\u001b[0;31mKeyError\u001b[0m                                  Traceback (most recent call last)",
      "Input \u001b[0;32mIn [1]\u001b[0m, in \u001b[0;36m<module>\u001b[0;34m\u001b[0m\n\u001b[1;32m     34\u001b[0m \u001b[38;5;28mprint\u001b[39m(d\u001b[38;5;241m.\u001b[39mpop(\u001b[38;5;124m'\u001b[39m\u001b[38;5;124mage\u001b[39m\u001b[38;5;124m'\u001b[39m)) \u001b[38;5;66;03m# 20\u001b[39;00m\n\u001b[1;32m     35\u001b[0m \u001b[38;5;28mprint\u001b[39m(d) \u001b[38;5;66;03m# {'name': 'tom'}\u001b[39;00m\n\u001b[0;32m---> 36\u001b[0m \u001b[38;5;28mprint\u001b[39m(\u001b[43md\u001b[49m\u001b[38;5;241;43m.\u001b[39;49m\u001b[43mpop\u001b[49m\u001b[43m(\u001b[49m\u001b[38;5;124;43m'\u001b[39;49m\u001b[38;5;124;43mage\u001b[39;49m\u001b[38;5;124;43m'\u001b[39;49m\u001b[43m)\u001b[49m) \u001b[38;5;66;03m# KeyError: 'age'\u001b[39;00m\n\u001b[1;32m     37\u001b[0m \u001b[38;5;28mprint\u001b[39m(d\u001b[38;5;241m.\u001b[39mpop(\u001b[38;5;124m'\u001b[39m\u001b[38;5;124mage\u001b[39m\u001b[38;5;124m'\u001b[39m, \u001b[38;5;241m123\u001b[39m)) \u001b[38;5;66;03m# 123\u001b[39;00m\n\u001b[1;32m     39\u001b[0m \u001b[38;5;66;03m# dictionary 데이터 모두 삭제\u001b[39;00m\n",
      "\u001b[0;31mKeyError\u001b[0m: 'age'"
     ]
    }
   ],
   "source": [
    "d = {\n",
    "    'name': 'tom',\n",
    "    'age': 30\n",
    "}\n",
    "\n",
    "# dictionary에 key의 존재여부 확인\n",
    "print('name' in d) # True\n",
    "print('name' not in d) # False\n",
    "\n",
    "# dictionary (key, value) 형식으로 데이터 추출\n",
    "print(d.items()) # dict_items([('name', 'tom'), ('age', 30)])\n",
    "\n",
    "# dictionary key 값들을 추출한다.\n",
    "print(d.keys()) # dict_keys(['name', 'age'])\n",
    "\n",
    "# dictionary value 값드을 추출한다.\n",
    "print(d.values()) # dict_values(['tom', 30])\n",
    "\n",
    "# dictionary의 value를 key값으로부터 얻을 수 있다.\n",
    "# key가 없는 경우 default로 None을 반환하고 2번째 인자를 지정해주면 해당 값을 반환한다.\n",
    "print(d.get('name')) # tome\n",
    "print(d.get('height')) # None\n",
    "print(d.get('height', 123)) # 123\n",
    "\n",
    "# dictionary의 데이터를 수정한다.\n",
    "# 이미 존재하는 key이면 overwrite하고 없으면 추가한다.\n",
    "d.update({'age': 20})\n",
    "print(d) # {'name': 'tom', 'age': 20}\n",
    "\n",
    "# key에 해당하는 값을 반환하고 dictionary에서 삭제한다.\n",
    "# key가 없으면 오류를 발생시킨다.\n",
    "# 2번째 인가자 지정되어 있으면 오류가 아닌 해당 값을 반환한다.\n",
    "# popitem 함수는 같은 기능이지만 값이 아닌 key:value 아이템을 반환한다.\n",
    "print(d.pop('age')) # 20\n",
    "print(d) # {'name': 'tom'}\n",
    "print(d.pop('age')) # KeyError: 'age'\n",
    "print(d.pop('age', 123)) # 123\n",
    "\n",
    "# dictionary 데이터 모두 삭제\n",
    "d.clear()\n",
    "print(d) # {}"
   ]
  },
  {
   "cell_type": "markdown",
   "id": "9c515a9a",
   "metadata": {},
   "source": [
    "# 데이터 전처리"
   ]
  },
  {
   "cell_type": "markdown",
   "id": "c45b15f8",
   "metadata": {},
   "source": [
    "## 제어문"
   ]
  },
  {
   "cell_type": "markdown",
   "id": "d03a0676",
   "metadata": {},
   "source": [
    "### 조건문"
   ]
  },
  {
   "cell_type": "markdown",
   "id": "cdbb8441",
   "metadata": {},
   "source": [
    "#### if문"
   ]
  },
  {
   "cell_type": "markdown",
   "id": "f08044c5",
   "metadata": {},
   "source": [
    "#### x in s, x not in s\n"
   ]
  },
  {
   "cell_type": "code",
   "execution_count": 3,
   "id": "ebba001c",
   "metadata": {},
   "outputs": [
    {
     "name": "stdout",
     "output_type": "stream",
     "text": [
      "True\n",
      "True\n"
     ]
    }
   ],
   "source": [
    "print('a' in ('a', 'b', 'c'))\n",
    "print('j' not in 'python')"
   ]
  },
  {
   "cell_type": "code",
   "execution_count": 11,
   "id": "3d462ca2",
   "metadata": {},
   "outputs": [
    {
     "name": "stdout",
     "output_type": "stream",
     "text": [
      "카드를 꺼내라\n"
     ]
    }
   ],
   "source": [
    "pocket = ['paper', 'cellphone']\n",
    "if 'money' in pocket:\n",
    "    pass\n",
    "elif 'card' in pocket:\n",
    "    print(\"카드가 없다\")\n",
    "else:\n",
    "    print(\"카드를 꺼내라\")"
   ]
  },
  {
   "cell_type": "markdown",
   "id": "4c1486a2",
   "metadata": {},
   "source": [
    "#### try except 구문"
   ]
  },
  {
   "cell_type": "code",
   "execution_count": 12,
   "id": "13957b58",
   "metadata": {},
   "outputs": [
    {
     "ename": "SyntaxError",
     "evalue": "invalid syntax (1345416884.py, line 3)",
     "output_type": "error",
     "traceback": [
      "\u001b[0;36m  Input \u001b[0;32mIn [12]\u001b[0;36m\u001b[0m\n\u001b[0;31m    except [발생 오류[as 오류 메시지 변수]]:\u001b[0m\n\u001b[0m               ^\u001b[0m\n\u001b[0;31mSyntaxError\u001b[0m\u001b[0;31m:\u001b[0m invalid syntax\n"
     ]
    }
   ],
   "source": [
    "try:\n",
    "    ...\n",
    "except [발생 오류 [as 오류 메시지 변수]]:\n",
    "    ...\n",
    "    \n",
    "# 위 구문을 보면 [ ] 기호를 사용하는데, 이 기호는 괄호 안의 내용을 생략할 수 있다는 관례 표기법이다. 즉 except 구문은 다음 3가지 방법으로 사용할 수 있다."
   ]
  },
  {
   "cell_type": "markdown",
   "id": "1532844a",
   "metadata": {},
   "source": [
    "### 반복문"
   ]
  },
  {
   "cell_type": "markdown",
   "id": "9db77c7c",
   "metadata": {},
   "source": [
    "#### for"
   ]
  },
  {
   "cell_type": "markdown",
   "id": "4217b93d",
   "metadata": {},
   "source": [
    "#### while"
   ]
  },
  {
   "cell_type": "code",
   "execution_count": 13,
   "id": "ab565efc",
   "metadata": {},
   "outputs": [
    {
     "name": "stdout",
     "output_type": "stream",
     "text": [
      "나무를 1번 찍었습니다.\n",
      "나무를 2번 찍었습니다.\n",
      "나무를 3번 찍었습니다.\n",
      "나무를 4번 찍었습니다.\n",
      "나무를 5번 찍었습니다.\n",
      "나무를 6번 찍었습니다.\n",
      "나무를 7번 찍었습니다.\n",
      "나무를 8번 찍었습니다.\n",
      "나무를 9번 찍었습니다.\n",
      "나무를 10번 찍었습니다.\n",
      "나무 넘어갑니다.\n"
     ]
    }
   ],
   "source": [
    "treeHit = 0\n",
    "while treeHit < 10:\n",
    "    treeHit = treeHit +1\n",
    "    print(\"나무를 %d번 찍었습니다.\" % treeHit)\n",
    "    if treeHit == 10:\n",
    "        print(\"나무 넘어갑니다.\")"
   ]
  },
  {
   "cell_type": "code",
   "execution_count": null,
   "id": "61aa1498",
   "metadata": {},
   "outputs": [],
   "source": [
    "coffee = 2\n",
    "\n",
    "while True:\n",
    "    money = int(input(\"돈을 넣어 주세요: \"))\n",
    "    if money == 300:\n",
    "        print(\"커피를 줍니다.\")\n",
    "        coffee = coffee -1\n",
    "    elif money > 300:\n",
    "        print(\"거스름돈 %d를 주고 커피를 줍니다.\" % (money -300))\n",
    "        coffee = coffee -1\n",
    "    else:\n",
    "        print(\"돈을 다시 돌려주고 커피를 주지 않습니다.\")\n",
    "        print(\"남은 커피의 양은 %d개 입니다.\" % coffee)\n",
    "    if coffee == 0:\n",
    "        print(\"커피가 다 떨어졌습니다. 판매를 중지 합니다.\")\n",
    "        break"
   ]
  },
  {
   "cell_type": "markdown",
   "id": "311e2e5f",
   "metadata": {},
   "source": [
    "## 데이터 변환"
   ]
  },
  {
   "cell_type": "markdown",
   "id": "67cbb1ef",
   "metadata": {},
   "source": [
    "### 파생변수 생성"
   ]
  },
  {
   "cell_type": "markdown",
   "id": "9f2e1285",
   "metadata": {},
   "source": [
    "- 파생 데이터 프레임 생성은 꼭 .copy()로 해라\n",
    "- 열 추가, 행 추가 방법 공부\n",
    "    - 조건에 따라 새로운 열(변수)를 추가하는 방법"
   ]
  },
  {
   "cell_type": "markdown",
   "id": "30c0dcb4",
   "metadata": {},
   "source": [
    "문제: iris$ID <- 1:150 을 파이썬으로 써보아라"
   ]
  },
  {
   "cell_type": "code",
   "execution_count": 66,
   "id": "e6f9b1b8",
   "metadata": {},
   "outputs": [],
   "source": [
    "iris = load_iris()"
   ]
  },
  {
   "cell_type": "code",
   "execution_count": 67,
   "id": "e258bc1f",
   "metadata": {},
   "outputs": [],
   "source": [
    "df = pd.DataFrame(iris.data, columns=iris.feature_names)\n",
    "df['class'] = iris.target"
   ]
  },
  {
   "cell_type": "code",
   "execution_count": 68,
   "id": "bb4dd082",
   "metadata": {},
   "outputs": [],
   "source": [
    "df['ID'] = range(len(df))"
   ]
  },
  {
   "cell_type": "code",
   "execution_count": 69,
   "id": "e4a84297",
   "metadata": {},
   "outputs": [],
   "source": [
    "df['ID'] = df['ID'].shift(-1)"
   ]
  },
  {
   "cell_type": "code",
   "execution_count": 70,
   "id": "dd5c39ac",
   "metadata": {},
   "outputs": [
    {
     "data": {
      "text/html": [
       "<div>\n",
       "<style scoped>\n",
       "    .dataframe tbody tr th:only-of-type {\n",
       "        vertical-align: middle;\n",
       "    }\n",
       "\n",
       "    .dataframe tbody tr th {\n",
       "        vertical-align: top;\n",
       "    }\n",
       "\n",
       "    .dataframe thead th {\n",
       "        text-align: right;\n",
       "    }\n",
       "</style>\n",
       "<table border=\"1\" class=\"dataframe\">\n",
       "  <thead>\n",
       "    <tr style=\"text-align: right;\">\n",
       "      <th></th>\n",
       "      <th>sepal length (cm)</th>\n",
       "      <th>sepal width (cm)</th>\n",
       "      <th>petal length (cm)</th>\n",
       "      <th>petal width (cm)</th>\n",
       "      <th>class</th>\n",
       "      <th>ID</th>\n",
       "    </tr>\n",
       "  </thead>\n",
       "  <tbody>\n",
       "    <tr>\n",
       "      <th>0</th>\n",
       "      <td>5.1</td>\n",
       "      <td>3.5</td>\n",
       "      <td>1.4</td>\n",
       "      <td>0.2</td>\n",
       "      <td>0</td>\n",
       "      <td>1.0</td>\n",
       "    </tr>\n",
       "    <tr>\n",
       "      <th>1</th>\n",
       "      <td>4.9</td>\n",
       "      <td>3.0</td>\n",
       "      <td>1.4</td>\n",
       "      <td>0.2</td>\n",
       "      <td>0</td>\n",
       "      <td>2.0</td>\n",
       "    </tr>\n",
       "    <tr>\n",
       "      <th>2</th>\n",
       "      <td>4.7</td>\n",
       "      <td>3.2</td>\n",
       "      <td>1.3</td>\n",
       "      <td>0.2</td>\n",
       "      <td>0</td>\n",
       "      <td>3.0</td>\n",
       "    </tr>\n",
       "    <tr>\n",
       "      <th>3</th>\n",
       "      <td>4.6</td>\n",
       "      <td>3.1</td>\n",
       "      <td>1.5</td>\n",
       "      <td>0.2</td>\n",
       "      <td>0</td>\n",
       "      <td>4.0</td>\n",
       "    </tr>\n",
       "    <tr>\n",
       "      <th>4</th>\n",
       "      <td>5.0</td>\n",
       "      <td>3.6</td>\n",
       "      <td>1.4</td>\n",
       "      <td>0.2</td>\n",
       "      <td>0</td>\n",
       "      <td>5.0</td>\n",
       "    </tr>\n",
       "    <tr>\n",
       "      <th>...</th>\n",
       "      <td>...</td>\n",
       "      <td>...</td>\n",
       "      <td>...</td>\n",
       "      <td>...</td>\n",
       "      <td>...</td>\n",
       "      <td>...</td>\n",
       "    </tr>\n",
       "    <tr>\n",
       "      <th>145</th>\n",
       "      <td>6.7</td>\n",
       "      <td>3.0</td>\n",
       "      <td>5.2</td>\n",
       "      <td>2.3</td>\n",
       "      <td>2</td>\n",
       "      <td>146.0</td>\n",
       "    </tr>\n",
       "    <tr>\n",
       "      <th>146</th>\n",
       "      <td>6.3</td>\n",
       "      <td>2.5</td>\n",
       "      <td>5.0</td>\n",
       "      <td>1.9</td>\n",
       "      <td>2</td>\n",
       "      <td>147.0</td>\n",
       "    </tr>\n",
       "    <tr>\n",
       "      <th>147</th>\n",
       "      <td>6.5</td>\n",
       "      <td>3.0</td>\n",
       "      <td>5.2</td>\n",
       "      <td>2.0</td>\n",
       "      <td>2</td>\n",
       "      <td>148.0</td>\n",
       "    </tr>\n",
       "    <tr>\n",
       "      <th>148</th>\n",
       "      <td>6.2</td>\n",
       "      <td>3.4</td>\n",
       "      <td>5.4</td>\n",
       "      <td>2.3</td>\n",
       "      <td>2</td>\n",
       "      <td>149.0</td>\n",
       "    </tr>\n",
       "    <tr>\n",
       "      <th>149</th>\n",
       "      <td>5.9</td>\n",
       "      <td>3.0</td>\n",
       "      <td>5.1</td>\n",
       "      <td>1.8</td>\n",
       "      <td>2</td>\n",
       "      <td>NaN</td>\n",
       "    </tr>\n",
       "  </tbody>\n",
       "</table>\n",
       "<p>150 rows × 6 columns</p>\n",
       "</div>"
      ],
      "text/plain": [
       "     sepal length (cm)  sepal width (cm)  petal length (cm)  petal width (cm)  \\\n",
       "0                  5.1               3.5                1.4               0.2   \n",
       "1                  4.9               3.0                1.4               0.2   \n",
       "2                  4.7               3.2                1.3               0.2   \n",
       "3                  4.6               3.1                1.5               0.2   \n",
       "4                  5.0               3.6                1.4               0.2   \n",
       "..                 ...               ...                ...               ...   \n",
       "145                6.7               3.0                5.2               2.3   \n",
       "146                6.3               2.5                5.0               1.9   \n",
       "147                6.5               3.0                5.2               2.0   \n",
       "148                6.2               3.4                5.4               2.3   \n",
       "149                5.9               3.0                5.1               1.8   \n",
       "\n",
       "     class     ID  \n",
       "0        0    1.0  \n",
       "1        0    2.0  \n",
       "2        0    3.0  \n",
       "3        0    4.0  \n",
       "4        0    5.0  \n",
       "..     ...    ...  \n",
       "145      2  146.0  \n",
       "146      2  147.0  \n",
       "147      2  148.0  \n",
       "148      2  149.0  \n",
       "149      2    NaN  \n",
       "\n",
       "[150 rows x 6 columns]"
      ]
     },
     "execution_count": 70,
     "metadata": {},
     "output_type": "execute_result"
    }
   ],
   "source": [
    "df"
   ]
  },
  {
   "cell_type": "markdown",
   "id": "39f03714",
   "metadata": {},
   "source": [
    "\n",
    "문제: ID 값이 짝수이면 A, 홀수이면 B로 Group 컬럼을 추가해라"
   ]
  },
  {
   "cell_type": "code",
   "execution_count": 76,
   "id": "67ae8b76",
   "metadata": {},
   "outputs": [
    {
     "data": {
      "text/html": [
       "<div>\n",
       "<style scoped>\n",
       "    .dataframe tbody tr th:only-of-type {\n",
       "        vertical-align: middle;\n",
       "    }\n",
       "\n",
       "    .dataframe tbody tr th {\n",
       "        vertical-align: top;\n",
       "    }\n",
       "\n",
       "    .dataframe thead th {\n",
       "        text-align: right;\n",
       "    }\n",
       "</style>\n",
       "<table border=\"1\" class=\"dataframe\">\n",
       "  <thead>\n",
       "    <tr style=\"text-align: right;\">\n",
       "      <th></th>\n",
       "      <th>sepal length (cm)</th>\n",
       "      <th>sepal width (cm)</th>\n",
       "      <th>petal length (cm)</th>\n",
       "      <th>petal width (cm)</th>\n",
       "      <th>class</th>\n",
       "      <th>ID</th>\n",
       "    </tr>\n",
       "  </thead>\n",
       "  <tbody>\n",
       "    <tr>\n",
       "      <th>0</th>\n",
       "      <td>5.1</td>\n",
       "      <td>3.5</td>\n",
       "      <td>1.4</td>\n",
       "      <td>0.2</td>\n",
       "      <td>0</td>\n",
       "      <td>1.0</td>\n",
       "    </tr>\n",
       "    <tr>\n",
       "      <th>2</th>\n",
       "      <td>4.7</td>\n",
       "      <td>3.2</td>\n",
       "      <td>1.3</td>\n",
       "      <td>0.2</td>\n",
       "      <td>0</td>\n",
       "      <td>3.0</td>\n",
       "    </tr>\n",
       "    <tr>\n",
       "      <th>4</th>\n",
       "      <td>5.0</td>\n",
       "      <td>3.6</td>\n",
       "      <td>1.4</td>\n",
       "      <td>0.2</td>\n",
       "      <td>0</td>\n",
       "      <td>5.0</td>\n",
       "    </tr>\n",
       "    <tr>\n",
       "      <th>6</th>\n",
       "      <td>4.6</td>\n",
       "      <td>3.4</td>\n",
       "      <td>1.4</td>\n",
       "      <td>0.3</td>\n",
       "      <td>0</td>\n",
       "      <td>7.0</td>\n",
       "    </tr>\n",
       "    <tr>\n",
       "      <th>8</th>\n",
       "      <td>4.4</td>\n",
       "      <td>2.9</td>\n",
       "      <td>1.4</td>\n",
       "      <td>0.2</td>\n",
       "      <td>0</td>\n",
       "      <td>9.0</td>\n",
       "    </tr>\n",
       "    <tr>\n",
       "      <th>...</th>\n",
       "      <td>...</td>\n",
       "      <td>...</td>\n",
       "      <td>...</td>\n",
       "      <td>...</td>\n",
       "      <td>...</td>\n",
       "      <td>...</td>\n",
       "    </tr>\n",
       "    <tr>\n",
       "      <th>140</th>\n",
       "      <td>6.7</td>\n",
       "      <td>3.1</td>\n",
       "      <td>5.6</td>\n",
       "      <td>2.4</td>\n",
       "      <td>2</td>\n",
       "      <td>141.0</td>\n",
       "    </tr>\n",
       "    <tr>\n",
       "      <th>142</th>\n",
       "      <td>5.8</td>\n",
       "      <td>2.7</td>\n",
       "      <td>5.1</td>\n",
       "      <td>1.9</td>\n",
       "      <td>2</td>\n",
       "      <td>143.0</td>\n",
       "    </tr>\n",
       "    <tr>\n",
       "      <th>144</th>\n",
       "      <td>6.7</td>\n",
       "      <td>3.3</td>\n",
       "      <td>5.7</td>\n",
       "      <td>2.5</td>\n",
       "      <td>2</td>\n",
       "      <td>145.0</td>\n",
       "    </tr>\n",
       "    <tr>\n",
       "      <th>146</th>\n",
       "      <td>6.3</td>\n",
       "      <td>2.5</td>\n",
       "      <td>5.0</td>\n",
       "      <td>1.9</td>\n",
       "      <td>2</td>\n",
       "      <td>147.0</td>\n",
       "    </tr>\n",
       "    <tr>\n",
       "      <th>148</th>\n",
       "      <td>6.2</td>\n",
       "      <td>3.4</td>\n",
       "      <td>5.4</td>\n",
       "      <td>2.3</td>\n",
       "      <td>2</td>\n",
       "      <td>149.0</td>\n",
       "    </tr>\n",
       "  </tbody>\n",
       "</table>\n",
       "<p>75 rows × 6 columns</p>\n",
       "</div>"
      ],
      "text/plain": [
       "     sepal length (cm)  sepal width (cm)  petal length (cm)  petal width (cm)  \\\n",
       "0                  5.1               3.5                1.4               0.2   \n",
       "2                  4.7               3.2                1.3               0.2   \n",
       "4                  5.0               3.6                1.4               0.2   \n",
       "6                  4.6               3.4                1.4               0.3   \n",
       "8                  4.4               2.9                1.4               0.2   \n",
       "..                 ...               ...                ...               ...   \n",
       "140                6.7               3.1                5.6               2.4   \n",
       "142                5.8               2.7                5.1               1.9   \n",
       "144                6.7               3.3                5.7               2.5   \n",
       "146                6.3               2.5                5.0               1.9   \n",
       "148                6.2               3.4                5.4               2.3   \n",
       "\n",
       "     class     ID  \n",
       "0        0    1.0  \n",
       "2        0    3.0  \n",
       "4        0    5.0  \n",
       "6        0    7.0  \n",
       "8        0    9.0  \n",
       "..     ...    ...  \n",
       "140      2  141.0  \n",
       "142      2  143.0  \n",
       "144      2  145.0  \n",
       "146      2  147.0  \n",
       "148      2  149.0  \n",
       "\n",
       "[75 rows x 6 columns]"
      ]
     },
     "execution_count": 76,
     "metadata": {},
     "output_type": "execute_result"
    }
   ],
   "source": [
    "df.iloc[::2,:]"
   ]
  },
  {
   "cell_type": "code",
   "execution_count": 77,
   "id": "dacaf255",
   "metadata": {},
   "outputs": [
    {
     "data": {
      "text/html": [
       "<div>\n",
       "<style scoped>\n",
       "    .dataframe tbody tr th:only-of-type {\n",
       "        vertical-align: middle;\n",
       "    }\n",
       "\n",
       "    .dataframe tbody tr th {\n",
       "        vertical-align: top;\n",
       "    }\n",
       "\n",
       "    .dataframe thead th {\n",
       "        text-align: right;\n",
       "    }\n",
       "</style>\n",
       "<table border=\"1\" class=\"dataframe\">\n",
       "  <thead>\n",
       "    <tr style=\"text-align: right;\">\n",
       "      <th></th>\n",
       "      <th>sepal length (cm)</th>\n",
       "      <th>sepal width (cm)</th>\n",
       "      <th>petal length (cm)</th>\n",
       "      <th>petal width (cm)</th>\n",
       "      <th>class</th>\n",
       "      <th>ID</th>\n",
       "    </tr>\n",
       "  </thead>\n",
       "  <tbody>\n",
       "    <tr>\n",
       "      <th>1</th>\n",
       "      <td>4.9</td>\n",
       "      <td>3.0</td>\n",
       "      <td>1.4</td>\n",
       "      <td>0.2</td>\n",
       "      <td>0</td>\n",
       "      <td>2.0</td>\n",
       "    </tr>\n",
       "    <tr>\n",
       "      <th>3</th>\n",
       "      <td>4.6</td>\n",
       "      <td>3.1</td>\n",
       "      <td>1.5</td>\n",
       "      <td>0.2</td>\n",
       "      <td>0</td>\n",
       "      <td>4.0</td>\n",
       "    </tr>\n",
       "    <tr>\n",
       "      <th>5</th>\n",
       "      <td>5.4</td>\n",
       "      <td>3.9</td>\n",
       "      <td>1.7</td>\n",
       "      <td>0.4</td>\n",
       "      <td>0</td>\n",
       "      <td>6.0</td>\n",
       "    </tr>\n",
       "    <tr>\n",
       "      <th>7</th>\n",
       "      <td>5.0</td>\n",
       "      <td>3.4</td>\n",
       "      <td>1.5</td>\n",
       "      <td>0.2</td>\n",
       "      <td>0</td>\n",
       "      <td>8.0</td>\n",
       "    </tr>\n",
       "    <tr>\n",
       "      <th>9</th>\n",
       "      <td>4.9</td>\n",
       "      <td>3.1</td>\n",
       "      <td>1.5</td>\n",
       "      <td>0.1</td>\n",
       "      <td>0</td>\n",
       "      <td>10.0</td>\n",
       "    </tr>\n",
       "    <tr>\n",
       "      <th>...</th>\n",
       "      <td>...</td>\n",
       "      <td>...</td>\n",
       "      <td>...</td>\n",
       "      <td>...</td>\n",
       "      <td>...</td>\n",
       "      <td>...</td>\n",
       "    </tr>\n",
       "    <tr>\n",
       "      <th>141</th>\n",
       "      <td>6.9</td>\n",
       "      <td>3.1</td>\n",
       "      <td>5.1</td>\n",
       "      <td>2.3</td>\n",
       "      <td>2</td>\n",
       "      <td>142.0</td>\n",
       "    </tr>\n",
       "    <tr>\n",
       "      <th>143</th>\n",
       "      <td>6.8</td>\n",
       "      <td>3.2</td>\n",
       "      <td>5.9</td>\n",
       "      <td>2.3</td>\n",
       "      <td>2</td>\n",
       "      <td>144.0</td>\n",
       "    </tr>\n",
       "    <tr>\n",
       "      <th>145</th>\n",
       "      <td>6.7</td>\n",
       "      <td>3.0</td>\n",
       "      <td>5.2</td>\n",
       "      <td>2.3</td>\n",
       "      <td>2</td>\n",
       "      <td>146.0</td>\n",
       "    </tr>\n",
       "    <tr>\n",
       "      <th>147</th>\n",
       "      <td>6.5</td>\n",
       "      <td>3.0</td>\n",
       "      <td>5.2</td>\n",
       "      <td>2.0</td>\n",
       "      <td>2</td>\n",
       "      <td>148.0</td>\n",
       "    </tr>\n",
       "    <tr>\n",
       "      <th>149</th>\n",
       "      <td>5.9</td>\n",
       "      <td>3.0</td>\n",
       "      <td>5.1</td>\n",
       "      <td>1.8</td>\n",
       "      <td>2</td>\n",
       "      <td>NaN</td>\n",
       "    </tr>\n",
       "  </tbody>\n",
       "</table>\n",
       "<p>75 rows × 6 columns</p>\n",
       "</div>"
      ],
      "text/plain": [
       "     sepal length (cm)  sepal width (cm)  petal length (cm)  petal width (cm)  \\\n",
       "1                  4.9               3.0                1.4               0.2   \n",
       "3                  4.6               3.1                1.5               0.2   \n",
       "5                  5.4               3.9                1.7               0.4   \n",
       "7                  5.0               3.4                1.5               0.2   \n",
       "9                  4.9               3.1                1.5               0.1   \n",
       "..                 ...               ...                ...               ...   \n",
       "141                6.9               3.1                5.1               2.3   \n",
       "143                6.8               3.2                5.9               2.3   \n",
       "145                6.7               3.0                5.2               2.3   \n",
       "147                6.5               3.0                5.2               2.0   \n",
       "149                5.9               3.0                5.1               1.8   \n",
       "\n",
       "     class     ID  \n",
       "1        0    2.0  \n",
       "3        0    4.0  \n",
       "5        0    6.0  \n",
       "7        0    8.0  \n",
       "9        0   10.0  \n",
       "..     ...    ...  \n",
       "141      2  142.0  \n",
       "143      2  144.0  \n",
       "145      2  146.0  \n",
       "147      2  148.0  \n",
       "149      2    NaN  \n",
       "\n",
       "[75 rows x 6 columns]"
      ]
     },
     "execution_count": 77,
     "metadata": {},
     "output_type": "execute_result"
    }
   ],
   "source": [
    "df.iloc[1::2,:]"
   ]
  },
  {
   "cell_type": "code",
   "execution_count": null,
   "id": "0b8cfbab",
   "metadata": {},
   "outputs": [],
   "source": [
    "df [a:b:c,:]일 때,\n",
    "첫번째 [a:b:c] 부분은 행을 선택하는 부분\n",
    "\n",
    "[:]부분은 열을 고르는 부분\n",
    "[a:b:c] 는 'a 행부터  시작해서, b행까지 선택하고, step은 c'\n",
    "\n",
    "만약 a가 생략되어 있으면 첫행 (0행) 부터 선택\n",
    "만약 b가 생략되어 있으면 끝까지 선택\n",
    "그래서 [1::2]는 '1행부터 끝까지, step(간격)은 2로 두고 선택하기\n",
    "\n",
    "[:]은 모든 행/열을  선택한다는 뜻 (그래서 df2.iloc[:,:]는 df2랑 같음)"
   ]
  },
  {
   "cell_type": "markdown",
   "id": "bde602c5",
   "metadata": {},
   "source": [
    "문제: Sepal.Length 변수와 Petal.Length 변수의 값을 더하여 Sum.Length라는 새로운 변수를 생성해보자"
   ]
  },
  {
   "cell_type": "code",
   "execution_count": 83,
   "id": "02941f08",
   "metadata": {
    "scrolled": false
   },
   "outputs": [
    {
     "data": {
      "text/html": [
       "<div>\n",
       "<style scoped>\n",
       "    .dataframe tbody tr th:only-of-type {\n",
       "        vertical-align: middle;\n",
       "    }\n",
       "\n",
       "    .dataframe tbody tr th {\n",
       "        vertical-align: top;\n",
       "    }\n",
       "\n",
       "    .dataframe thead th {\n",
       "        text-align: right;\n",
       "    }\n",
       "</style>\n",
       "<table border=\"1\" class=\"dataframe\">\n",
       "  <thead>\n",
       "    <tr style=\"text-align: right;\">\n",
       "      <th></th>\n",
       "      <th>sepal length (cm)</th>\n",
       "      <th>sepal width (cm)</th>\n",
       "      <th>petal length (cm)</th>\n",
       "      <th>petal width (cm)</th>\n",
       "      <th>class</th>\n",
       "      <th>ID</th>\n",
       "      <th>Sum.Length</th>\n",
       "    </tr>\n",
       "  </thead>\n",
       "  <tbody>\n",
       "    <tr>\n",
       "      <th>0</th>\n",
       "      <td>5.1</td>\n",
       "      <td>3.5</td>\n",
       "      <td>1.4</td>\n",
       "      <td>0.2</td>\n",
       "      <td>0</td>\n",
       "      <td>1.0</td>\n",
       "      <td>6.5</td>\n",
       "    </tr>\n",
       "    <tr>\n",
       "      <th>1</th>\n",
       "      <td>4.9</td>\n",
       "      <td>3.0</td>\n",
       "      <td>1.4</td>\n",
       "      <td>0.2</td>\n",
       "      <td>0</td>\n",
       "      <td>2.0</td>\n",
       "      <td>6.3</td>\n",
       "    </tr>\n",
       "    <tr>\n",
       "      <th>2</th>\n",
       "      <td>4.7</td>\n",
       "      <td>3.2</td>\n",
       "      <td>1.3</td>\n",
       "      <td>0.2</td>\n",
       "      <td>0</td>\n",
       "      <td>3.0</td>\n",
       "      <td>6.0</td>\n",
       "    </tr>\n",
       "    <tr>\n",
       "      <th>3</th>\n",
       "      <td>4.6</td>\n",
       "      <td>3.1</td>\n",
       "      <td>1.5</td>\n",
       "      <td>0.2</td>\n",
       "      <td>0</td>\n",
       "      <td>4.0</td>\n",
       "      <td>6.1</td>\n",
       "    </tr>\n",
       "    <tr>\n",
       "      <th>4</th>\n",
       "      <td>5.0</td>\n",
       "      <td>3.6</td>\n",
       "      <td>1.4</td>\n",
       "      <td>0.2</td>\n",
       "      <td>0</td>\n",
       "      <td>5.0</td>\n",
       "      <td>6.4</td>\n",
       "    </tr>\n",
       "    <tr>\n",
       "      <th>...</th>\n",
       "      <td>...</td>\n",
       "      <td>...</td>\n",
       "      <td>...</td>\n",
       "      <td>...</td>\n",
       "      <td>...</td>\n",
       "      <td>...</td>\n",
       "      <td>...</td>\n",
       "    </tr>\n",
       "    <tr>\n",
       "      <th>145</th>\n",
       "      <td>6.7</td>\n",
       "      <td>3.0</td>\n",
       "      <td>5.2</td>\n",
       "      <td>2.3</td>\n",
       "      <td>2</td>\n",
       "      <td>146.0</td>\n",
       "      <td>11.9</td>\n",
       "    </tr>\n",
       "    <tr>\n",
       "      <th>146</th>\n",
       "      <td>6.3</td>\n",
       "      <td>2.5</td>\n",
       "      <td>5.0</td>\n",
       "      <td>1.9</td>\n",
       "      <td>2</td>\n",
       "      <td>147.0</td>\n",
       "      <td>11.3</td>\n",
       "    </tr>\n",
       "    <tr>\n",
       "      <th>147</th>\n",
       "      <td>6.5</td>\n",
       "      <td>3.0</td>\n",
       "      <td>5.2</td>\n",
       "      <td>2.0</td>\n",
       "      <td>2</td>\n",
       "      <td>148.0</td>\n",
       "      <td>11.7</td>\n",
       "    </tr>\n",
       "    <tr>\n",
       "      <th>148</th>\n",
       "      <td>6.2</td>\n",
       "      <td>3.4</td>\n",
       "      <td>5.4</td>\n",
       "      <td>2.3</td>\n",
       "      <td>2</td>\n",
       "      <td>149.0</td>\n",
       "      <td>11.6</td>\n",
       "    </tr>\n",
       "    <tr>\n",
       "      <th>149</th>\n",
       "      <td>5.9</td>\n",
       "      <td>3.0</td>\n",
       "      <td>5.1</td>\n",
       "      <td>1.8</td>\n",
       "      <td>2</td>\n",
       "      <td>NaN</td>\n",
       "      <td>11.0</td>\n",
       "    </tr>\n",
       "  </tbody>\n",
       "</table>\n",
       "<p>150 rows × 7 columns</p>\n",
       "</div>"
      ],
      "text/plain": [
       "     sepal length (cm)  sepal width (cm)  petal length (cm)  petal width (cm)  \\\n",
       "0                  5.1               3.5                1.4               0.2   \n",
       "1                  4.9               3.0                1.4               0.2   \n",
       "2                  4.7               3.2                1.3               0.2   \n",
       "3                  4.6               3.1                1.5               0.2   \n",
       "4                  5.0               3.6                1.4               0.2   \n",
       "..                 ...               ...                ...               ...   \n",
       "145                6.7               3.0                5.2               2.3   \n",
       "146                6.3               2.5                5.0               1.9   \n",
       "147                6.5               3.0                5.2               2.0   \n",
       "148                6.2               3.4                5.4               2.3   \n",
       "149                5.9               3.0                5.1               1.8   \n",
       "\n",
       "     class     ID  Sum.Length  \n",
       "0        0    1.0         6.5  \n",
       "1        0    2.0         6.3  \n",
       "2        0    3.0         6.0  \n",
       "3        0    4.0         6.1  \n",
       "4        0    5.0         6.4  \n",
       "..     ...    ...         ...  \n",
       "145      2  146.0        11.9  \n",
       "146      2  147.0        11.3  \n",
       "147      2  148.0        11.7  \n",
       "148      2  149.0        11.6  \n",
       "149      2    NaN        11.0  \n",
       "\n",
       "[150 rows x 7 columns]"
      ]
     },
     "execution_count": 83,
     "metadata": {},
     "output_type": "execute_result"
    }
   ],
   "source": [
    "df['Sum.Length'] = df['sepal length (cm)'] + df['petal length (cm)']\n",
    "df"
   ]
  },
  {
   "cell_type": "markdown",
   "id": "bb3c2782",
   "metadata": {},
   "source": [
    "문제: 점수에 따라 등급을 매겨보자"
   ]
  },
  {
   "cell_type": "code",
   "execution_count": 91,
   "id": "6ba44dbc",
   "metadata": {},
   "outputs": [
    {
     "data": {
      "text/html": [
       "<div>\n",
       "<style scoped>\n",
       "    .dataframe tbody tr th:only-of-type {\n",
       "        vertical-align: middle;\n",
       "    }\n",
       "\n",
       "    .dataframe tbody tr th {\n",
       "        vertical-align: top;\n",
       "    }\n",
       "\n",
       "    .dataframe thead th {\n",
       "        text-align: right;\n",
       "    }\n",
       "</style>\n",
       "<table border=\"1\" class=\"dataframe\">\n",
       "  <thead>\n",
       "    <tr style=\"text-align: right;\">\n",
       "      <th></th>\n",
       "      <th>ID</th>\n",
       "      <th>score</th>\n",
       "    </tr>\n",
       "  </thead>\n",
       "  <tbody>\n",
       "    <tr>\n",
       "      <th>0</th>\n",
       "      <td>s1</td>\n",
       "      <td>55</td>\n",
       "    </tr>\n",
       "    <tr>\n",
       "      <th>1</th>\n",
       "      <td>s2</td>\n",
       "      <td>90</td>\n",
       "    </tr>\n",
       "    <tr>\n",
       "      <th>2</th>\n",
       "      <td>s3</td>\n",
       "      <td>85</td>\n",
       "    </tr>\n",
       "    <tr>\n",
       "      <th>3</th>\n",
       "      <td>s4</td>\n",
       "      <td>71</td>\n",
       "    </tr>\n",
       "    <tr>\n",
       "      <th>4</th>\n",
       "      <td>s5</td>\n",
       "      <td>63</td>\n",
       "    </tr>\n",
       "    <tr>\n",
       "      <th>5</th>\n",
       "      <td>s6</td>\n",
       "      <td>99</td>\n",
       "    </tr>\n",
       "  </tbody>\n",
       "</table>\n",
       "</div>"
      ],
      "text/plain": [
       "   ID  score\n",
       "0  s1     55\n",
       "1  s2     90\n",
       "2  s3     85\n",
       "3  s4     71\n",
       "4  s5     63\n",
       "5  s6     99"
      ]
     },
     "execution_count": 91,
     "metadata": {},
     "output_type": "execute_result"
    }
   ],
   "source": [
    "student_id = ['s1', 's2', 's3', 's4', 's5', 's6']\n",
    "score = [55, 90, 85, 71, 63, 99]\n",
    "df = pd.DataFrame({'ID':student_id, 'score':score})\n",
    "df"
   ]
  },
  {
   "cell_type": "code",
   "execution_count": 94,
   "id": "8fdd719b",
   "metadata": {},
   "outputs": [
    {
     "data": {
      "text/html": [
       "<div>\n",
       "<style scoped>\n",
       "    .dataframe tbody tr th:only-of-type {\n",
       "        vertical-align: middle;\n",
       "    }\n",
       "\n",
       "    .dataframe tbody tr th {\n",
       "        vertical-align: top;\n",
       "    }\n",
       "\n",
       "    .dataframe thead th {\n",
       "        text-align: right;\n",
       "    }\n",
       "</style>\n",
       "<table border=\"1\" class=\"dataframe\">\n",
       "  <thead>\n",
       "    <tr style=\"text-align: right;\">\n",
       "      <th></th>\n",
       "      <th>ID</th>\n",
       "      <th>score</th>\n",
       "      <th>grade</th>\n",
       "    </tr>\n",
       "  </thead>\n",
       "  <tbody>\n",
       "    <tr>\n",
       "      <th>0</th>\n",
       "      <td>s1</td>\n",
       "      <td>55</td>\n",
       "      <td>가</td>\n",
       "    </tr>\n",
       "    <tr>\n",
       "      <th>1</th>\n",
       "      <td>s2</td>\n",
       "      <td>90</td>\n",
       "      <td>수</td>\n",
       "    </tr>\n",
       "    <tr>\n",
       "      <th>2</th>\n",
       "      <td>s3</td>\n",
       "      <td>85</td>\n",
       "      <td>우</td>\n",
       "    </tr>\n",
       "    <tr>\n",
       "      <th>3</th>\n",
       "      <td>s4</td>\n",
       "      <td>71</td>\n",
       "      <td>미</td>\n",
       "    </tr>\n",
       "    <tr>\n",
       "      <th>4</th>\n",
       "      <td>s5</td>\n",
       "      <td>63</td>\n",
       "      <td>양</td>\n",
       "    </tr>\n",
       "    <tr>\n",
       "      <th>5</th>\n",
       "      <td>s6</td>\n",
       "      <td>99</td>\n",
       "      <td>수</td>\n",
       "    </tr>\n",
       "  </tbody>\n",
       "</table>\n",
       "</div>"
      ],
      "text/plain": [
       "   ID  score grade\n",
       "0  s1     55     가\n",
       "1  s2     90     수\n",
       "2  s3     85     우\n",
       "3  s4     71     미\n",
       "4  s5     63     양\n",
       "5  s6     99     수"
      ]
     },
     "execution_count": 94,
     "metadata": {},
     "output_type": "execute_result"
    }
   ],
   "source": [
    "conditionlist = [\n",
    "    (df['score'] < 60) ,\n",
    "    (df['score'] >= 60) & (df['score'] < 70),\n",
    "    (df['score'] >= 70) & (df['score'] < 80),\n",
    "    (df['score'] >= 80) & (df['score'] < 90),\n",
    "    (df['score'] >= 90)]\n",
    "choicelist = ['가', '양', '미', '우', '수']\n",
    "df['grade'] = np.select(conditionlist, choicelist, default='Not Specified')\n",
    "df"
   ]
  },
  {
   "cell_type": "code",
   "execution_count": null,
   "id": "f0db67c2",
   "metadata": {},
   "outputs": [],
   "source": []
  },
  {
   "cell_type": "code",
   "execution_count": null,
   "id": "76fb79b9",
   "metadata": {},
   "outputs": [],
   "source": []
  },
  {
   "cell_type": "markdown",
   "id": "58fd2ae2",
   "metadata": {},
   "source": [
    "### 변수 축소"
   ]
  },
  {
   "cell_type": "markdown",
   "id": "fee0c211",
   "metadata": {},
   "source": [
    "#### 주성분 분석"
   ]
  },
  {
   "cell_type": "markdown",
   "id": "f52770cd",
   "metadata": {},
   "source": [
    "주성분 (변수) 선택 시\n",
    "- 기여율\n",
    "- Scree Plot\n",
    "- 산점도를 활용한 변수간 상관관계 파악\n",
    "- 행렬도 (biplot)"
   ]
  },
  {
   "cell_type": "markdown",
   "id": "f6f760be",
   "metadata": {},
   "source": [
    "##### 1) 데이터 불러오기"
   ]
  },
  {
   "cell_type": "code",
   "execution_count": 96,
   "id": "670d15b7",
   "metadata": {},
   "outputs": [
    {
     "data": {
      "text/html": [
       "<div>\n",
       "<style scoped>\n",
       "    .dataframe tbody tr th:only-of-type {\n",
       "        vertical-align: middle;\n",
       "    }\n",
       "\n",
       "    .dataframe tbody tr th {\n",
       "        vertical-align: top;\n",
       "    }\n",
       "\n",
       "    .dataframe thead th {\n",
       "        text-align: right;\n",
       "    }\n",
       "</style>\n",
       "<table border=\"1\" class=\"dataframe\">\n",
       "  <thead>\n",
       "    <tr style=\"text-align: right;\">\n",
       "      <th></th>\n",
       "      <th>sepal length</th>\n",
       "      <th>sepal width</th>\n",
       "      <th>petal length</th>\n",
       "      <th>petal width</th>\n",
       "      <th>target</th>\n",
       "    </tr>\n",
       "  </thead>\n",
       "  <tbody>\n",
       "    <tr>\n",
       "      <th>0</th>\n",
       "      <td>5.1</td>\n",
       "      <td>3.5</td>\n",
       "      <td>1.4</td>\n",
       "      <td>0.2</td>\n",
       "      <td>Iris-setosa</td>\n",
       "    </tr>\n",
       "    <tr>\n",
       "      <th>1</th>\n",
       "      <td>4.9</td>\n",
       "      <td>3.0</td>\n",
       "      <td>1.4</td>\n",
       "      <td>0.2</td>\n",
       "      <td>Iris-setosa</td>\n",
       "    </tr>\n",
       "    <tr>\n",
       "      <th>2</th>\n",
       "      <td>4.7</td>\n",
       "      <td>3.2</td>\n",
       "      <td>1.3</td>\n",
       "      <td>0.2</td>\n",
       "      <td>Iris-setosa</td>\n",
       "    </tr>\n",
       "    <tr>\n",
       "      <th>3</th>\n",
       "      <td>4.6</td>\n",
       "      <td>3.1</td>\n",
       "      <td>1.5</td>\n",
       "      <td>0.2</td>\n",
       "      <td>Iris-setosa</td>\n",
       "    </tr>\n",
       "    <tr>\n",
       "      <th>4</th>\n",
       "      <td>5.0</td>\n",
       "      <td>3.6</td>\n",
       "      <td>1.4</td>\n",
       "      <td>0.2</td>\n",
       "      <td>Iris-setosa</td>\n",
       "    </tr>\n",
       "  </tbody>\n",
       "</table>\n",
       "</div>"
      ],
      "text/plain": [
       "   sepal length  sepal width  petal length  petal width       target\n",
       "0           5.1          3.5           1.4          0.2  Iris-setosa\n",
       "1           4.9          3.0           1.4          0.2  Iris-setosa\n",
       "2           4.7          3.2           1.3          0.2  Iris-setosa\n",
       "3           4.6          3.1           1.5          0.2  Iris-setosa\n",
       "4           5.0          3.6           1.4          0.2  Iris-setosa"
      ]
     },
     "execution_count": 96,
     "metadata": {},
     "output_type": "execute_result"
    }
   ],
   "source": [
    "url = \"https://archive.ics.uci.edu/ml/machine-learning-databases/iris/iris.data\"\n",
    "df = pd.read_csv(url, names=['sepal length','sepal width','petal length','petal width','target'])\n",
    "df.head()"
   ]
  },
  {
   "cell_type": "markdown",
   "id": "91aa48be",
   "metadata": {},
   "source": [
    "##### 2) 표준화\n",
    "- pca를 하기 전에 데이터 스케일링을 하는 이유는 데이터의 스케일에 따라 주성분의 설명 가능한 분산량이 달라질 수 있기 때문이다.\n",
    "- 따라서, scale을 하지 않으면 변인이 가진 값의 크기에 따라 설명 가능한 분산량이 왜곡될 수 있기 때문에 반드시 표준화를 해주어야 한다. \n",
    "- 또한, 설명 가능한 분산량이 왜곡됨에 따라 아래와 같이 모델 성능이 저하될 수도 있다. "
   ]
  },
  {
   "cell_type": "code",
   "execution_count": 99,
   "id": "d24a6d3d",
   "metadata": {},
   "outputs": [
    {
     "data": {
      "text/plain": [
       "array(['Iris-setosa', 'Iris-versicolor', 'Iris-virginica'], dtype=object)"
      ]
     },
     "execution_count": 99,
     "metadata": {},
     "output_type": "execute_result"
    }
   ],
   "source": [
    "df['target'].unique()"
   ]
  },
  {
   "cell_type": "code",
   "execution_count": 106,
   "id": "bf52bd4c",
   "metadata": {},
   "outputs": [
    {
     "data": {
      "text/html": [
       "<div>\n",
       "<style scoped>\n",
       "    .dataframe tbody tr th:only-of-type {\n",
       "        vertical-align: middle;\n",
       "    }\n",
       "\n",
       "    .dataframe tbody tr th {\n",
       "        vertical-align: top;\n",
       "    }\n",
       "\n",
       "    .dataframe thead th {\n",
       "        text-align: right;\n",
       "    }\n",
       "</style>\n",
       "<table border=\"1\" class=\"dataframe\">\n",
       "  <thead>\n",
       "    <tr style=\"text-align: right;\">\n",
       "      <th></th>\n",
       "      <th>sepal length</th>\n",
       "      <th>sepal width</th>\n",
       "      <th>petal length</th>\n",
       "      <th>petal width</th>\n",
       "    </tr>\n",
       "  </thead>\n",
       "  <tbody>\n",
       "    <tr>\n",
       "      <th>0</th>\n",
       "      <td>-0.900681</td>\n",
       "      <td>1.032057</td>\n",
       "      <td>-1.341272</td>\n",
       "      <td>-1.312977</td>\n",
       "    </tr>\n",
       "    <tr>\n",
       "      <th>1</th>\n",
       "      <td>-1.143017</td>\n",
       "      <td>-0.124958</td>\n",
       "      <td>-1.341272</td>\n",
       "      <td>-1.312977</td>\n",
       "    </tr>\n",
       "    <tr>\n",
       "      <th>2</th>\n",
       "      <td>-1.385353</td>\n",
       "      <td>0.337848</td>\n",
       "      <td>-1.398138</td>\n",
       "      <td>-1.312977</td>\n",
       "    </tr>\n",
       "    <tr>\n",
       "      <th>3</th>\n",
       "      <td>-1.506521</td>\n",
       "      <td>0.106445</td>\n",
       "      <td>-1.284407</td>\n",
       "      <td>-1.312977</td>\n",
       "    </tr>\n",
       "    <tr>\n",
       "      <th>4</th>\n",
       "      <td>-1.021849</td>\n",
       "      <td>1.263460</td>\n",
       "      <td>-1.341272</td>\n",
       "      <td>-1.312977</td>\n",
       "    </tr>\n",
       "  </tbody>\n",
       "</table>\n",
       "</div>"
      ],
      "text/plain": [
       "   sepal length  sepal width  petal length  petal width\n",
       "0     -0.900681     1.032057     -1.341272    -1.312977\n",
       "1     -1.143017    -0.124958     -1.341272    -1.312977\n",
       "2     -1.385353     0.337848     -1.398138    -1.312977\n",
       "3     -1.506521     0.106445     -1.284407    -1.312977\n",
       "4     -1.021849     1.263460     -1.341272    -1.312977"
      ]
     },
     "execution_count": 106,
     "metadata": {},
     "output_type": "execute_result"
    }
   ],
   "source": [
    "from sklearn.preprocessing import StandardScaler  # 표준화 패키지 라이브러리 \n",
    "\n",
    "x = df.drop(['target'], axis=1).values # 독립변인들의 value값만 추출\n",
    "y = df['target'].values # 종속변인 추출\n",
    "\n",
    "x = StandardScaler().fit_transform(x) # x객체에 x를 표준화한 데이터를 저장\n",
    "features = ['sepal length', 'sepal width', 'petal length', 'petal width']\n",
    "pd.DataFrame(x, columns=features).head()"
   ]
  },
  {
   "cell_type": "markdown",
   "id": "02a2df01",
   "metadata": {},
   "source": [
    "##### 3) PCA 실행\n",
    "-  sklearn을 이용한 pca 분석의 가장 핵심적인 요소는 앞서 얘기한 변환된 주성분으로 이루어진 데이터 프레임을 출력하는 것이다. "
   ]
  },
  {
   "cell_type": "code",
   "execution_count": 115,
   "id": "8519ab7c",
   "metadata": {},
   "outputs": [],
   "source": [
    "from sklearn.decomposition import PCA\n",
    "pca = PCA(n_components=2) # 주성분을 몇개로 할지 결정\n",
    "printcipalComponents = pca.fit_transform(x)\n",
    "principalDf = pd.DataFrame(data=printcipalComponents, columns = ['principal component1', 'principal component2'])\n",
    "# 주성분으로 이루어진 데이터 프레임 구성"
   ]
  },
  {
   "cell_type": "code",
   "execution_count": 116,
   "id": "e77bd553",
   "metadata": {},
   "outputs": [
    {
     "data": {
      "text/html": [
       "<div>\n",
       "<style scoped>\n",
       "    .dataframe tbody tr th:only-of-type {\n",
       "        vertical-align: middle;\n",
       "    }\n",
       "\n",
       "    .dataframe tbody tr th {\n",
       "        vertical-align: top;\n",
       "    }\n",
       "\n",
       "    .dataframe thead th {\n",
       "        text-align: right;\n",
       "    }\n",
       "</style>\n",
       "<table border=\"1\" class=\"dataframe\">\n",
       "  <thead>\n",
       "    <tr style=\"text-align: right;\">\n",
       "      <th></th>\n",
       "      <th>principal component1</th>\n",
       "      <th>principal component2</th>\n",
       "    </tr>\n",
       "  </thead>\n",
       "  <tbody>\n",
       "    <tr>\n",
       "      <th>0</th>\n",
       "      <td>-2.264542</td>\n",
       "      <td>0.505704</td>\n",
       "    </tr>\n",
       "    <tr>\n",
       "      <th>1</th>\n",
       "      <td>-2.086426</td>\n",
       "      <td>-0.655405</td>\n",
       "    </tr>\n",
       "    <tr>\n",
       "      <th>2</th>\n",
       "      <td>-2.367950</td>\n",
       "      <td>-0.318477</td>\n",
       "    </tr>\n",
       "    <tr>\n",
       "      <th>3</th>\n",
       "      <td>-2.304197</td>\n",
       "      <td>-0.575368</td>\n",
       "    </tr>\n",
       "    <tr>\n",
       "      <th>4</th>\n",
       "      <td>-2.388777</td>\n",
       "      <td>0.674767</td>\n",
       "    </tr>\n",
       "  </tbody>\n",
       "</table>\n",
       "</div>"
      ],
      "text/plain": [
       "   principal component1  principal component2\n",
       "0             -2.264542              0.505704\n",
       "1             -2.086426             -0.655405\n",
       "2             -2.367950             -0.318477\n",
       "3             -2.304197             -0.575368\n",
       "4             -2.388777              0.674767"
      ]
     },
     "execution_count": 116,
     "metadata": {},
     "output_type": "execute_result"
    }
   ],
   "source": [
    "principalDf.head()"
   ]
  },
  {
   "cell_type": "markdown",
   "id": "68d2575a",
   "metadata": {},
   "source": [
    "- 위 소스 코드의 핵심은 PCA의 파라미터 주성분 개수(n_components)를 결정하여 개수에 맞는 원래 데이터에서 변환된 주성분을 추출하는 것이다. 본 글에서는 주성분을 2개로 결정하였다. \n",
    "- 그렇다면, 여기서 다시 한번 궁금증이 생길 것이다.\n",
    "- 도대체 어떤 이유를 근거로 주성분을 2개로 결정하는가? \n",
    "- 여기에 대한 근거로 다음의 그래프를 들 수 있다.\n",
    "\n",
    "##### https://m.blog.naver.com/tjdrud1323/221720259834\n",
    "\n",
    "- PCA를 단계적으로 진행할 경우, 공분산 행렬을 통해 고윳값(eigenvalue)과 고유벡터(eigenvector)를 구할 수 있다. \n",
    "- 이때, 고윳값이 설명 가능한 분산량에 해당한다. \n",
    "- 위의 그래프는 주성분 각각의 고윳값을 고윳값들을 모두 더한 값으로 나눠 준 것이다. (그래프 작성법은 링크를 참조하세요)\n",
    "- 즉, 전체에서 해당 주성분의 고윳값이 차지하는 비율을 알아보는 것이다. \n",
    "- 그래서, 그 비율을 가지고 다음과 같은 표현을 하는 것이다.\n",
    "- 본 그래프에서 주성분 6개일 때, 누적 설명 분산량이 73%이기 때문에 주성분을 6개로 결정하였다."
   ]
  },
  {
   "cell_type": "code",
   "execution_count": 117,
   "id": "d558419e",
   "metadata": {},
   "outputs": [
    {
     "data": {
      "text/plain": [
       "array([0.72770452, 0.23030523])"
      ]
     },
     "execution_count": 117,
     "metadata": {},
     "output_type": "execute_result"
    }
   ],
   "source": [
    "pca.explained_variance_ratio_"
   ]
  },
  {
   "cell_type": "code",
   "execution_count": 118,
   "id": "5fe25532",
   "metadata": {},
   "outputs": [
    {
     "data": {
      "text/plain": [
       "0.9580097536148198"
      ]
     },
     "execution_count": 118,
     "metadata": {},
     "output_type": "execute_result"
    }
   ],
   "source": [
    "sum(pca.explained_variance_ratio_)"
   ]
  },
  {
   "cell_type": "markdown",
   "id": "60e0b2fe",
   "metadata": {},
   "source": [
    "- sklearn에서 언더바(_)는 분석이 진행된 이후의 결과 값을 나타낸다.\n",
    "- pca에서 위와 같은 코드로 간단하게 내가 설정한 주성분의 개수(n_components)로 전체 데이터의 분산을 얼마만큼 \n",
    "- 설명 가능한지 알 수 있다. \n",
    "- 본 데이터의 경우 두 개의 주성분이 전체 분산의 약 96%를 설명한다. "
   ]
  },
  {
   "cell_type": "code",
   "execution_count": 119,
   "id": "6d4caaaa",
   "metadata": {},
   "outputs": [],
   "source": [
    "# 혹시나 궁금하신 분들을 위해 n_components=3으로 분석을 진행해봤다. \n",
    "# 분석 결과, 3번째 주성분의 분산 설명량은 0.03밖에 되지 않는 것을 알 수 있다. \n",
    "# 따라서, 추가적인 주성분을 투입하더라도 설명 가능한 분산량이 얼마 증가하지 않기 때문에 \n",
    "# 주성분은 두 개로 결정하는 것이 적절하다고 할 수 있다. \n",
    "\n",
    "# pca = PCA(n_components=3)\n",
    "# printcipalComponents = pca.fit_transform(x)\n",
    "# principalDf = pd.DataFrame(data=printcipalComponents, columns = ['principal component1', 'principal component2', '3'])\n",
    "# pca.explained_variance_ratio_"
   ]
  },
  {
   "cell_type": "code",
   "execution_count": 121,
   "id": "87a5db2f",
   "metadata": {},
   "outputs": [
    {
     "data": {
      "text/html": [
       "<div>\n",
       "<style scoped>\n",
       "    .dataframe tbody tr th:only-of-type {\n",
       "        vertical-align: middle;\n",
       "    }\n",
       "\n",
       "    .dataframe tbody tr th {\n",
       "        vertical-align: top;\n",
       "    }\n",
       "\n",
       "    .dataframe thead th {\n",
       "        text-align: right;\n",
       "    }\n",
       "</style>\n",
       "<table border=\"1\" class=\"dataframe\">\n",
       "  <thead>\n",
       "    <tr style=\"text-align: right;\">\n",
       "      <th></th>\n",
       "      <th>principal component1</th>\n",
       "      <th>principal component2</th>\n",
       "    </tr>\n",
       "  </thead>\n",
       "  <tbody>\n",
       "    <tr>\n",
       "      <th>0</th>\n",
       "      <td>-2.264542</td>\n",
       "      <td>0.505704</td>\n",
       "    </tr>\n",
       "    <tr>\n",
       "      <th>1</th>\n",
       "      <td>-2.086426</td>\n",
       "      <td>-0.655405</td>\n",
       "    </tr>\n",
       "    <tr>\n",
       "      <th>2</th>\n",
       "      <td>-2.367950</td>\n",
       "      <td>-0.318477</td>\n",
       "    </tr>\n",
       "    <tr>\n",
       "      <th>3</th>\n",
       "      <td>-2.304197</td>\n",
       "      <td>-0.575368</td>\n",
       "    </tr>\n",
       "    <tr>\n",
       "      <th>4</th>\n",
       "      <td>-2.388777</td>\n",
       "      <td>0.674767</td>\n",
       "    </tr>\n",
       "    <tr>\n",
       "      <th>...</th>\n",
       "      <td>...</td>\n",
       "      <td>...</td>\n",
       "    </tr>\n",
       "    <tr>\n",
       "      <th>145</th>\n",
       "      <td>1.870522</td>\n",
       "      <td>0.382822</td>\n",
       "    </tr>\n",
       "    <tr>\n",
       "      <th>146</th>\n",
       "      <td>1.558492</td>\n",
       "      <td>-0.905314</td>\n",
       "    </tr>\n",
       "    <tr>\n",
       "      <th>147</th>\n",
       "      <td>1.520845</td>\n",
       "      <td>0.266795</td>\n",
       "    </tr>\n",
       "    <tr>\n",
       "      <th>148</th>\n",
       "      <td>1.376391</td>\n",
       "      <td>1.016362</td>\n",
       "    </tr>\n",
       "    <tr>\n",
       "      <th>149</th>\n",
       "      <td>0.959299</td>\n",
       "      <td>-0.022284</td>\n",
       "    </tr>\n",
       "  </tbody>\n",
       "</table>\n",
       "<p>150 rows × 2 columns</p>\n",
       "</div>"
      ],
      "text/plain": [
       "     principal component1  principal component2\n",
       "0               -2.264542              0.505704\n",
       "1               -2.086426             -0.655405\n",
       "2               -2.367950             -0.318477\n",
       "3               -2.304197             -0.575368\n",
       "4               -2.388777              0.674767\n",
       "..                    ...                   ...\n",
       "145              1.870522              0.382822\n",
       "146              1.558492             -0.905314\n",
       "147              1.520845              0.266795\n",
       "148              1.376391              1.016362\n",
       "149              0.959299             -0.022284\n",
       "\n",
       "[150 rows x 2 columns]"
      ]
     },
     "execution_count": 121,
     "metadata": {},
     "output_type": "execute_result"
    }
   ],
   "source": [
    "principalDf"
   ]
  },
  {
   "cell_type": "code",
   "execution_count": 125,
   "id": "be76099a",
   "metadata": {
    "scrolled": true
   },
   "outputs": [
    {
     "data": {
      "image/png": "[encoded data removed]",
      "text/plain": [
       "<Figure size 576x576 with 1 Axes>"
      ]
     },
     "metadata": {
      "needs_background": "light"
     },
     "output_type": "display_data"
    }
   ],
   "source": [
    "import matplotlib.pyplot as plt\n",
    "\n",
    "fig = plt.figure(figsize = (8, 8))\n",
    "ax = fig.add_subplot(1, 1, 1)\n",
    "ax.set_xlabel('Principal Component 1', fontsize = 15)\n",
    "ax.set_ylabel('Principal Component 2', fontsize = 15)\n",
    "ax.set_title('2 component PCA', fontsize=20)\n",
    "\n",
    "targets = ['Iris-setosa', 'Iris-versicolor', 'Iris-virginica']\n",
    "colors = ['r', 'g', 'b']\n",
    "finalDf = pd.concat([principalDf, df[['target']]], axis = 1)\n",
    "for target, color in zip(targets,colors):\n",
    "    indicesToKeep = finalDf['target'] == target\n",
    "    ax.scatter(finalDf.loc[indicesToKeep, 'principal component1']\n",
    "               , finalDf.loc[indicesToKeep, 'principal component2']\n",
    "               , c = color\n",
    "               , s = 50)\n",
    "ax.legend(targets)\n",
    "ax.grid()"
   ]
  },
  {
   "cell_type": "markdown",
   "id": "3b6c0d34",
   "metadata": {},
   "source": [
    "##### 스크리 플롯 그리기"
   ]
  },
  {
   "cell_type": "code",
   "execution_count": 127,
   "id": "cd95d36d",
   "metadata": {},
   "outputs": [
    {
     "data": {
      "image/png": "[encoded data removed]",
      "text/plain": [
       "<Figure size 432x288 with 1 Axes>"
      ]
     },
     "metadata": {
      "needs_background": "light"
     },
     "output_type": "display_data"
    }
   ],
   "source": [
    "def scree_plot(pca):\n",
    "    num_components = len(pca.explained_variance_ratio_)\n",
    "    ind = np.arange(num_components)\n",
    "    vals = pca.explained_variance_ratio_ \n",
    "    \n",
    "    ax = plt.subplot()\n",
    "    cumvals = np.cumsum(vals)\n",
    "    ax.bar(ind, vals, color = ['#00da75', '#f1c40f',  '#ff6f15', '#3498db']) # Bar plot\n",
    "    ax.plot(ind, cumvals, color = '#c0392b') # Line plot \n",
    "    \n",
    "    for i in range(num_components): #라벨링(바 위에 텍스트(annotation) 쓰기)\n",
    "        ax.annotate(r\"%s\" % ((str(vals[i]*100)[:3])), (ind[i], vals[i]), va = \"bottom\", ha = \"center\", fontsize = 13)\n",
    "    \n",
    "    ax.set_xlabel(\"PC\")\n",
    "    ax.set_ylabel(\"Variance\")\n",
    "    plt.title('Scree plot')\n",
    "    \n",
    "scree_plot(pca)"
   ]
  },
  {
   "cell_type": "markdown",
   "id": "954a614d",
   "metadata": {},
   "source": [
    "##### 행렬도"
   ]
  },
  {
   "cell_type": "code",
   "execution_count": null,
   "id": "8f4f437f",
   "metadata": {},
   "outputs": [],
   "source": []
  },
  {
   "cell_type": "markdown",
   "id": "264c1da9",
   "metadata": {},
   "source": [
    "#### 요인 분석"
   ]
  },
  {
   "cell_type": "markdown",
   "id": "28ae703c",
   "metadata": {},
   "source": [
    "- 요인 분석(Factor Analysis, FA)은 관측된 변수 집합에서 영향력 있는 기본 요인 또는 잠재 요인을 검색하는 데 사용되는 탐색적 데이터 분석 방법이다. 전체 데이터를 설명하는 변수의 수를 줄여 데이터 해석에 도움이 된다. 모든 변수에서 최대 공통 분산을 추출하여 공통 점수에 넣는다.\n",
    "- 요인 분석은 시장 조사, 광고, 심리, 금융 및 운영 연구에 널리 사용된다. 마켓 리서처는 가격에 민감한 고객을 파악하고, 소비자 선택에 영향을 미치는 브랜드 특징을 식별하며, 유통 채널의 채널 선택 기준을 이해하는 데 도움을 준다."
   ]
  },
  {
   "cell_type": "markdown",
   "id": "b4328026",
   "metadata": {},
   "source": [
    "요인 분석 절차\n",
    "1) 데이터 입력\n",
    "2) 상관계수 산출\n",
    "3) 요인추출\n",
    "4) 요인 적재량 산출\n",
    "5) 요익 회전\n",
    "6) 생성된 요인 해석\n",
    "7) 요인점수 산출"
   ]
  },
  {
   "cell_type": "markdown",
   "id": "bd2d2f01",
   "metadata": {},
   "source": [
    "요인 분석 vs 주성분 분석(PCA)\n",
    "- PCA는 최대 분산 양을 설명하는 반면 요인 분석은 데이터의 공분산을 설명한다.\n",
    "- PCA는 서로 완전히 직교하지만 요인 분석에서는 요인이 직교할 필요가 없다.\n",
    "- PCA는 관측된 변수의 선형 조합인 반면 요인 분석에서 관측된 변수는 관측되지 않은 변수 또는 요인의 선형 조합이다.\n",
    "- PCA 구성 요소는 해석할 수 없는 반면 요인 분석에서 기본 요인은 레이블링 및 해석 가능하다.\n",
    "- PCA는 일종의 차원 축소 방법인 반면 요인 분석은 잠재 변수 방법이다.\n",
    "- PCA는 요인 분석의 한 유형이다. FA는 모델링 기술인 반면 PCA는 관찰 기술이다."
   ]
  },
  {
   "cell_type": "markdown",
   "id": "c504eb04",
   "metadata": {},
   "source": [
    "##### 데이터 로드"
   ]
  },
  {
   "cell_type": "code",
   "execution_count": 30,
   "id": "bbd8c813",
   "metadata": {},
   "outputs": [
    {
     "data": {
      "text/html": [
       "<div>\n",
       "<style scoped>\n",
       "    .dataframe tbody tr th:only-of-type {\n",
       "        vertical-align: middle;\n",
       "    }\n",
       "\n",
       "    .dataframe tbody tr th {\n",
       "        vertical-align: top;\n",
       "    }\n",
       "\n",
       "    .dataframe thead th {\n",
       "        text-align: right;\n",
       "    }\n",
       "</style>\n",
       "<table border=\"1\" class=\"dataframe\">\n",
       "  <thead>\n",
       "    <tr style=\"text-align: right;\">\n",
       "      <th></th>\n",
       "      <th>Unnamed: 0</th>\n",
       "      <th>A1</th>\n",
       "      <th>A2</th>\n",
       "      <th>A3</th>\n",
       "      <th>A4</th>\n",
       "      <th>A5</th>\n",
       "      <th>C1</th>\n",
       "      <th>C2</th>\n",
       "      <th>C3</th>\n",
       "      <th>C4</th>\n",
       "      <th>...</th>\n",
       "      <th>N4</th>\n",
       "      <th>N5</th>\n",
       "      <th>O1</th>\n",
       "      <th>O2</th>\n",
       "      <th>O3</th>\n",
       "      <th>O4</th>\n",
       "      <th>O5</th>\n",
       "      <th>gender</th>\n",
       "      <th>education</th>\n",
       "      <th>age</th>\n",
       "    </tr>\n",
       "  </thead>\n",
       "  <tbody>\n",
       "    <tr>\n",
       "      <th>0</th>\n",
       "      <td>61617</td>\n",
       "      <td>2.0</td>\n",
       "      <td>4.0</td>\n",
       "      <td>3.0</td>\n",
       "      <td>4.0</td>\n",
       "      <td>4.0</td>\n",
       "      <td>2.0</td>\n",
       "      <td>3.0</td>\n",
       "      <td>3.0</td>\n",
       "      <td>4.0</td>\n",
       "      <td>...</td>\n",
       "      <td>2.0</td>\n",
       "      <td>3.0</td>\n",
       "      <td>3.0</td>\n",
       "      <td>6</td>\n",
       "      <td>3.0</td>\n",
       "      <td>4.0</td>\n",
       "      <td>3.0</td>\n",
       "      <td>1</td>\n",
       "      <td>NaN</td>\n",
       "      <td>16</td>\n",
       "    </tr>\n",
       "    <tr>\n",
       "      <th>1</th>\n",
       "      <td>61618</td>\n",
       "      <td>2.0</td>\n",
       "      <td>4.0</td>\n",
       "      <td>5.0</td>\n",
       "      <td>2.0</td>\n",
       "      <td>5.0</td>\n",
       "      <td>5.0</td>\n",
       "      <td>4.0</td>\n",
       "      <td>4.0</td>\n",
       "      <td>3.0</td>\n",
       "      <td>...</td>\n",
       "      <td>5.0</td>\n",
       "      <td>5.0</td>\n",
       "      <td>4.0</td>\n",
       "      <td>2</td>\n",
       "      <td>4.0</td>\n",
       "      <td>3.0</td>\n",
       "      <td>3.0</td>\n",
       "      <td>2</td>\n",
       "      <td>NaN</td>\n",
       "      <td>18</td>\n",
       "    </tr>\n",
       "    <tr>\n",
       "      <th>2</th>\n",
       "      <td>61620</td>\n",
       "      <td>5.0</td>\n",
       "      <td>4.0</td>\n",
       "      <td>5.0</td>\n",
       "      <td>4.0</td>\n",
       "      <td>4.0</td>\n",
       "      <td>4.0</td>\n",
       "      <td>5.0</td>\n",
       "      <td>4.0</td>\n",
       "      <td>2.0</td>\n",
       "      <td>...</td>\n",
       "      <td>2.0</td>\n",
       "      <td>3.0</td>\n",
       "      <td>4.0</td>\n",
       "      <td>2</td>\n",
       "      <td>5.0</td>\n",
       "      <td>5.0</td>\n",
       "      <td>2.0</td>\n",
       "      <td>2</td>\n",
       "      <td>NaN</td>\n",
       "      <td>17</td>\n",
       "    </tr>\n",
       "  </tbody>\n",
       "</table>\n",
       "<p>3 rows × 29 columns</p>\n",
       "</div>"
      ],
      "text/plain": [
       "   Unnamed: 0   A1   A2   A3   A4   A5   C1   C2   C3   C4  ...   N4   N5  \\\n",
       "0       61617  2.0  4.0  3.0  4.0  4.0  2.0  3.0  3.0  4.0  ...  2.0  3.0   \n",
       "1       61618  2.0  4.0  5.0  2.0  5.0  5.0  4.0  4.0  3.0  ...  5.0  5.0   \n",
       "2       61620  5.0  4.0  5.0  4.0  4.0  4.0  5.0  4.0  2.0  ...  2.0  3.0   \n",
       "\n",
       "    O1  O2   O3   O4   O5  gender  education  age  \n",
       "0  3.0   6  3.0  4.0  3.0       1        NaN   16  \n",
       "1  4.0   2  4.0  3.0  3.0       2        NaN   18  \n",
       "2  4.0   2  5.0  5.0  2.0       2        NaN   17  \n",
       "\n",
       "[3 rows x 29 columns]"
      ]
     },
     "execution_count": 30,
     "metadata": {},
     "output_type": "execute_result"
    }
   ],
   "source": [
    "# 매우 부정확 1점, 약간 부정확 2점, 약간 정확 3점, 중간 정확 5점, 매우 정확 6점의 응답 척도를 사용하여 수집된\n",
    "# BFI(인성 평가 프로젝트 기반 데이터 세트)에 대한 인자 분석을 수행해보자.\n",
    "\n",
    "df = pd.read_csv('bfi.csv')\n",
    "df.head(3)"
   ]
  },
  {
   "cell_type": "markdown",
   "id": "4b4e01b7",
   "metadata": {},
   "source": [
    "##### 데이터 전처리"
   ]
  },
  {
   "cell_type": "code",
   "execution_count": 31,
   "id": "63bc0c6e",
   "metadata": {},
   "outputs": [
    {
     "data": {
      "text/plain": [
       "Index(['Unnamed: 0', 'A1', 'A2', 'A3', 'A4', 'A5', 'C1', 'C2', 'C3', 'C4',\n",
       "       'C5', 'E1', 'E2', 'E3', 'E4', 'E5', 'N1', 'N2', 'N3', 'N4', 'N5', 'O1',\n",
       "       'O2', 'O3', 'O4', 'O5', 'gender', 'education', 'age'],\n",
       "      dtype='object')"
      ]
     },
     "execution_count": 31,
     "metadata": {},
     "output_type": "execute_result"
    }
   ],
   "source": [
    "df.columns"
   ]
  },
  {
   "cell_type": "code",
   "execution_count": 32,
   "id": "4bdded61",
   "metadata": {},
   "outputs": [],
   "source": [
    "# Dropping unnecessary columns\n",
    "df.drop(['gender', 'education', 'age'],axis=1,inplace=True)"
   ]
  },
  {
   "cell_type": "code",
   "execution_count": 33,
   "id": "63950d13",
   "metadata": {},
   "outputs": [
    {
     "name": "stdout",
     "output_type": "stream",
     "text": [
      "<class 'pandas.core.frame.DataFrame'>\n",
      "Int64Index: 2436 entries, 0 to 2799\n",
      "Data columns (total 26 columns):\n",
      " #   Column      Non-Null Count  Dtype  \n",
      "---  ------      --------------  -----  \n",
      " 0   Unnamed: 0  2436 non-null   int64  \n",
      " 1   A1          2436 non-null   float64\n",
      " 2   A2          2436 non-null   float64\n",
      " 3   A3          2436 non-null   float64\n",
      " 4   A4          2436 non-null   float64\n",
      " 5   A5          2436 non-null   float64\n",
      " 6   C1          2436 non-null   float64\n",
      " 7   C2          2436 non-null   float64\n",
      " 8   C3          2436 non-null   float64\n",
      " 9   C4          2436 non-null   float64\n",
      " 10  C5          2436 non-null   float64\n",
      " 11  E1          2436 non-null   float64\n",
      " 12  E2          2436 non-null   float64\n",
      " 13  E3          2436 non-null   float64\n",
      " 14  E4          2436 non-null   float64\n",
      " 15  E5          2436 non-null   float64\n",
      " 16  N1          2436 non-null   float64\n",
      " 17  N2          2436 non-null   float64\n",
      " 18  N3          2436 non-null   float64\n",
      " 19  N4          2436 non-null   float64\n",
      " 20  N5          2436 non-null   float64\n",
      " 21  O1          2436 non-null   float64\n",
      " 22  O2          2436 non-null   int64  \n",
      " 23  O3          2436 non-null   float64\n",
      " 24  O4          2436 non-null   float64\n",
      " 25  O5          2436 non-null   float64\n",
      "dtypes: float64(24), int64(2)\n",
      "memory usage: 513.8 KB\n"
     ]
    }
   ],
   "source": [
    "# Dropping missing values rows\n",
    "df.dropna(inplace=True)\n",
    "df.info()"
   ]
  },
  {
   "cell_type": "code",
   "execution_count": 34,
   "id": "187ea629",
   "metadata": {},
   "outputs": [
    {
     "data": {
      "text/html": [
       "<div>\n",
       "<style scoped>\n",
       "    .dataframe tbody tr th:only-of-type {\n",
       "        vertical-align: middle;\n",
       "    }\n",
       "\n",
       "    .dataframe tbody tr th {\n",
       "        vertical-align: top;\n",
       "    }\n",
       "\n",
       "    .dataframe thead th {\n",
       "        text-align: right;\n",
       "    }\n",
       "</style>\n",
       "<table border=\"1\" class=\"dataframe\">\n",
       "  <thead>\n",
       "    <tr style=\"text-align: right;\">\n",
       "      <th></th>\n",
       "      <th>Unnamed: 0</th>\n",
       "      <th>A1</th>\n",
       "      <th>A2</th>\n",
       "      <th>A3</th>\n",
       "      <th>A4</th>\n",
       "      <th>A5</th>\n",
       "      <th>C1</th>\n",
       "      <th>C2</th>\n",
       "      <th>C3</th>\n",
       "      <th>C4</th>\n",
       "      <th>...</th>\n",
       "      <th>N1</th>\n",
       "      <th>N2</th>\n",
       "      <th>N3</th>\n",
       "      <th>N4</th>\n",
       "      <th>N5</th>\n",
       "      <th>O1</th>\n",
       "      <th>O2</th>\n",
       "      <th>O3</th>\n",
       "      <th>O4</th>\n",
       "      <th>O5</th>\n",
       "    </tr>\n",
       "  </thead>\n",
       "  <tbody>\n",
       "    <tr>\n",
       "      <th>0</th>\n",
       "      <td>61617</td>\n",
       "      <td>2.0</td>\n",
       "      <td>4.0</td>\n",
       "      <td>3.0</td>\n",
       "      <td>4.0</td>\n",
       "      <td>4.0</td>\n",
       "      <td>2.0</td>\n",
       "      <td>3.0</td>\n",
       "      <td>3.0</td>\n",
       "      <td>4.0</td>\n",
       "      <td>...</td>\n",
       "      <td>3.0</td>\n",
       "      <td>4.0</td>\n",
       "      <td>2.0</td>\n",
       "      <td>2.0</td>\n",
       "      <td>3.0</td>\n",
       "      <td>3.0</td>\n",
       "      <td>6</td>\n",
       "      <td>3.0</td>\n",
       "      <td>4.0</td>\n",
       "      <td>3.0</td>\n",
       "    </tr>\n",
       "    <tr>\n",
       "      <th>1</th>\n",
       "      <td>61618</td>\n",
       "      <td>2.0</td>\n",
       "      <td>4.0</td>\n",
       "      <td>5.0</td>\n",
       "      <td>2.0</td>\n",
       "      <td>5.0</td>\n",
       "      <td>5.0</td>\n",
       "      <td>4.0</td>\n",
       "      <td>4.0</td>\n",
       "      <td>3.0</td>\n",
       "      <td>...</td>\n",
       "      <td>3.0</td>\n",
       "      <td>3.0</td>\n",
       "      <td>3.0</td>\n",
       "      <td>5.0</td>\n",
       "      <td>5.0</td>\n",
       "      <td>4.0</td>\n",
       "      <td>2</td>\n",
       "      <td>4.0</td>\n",
       "      <td>3.0</td>\n",
       "      <td>3.0</td>\n",
       "    </tr>\n",
       "    <tr>\n",
       "      <th>2</th>\n",
       "      <td>61620</td>\n",
       "      <td>5.0</td>\n",
       "      <td>4.0</td>\n",
       "      <td>5.0</td>\n",
       "      <td>4.0</td>\n",
       "      <td>4.0</td>\n",
       "      <td>4.0</td>\n",
       "      <td>5.0</td>\n",
       "      <td>4.0</td>\n",
       "      <td>2.0</td>\n",
       "      <td>...</td>\n",
       "      <td>4.0</td>\n",
       "      <td>5.0</td>\n",
       "      <td>4.0</td>\n",
       "      <td>2.0</td>\n",
       "      <td>3.0</td>\n",
       "      <td>4.0</td>\n",
       "      <td>2</td>\n",
       "      <td>5.0</td>\n",
       "      <td>5.0</td>\n",
       "      <td>2.0</td>\n",
       "    </tr>\n",
       "  </tbody>\n",
       "</table>\n",
       "<p>3 rows × 26 columns</p>\n",
       "</div>"
      ],
      "text/plain": [
       "   Unnamed: 0   A1   A2   A3   A4   A5   C1   C2   C3   C4  ...   N1   N2  \\\n",
       "0       61617  2.0  4.0  3.0  4.0  4.0  2.0  3.0  3.0  4.0  ...  3.0  4.0   \n",
       "1       61618  2.0  4.0  5.0  2.0  5.0  5.0  4.0  4.0  3.0  ...  3.0  3.0   \n",
       "2       61620  5.0  4.0  5.0  4.0  4.0  4.0  5.0  4.0  2.0  ...  4.0  5.0   \n",
       "\n",
       "    N3   N4   N5   O1  O2   O3   O4   O5  \n",
       "0  2.0  2.0  3.0  3.0   6  3.0  4.0  3.0  \n",
       "1  3.0  5.0  5.0  4.0   2  4.0  3.0  3.0  \n",
       "2  4.0  2.0  3.0  4.0   2  5.0  5.0  2.0  \n",
       "\n",
       "[3 rows x 26 columns]"
      ]
     },
     "execution_count": 34,
     "metadata": {},
     "output_type": "execute_result"
    }
   ],
   "source": [
    "df.head(3)"
   ]
  },
  {
   "cell_type": "markdown",
   "id": "c41cff6f",
   "metadata": {},
   "source": [
    "##### 적합성 검정\n",
    "- 요인 분석을 수행하기 전에 데이터 세트의 “인자 가능성”을 평가해야 합니다. 요인 분석 가능성은 “데이터 세트에서 요인을 찾을 수 있는가?”를 의미한다. 요인 분석 가능성 또는 표본 추출 적합성을 확인하는 두 가지 방법이 있다.\n"
   ]
  },
  {
   "cell_type": "markdown",
   "id": "a7ecfc5f",
   "metadata": {},
   "source": [
    "##### 1) 바틀렛 테스트\n",
    "- KMO(Kaiser-Meyer-Olkin) 테스트\n",
    "- 바틀렛의 구면성 검정에서는 관측된 상관 행렬을 사용하여 관측된 변수가 단위 행렬과 상호 관련되는지 여부를 확인한다. 검정에서 통계적으로 유의하지 않은 것으로 판명되면 요인 분석을 사용하지 말아야 한다.\n"
   ]
  },
  {
   "cell_type": "code",
   "execution_count": 17,
   "id": "9db58aa2",
   "metadata": {},
   "outputs": [],
   "source": [
    "from factor_analyzer.factor_analyzer import calculate_bartlett_sphericity"
   ]
  },
  {
   "cell_type": "code",
   "execution_count": 18,
   "id": "77d41ead",
   "metadata": {},
   "outputs": [],
   "source": [
    "chi_square_value, p_value = calculate_bartlett_sphericity(df)"
   ]
  },
  {
   "cell_type": "code",
   "execution_count": 20,
   "id": "37efff3d",
   "metadata": {},
   "outputs": [
    {
     "data": {
      "text/plain": [
       "(18210.199553924613, 0.0)"
      ]
     },
     "execution_count": 20,
     "metadata": {},
     "output_type": "execute_result"
    }
   ],
   "source": [
    "chi_square_value, p_value"
   ]
  },
  {
   "cell_type": "markdown",
   "id": "6df714db",
   "metadata": {},
   "source": [
    "- 바틀렛의 구면성 검정에서는 관측된 상관 행렬을 사용하여 관측된 변수가 단위 행렬과 상호 관련되는지 여부를 확인한다. 검정에서 통계적으로 유의하지 않은 것으로 판명되면 요인 분석을 사용하지 말아야 한다.\n",
    "- KMO(Kaiser-Meyer-Olkin) 검정은 요인 분석에 대한 데이터의 적합성을 측정한다. 각 관측 변수와 전체 모형에 대한 적합성을 결정한다. KMO는 모든 관측 변수 간의 분산 비율을 추정한다. KMO 값의 범위는 0에서 1 사이이다. 0.6 미만의 KMO 값은 부적합한 것으로 간주된다.\n"
   ]
  },
  {
   "cell_type": "code",
   "execution_count": 21,
   "id": "1a8a0409",
   "metadata": {},
   "outputs": [],
   "source": [
    "from factor_analyzer.factor_analyzer import calculate_kmo"
   ]
  },
  {
   "cell_type": "code",
   "execution_count": 22,
   "id": "60c22f57",
   "metadata": {},
   "outputs": [
    {
     "data": {
      "text/plain": [
       "0.8482210116350449"
      ]
     },
     "execution_count": 22,
     "metadata": {},
     "output_type": "execute_result"
    }
   ],
   "source": [
    "kmo_all, kmo_model = calculate_kmo(df)\n",
    "kmo_model"
   ]
  },
  {
   "cell_type": "markdown",
   "id": "6699345e",
   "metadata": {},
   "source": [
    "우리 데이터의 전체 KMO는 0.84로 훌륭하다. 이 값은 요인 분석을 계속할 수 있음을 나타낸다."
   ]
  },
  {
   "cell_type": "markdown",
   "id": "53bf9550",
   "metadata": {},
   "source": [
    "##### 요인 수 선택\n",
    "- 요인 수를 선택하는 데 카이저 기준과 스크리 플랏을 사용할 수 있다. 둘 다 고유값을 기반으로 한다."
   ]
  },
  {
   "cell_type": "code",
   "execution_count": 24,
   "id": "9af101d6",
   "metadata": {},
   "outputs": [],
   "source": [
    "# Create factor analysis object and perform factor analysis\n",
    "\n",
    "fa = FactorAnalyzer()"
   ]
  },
  {
   "cell_type": "code",
   "execution_count": null,
   "id": "ea19bd0c",
   "metadata": {},
   "outputs": [],
   "source": [
    "fa."
   ]
  },
  {
   "cell_type": "code",
   "execution_count": 27,
   "id": "84473f8b",
   "metadata": {},
   "outputs": [
    {
     "ename": "TypeError",
     "evalue": "fit() got an unexpected keyword argument 'rotation'",
     "output_type": "error",
     "traceback": [
      "\u001b[0;31m---------------------------------------------------------------------------\u001b[0m",
      "\u001b[0;31mTypeError\u001b[0m                                 Traceback (most recent call last)",
      "Input \u001b[0;32mIn [27]\u001b[0m, in \u001b[0;36m<module>\u001b[0;34m\u001b[0m\n\u001b[0;32m----> 1\u001b[0m \u001b[43mfa\u001b[49m\u001b[38;5;241;43m.\u001b[39;49m\u001b[43mfit\u001b[49m\u001b[43m(\u001b[49m\u001b[43mdf\u001b[49m\u001b[43m,\u001b[49m\u001b[43m \u001b[49m\u001b[38;5;241;43m25\u001b[39;49m\u001b[43m,\u001b[49m\u001b[43m \u001b[49m\u001b[43mrotation\u001b[49m\u001b[38;5;241;43m=\u001b[39;49m\u001b[38;5;28;43;01mNone\u001b[39;49;00m\u001b[43m)\u001b[49m\n",
      "\u001b[0;31mTypeError\u001b[0m: fit() got an unexpected keyword argument 'rotation'"
     ]
    }
   ],
   "source": [
    "fa.fit(df, 25, rotation=None)"
   ]
  },
  {
   "cell_type": "code",
   "execution_count": null,
   "id": "42cdfca1",
   "metadata": {},
   "outputs": [],
   "source": [
    "# https://insightcampus.co.kr/2022/01/17/python%EC%9C%BC%EB%A1%9C-%ED%95%98%EB%8A%94-%EC%9A%94%EC%9D%B8-%EB%B6%84%EC%84%9D/"
   ]
  },
  {
   "cell_type": "code",
   "execution_count": null,
   "id": "36536510",
   "metadata": {},
   "outputs": [],
   "source": []
  },
  {
   "cell_type": "code",
   "execution_count": null,
   "id": "328799b4",
   "metadata": {},
   "outputs": [],
   "source": []
  },
  {
   "cell_type": "markdown",
   "id": "ca327cac",
   "metadata": {},
   "source": [
    "### 표준화와 정규화"
   ]
  },
  {
   "cell_type": "markdown",
   "id": "1c053316",
   "metadata": {},
   "source": [
    "#### 표준화 "
   ]
  },
  {
   "cell_type": "markdown",
   "id": "d59a18ce",
   "metadata": {},
   "source": [
    "표준화 = (각 데이터 - 평균 (각 열)) / 표준 편차 (각 열)\n",
    "\n",
    "- 평균을 기준으로 얼마나 떨어져 있는지를 나타내는 값으로 변환하는 과정\n",
    "- z-score 표준화는 각 요소의 값에서 평균을 뺀 후 표준편차로 나누어 수행한다"
   ]
  },
  {
   "cell_type": "code",
   "execution_count": 35,
   "id": "21941a3f",
   "metadata": {},
   "outputs": [
    {
     "data": {
      "text/plain": [
       "array([[ 0,  7, 23,  1, 11],\n",
       "       [22, 27, 10, 28, 19],\n",
       "       [ 4, 14, 22, 24, 14],\n",
       "       [14, 11,  9,  8, 29],\n",
       "       [ 4, 13, 10,  2, 16],\n",
       "       [ 1, 13,  2,  6,  8]])"
      ]
     },
     "execution_count": 35,
     "metadata": {},
     "output_type": "execute_result"
    }
   ],
   "source": [
    "import numpy as np\n",
    "from numpy import *\n",
    "\n",
    "data=np.random.randint(30 , size=(6,5))\n",
    "data"
   ]
  },
  {
   "cell_type": "markdown",
   "id": "0190f480",
   "metadata": {},
   "source": [
    "##### 1) numpy를 이용한 표준화"
   ]
  },
  {
   "cell_type": "code",
   "execution_count": 50,
   "id": "f72ee564",
   "metadata": {},
   "outputs": [
    {
     "name": "stdout",
     "output_type": "stream",
     "text": [
      "[[-0.94805147 -1.16046805  1.38222168 -0.99252605 -0.76901535]\n",
      " [ 1.83289952  2.07804743 -0.35670237  1.5596838   0.4217181 ]\n",
      " [-0.44242402 -0.02698763  1.24845829  1.18157864 -0.32249031]\n",
      " [ 0.82164461 -0.51276495 -0.49046576 -0.33084202  1.91013491]\n",
      " [-0.44242402 -0.1889134  -0.35670237 -0.89799976 -0.02480695]\n",
      " [-0.82164461 -0.1889134  -1.42680948 -0.5198946  -1.2155404 ]]\n"
     ]
    }
   ],
   "source": [
    "# np.mean(data, axis=1(행), 0(열))\n",
    "std_data = (data - np.mean(data,axis = 0))/ np.std(data,axis = 0)\n",
    "print(std_data)"
   ]
  },
  {
   "cell_type": "markdown",
   "id": "a4cdf754",
   "metadata": {},
   "source": [
    "##### 2) z-score를 이용한 표준화"
   ]
  },
  {
   "cell_type": "code",
   "execution_count": 48,
   "id": "a95afe5f",
   "metadata": {},
   "outputs": [
    {
     "name": "stdout",
     "output_type": "stream",
     "text": [
      "[[-0.94805147 -1.16046805  1.38222168 -0.99252605 -0.76901535]\n",
      " [ 1.83289952  2.07804743 -0.35670237  1.5596838   0.4217181 ]\n",
      " [-0.44242402 -0.02698763  1.24845829  1.18157864 -0.32249031]\n",
      " [ 0.82164461 -0.51276495 -0.49046576 -0.33084202  1.91013491]\n",
      " [-0.44242402 -0.1889134  -0.35670237 -0.89799976 -0.02480695]\n",
      " [-0.82164461 -0.1889134  -1.42680948 -0.5198946  -1.2155404 ]]\n"
     ]
    }
   ],
   "source": [
    "import scipy.stats as ss \n",
    "\n",
    "data_ss = ss.zscore(data)\n",
    "print(data_ss)"
   ]
  },
  {
   "cell_type": "markdown",
   "id": "80225a4e",
   "metadata": {},
   "source": [
    "##### 3) sckit-learn preprocessing 을 이용한 표준화 "
   ]
  },
  {
   "cell_type": "code",
   "execution_count": 49,
   "id": "ca662111",
   "metadata": {},
   "outputs": [
    {
     "name": "stdout",
     "output_type": "stream",
     "text": [
      "[[-0.94805147 -1.16046805  1.38222168 -0.99252605 -0.76901535]\n",
      " [ 1.83289952  2.07804743 -0.35670237  1.5596838   0.4217181 ]\n",
      " [-0.44242402 -0.02698763  1.24845829  1.18157864 -0.32249031]\n",
      " [ 0.82164461 -0.51276495 -0.49046576 -0.33084202  1.91013491]\n",
      " [-0.44242402 -0.1889134  -0.35670237 -0.89799976 -0.02480695]\n",
      " [-0.82164461 -0.1889134  -1.42680948 -0.5198946  -1.2155404 ]]\n"
     ]
    }
   ],
   "source": [
    "import sklearn\n",
    "from sklearn.preprocessing import *\n",
    "\n",
    "ss_data = StandardScaler().fit_transform(data)\n",
    "print(ss_data)"
   ]
  },
  {
   "cell_type": "markdown",
   "id": "00a3b81e",
   "metadata": {},
   "source": [
    "#### 정규화"
   ]
  },
  {
   "cell_type": "markdown",
   "id": "320dc24a",
   "metadata": {},
   "source": [
    "정규화 = (각 데이터 - 최솟값 (각 열)) / (최댓값 (각 열) - 최솟값 (각 열))\n",
    "- 데이터의 범위를 0과 1 사이로 변환하여 데이터의 분포를 조정하는 방법\n",
    "- 특정 데이터의 위치를 확인할 수 있게 해 줌\n",
    "- scale 함수? 사용자 정의 normalize?"
   ]
  },
  {
   "cell_type": "markdown",
   "id": "321887c3",
   "metadata": {},
   "source": [
    "##### 1) 수식을 통한 정규화"
   ]
  },
  {
   "cell_type": "code",
   "execution_count": 51,
   "id": "92adf5ba",
   "metadata": {},
   "outputs": [
    {
     "name": "stdout",
     "output_type": "stream",
     "text": [
      "[[0.         0.         1.         0.         0.14285714]\n",
      " [1.         1.         0.38095238 1.         0.52380952]\n",
      " [0.18181818 0.35       0.95238095 0.85185185 0.28571429]\n",
      " [0.63636364 0.2        0.33333333 0.25925926 1.        ]\n",
      " [0.18181818 0.3        0.38095238 0.03703704 0.38095238]\n",
      " [0.04545455 0.3        0.         0.18518519 0.        ]]\n"
     ]
    }
   ],
   "source": [
    "data_mm = (data - data.min(axis = 0)) / (data.max(axis = 0) - data.min(axis = 0))\n",
    "print(data_mm)"
   ]
  },
  {
   "cell_type": "markdown",
   "id": "e8d2d5b5",
   "metadata": {},
   "source": [
    "##### 2) sklearn.preprocessing 을 통한 정규화 "
   ]
  },
  {
   "cell_type": "code",
   "execution_count": 52,
   "id": "78819f5a",
   "metadata": {},
   "outputs": [
    {
     "name": "stdout",
     "output_type": "stream",
     "text": [
      "[[0.         0.         1.         0.         0.14285714]\n",
      " [1.         1.         0.38095238 1.         0.52380952]\n",
      " [0.18181818 0.35       0.95238095 0.85185185 0.28571429]\n",
      " [0.63636364 0.2        0.33333333 0.25925926 1.        ]\n",
      " [0.18181818 0.3        0.38095238 0.03703704 0.38095238]\n",
      " [0.04545455 0.3        0.         0.18518519 0.        ]]\n"
     ]
    }
   ],
   "source": [
    "data_ms=MinMaxScaler().fit_transform(data)\n",
    "print(data_ms)"
   ]
  },
  {
   "cell_type": "markdown",
   "id": "dfa80e51",
   "metadata": {},
   "source": [
    "# 데이터 결합 및 요약"
   ]
  },
  {
   "cell_type": "markdown",
   "id": "ef34a4fe",
   "metadata": {},
   "source": [
    "## 데이터 결합"
   ]
  },
  {
   "cell_type": "markdown",
   "id": "8d6e614d",
   "metadata": {},
   "source": [
    "- rbind, cbind, merge 등"
   ]
  },
  {
   "cell_type": "markdown",
   "id": "72f74f30",
   "metadata": {},
   "source": [
    "## 데이터 요약"
   ]
  },
  {
   "cell_type": "markdown",
   "id": "c6ccc1c8",
   "metadata": {},
   "source": [
    "- aggregate, table (도수분포표), prop.table, subset 등"
   ]
  },
  {
   "cell_type": "markdown",
   "id": "bd0531fb",
   "metadata": {},
   "source": [
    "## apply 계열 함수"
   ]
  },
  {
   "cell_type": "markdown",
   "id": "32a06304",
   "metadata": {},
   "source": [
    "- apply, lapply, sapply, vapply, mapply, tapply"
   ]
  },
  {
   "cell_type": "markdown",
   "id": "f0cd2a90",
   "metadata": {},
   "source": [
    "# 패키지를 활용한 데이터 전처리"
   ]
  },
  {
   "cell_type": "markdown",
   "id": "02155811",
   "metadata": {},
   "source": [
    "## plyr"
   ]
  },
  {
   "cell_type": "markdown",
   "id": "633039f8",
   "metadata": {},
   "source": [
    "- 데이터를 분할한 뒤 원하는 방향(행, 열)으로 특정 함수를 적용하고(apply), 그 결과를 재조합(combine)하여 반환해 준다. 여러 함수로 처리해야 할 데이터의 분할, 함수 적용, 재조합을 한 번에 처리할 수 있기 때문에 매우 효율적이고 편리한 패키지이다.\n",
    "- plyr 함수는 xxply로 이루어져 있으며, 첫 번째 글자는 데이터의 입력 형태를 의미하고 두 번째 글자는 출력 데이터의 형태를 의미한다.\n",
    "- a: array, l: list, d: data frame, _: 출력 없음\n",
    "- adply, ddply 등"
   ]
  },
  {
   "cell_type": "markdown",
   "id": "d97904ba",
   "metadata": {},
   "source": [
    "## dplyr"
   ]
  },
  {
   "cell_type": "markdown",
   "id": "5cfcb8b5",
   "metadata": {},
   "source": [
    "- 데이터의 일부 추출, 새로운 변수 생성, 다른 데이터와 병합 등 다양한 기능을 지원한다.\n",
    "- select: 지정한 열 추출\n",
    "- summarise: 요약 통계량 계산\n",
    "- filter: 조건에 맞는 행 추출\n",
    "- arrange: 데이터 정렬\n",
    "- mutate: 변수 추가\n",
    "- left, right, inner, full join\n",
    "- group_by: 그룹화\n",
    "- bind rows, cols"
   ]
  },
  {
   "cell_type": "markdown",
   "id": "712546b3",
   "metadata": {},
   "source": [
    "## reshape2"
   ]
  },
  {
   "cell_type": "markdown",
   "id": "769fe3be",
   "metadata": {},
   "source": [
    "- melt & cast"
   ]
  },
  {
   "cell_type": "markdown",
   "id": "8e3a66e8",
   "metadata": {},
   "source": [
    "## data.table"
   ]
  },
  {
   "cell_type": "markdown",
   "id": "9e2a10c1",
   "metadata": {},
   "source": [
    "- 여기서 loc, iloc이랑 비슷한 듯 "
   ]
  },
  {
   "cell_type": "markdown",
   "id": "c0a8ad03",
   "metadata": {},
   "source": [
    "# 결측치 처리"
   ]
  },
  {
   "cell_type": "markdown",
   "id": "39ae8daf",
   "metadata": {},
   "source": [
    "## 결측치 인식"
   ]
  },
  {
   "cell_type": "markdown",
   "id": "3edf44ba",
   "metadata": {},
   "source": [
    "- is.na()\n",
    "- "
   ]
  },
  {
   "cell_type": "markdown",
   "id": "b8595a82",
   "metadata": {},
   "source": [
    "## 결측치 처리"
   ]
  },
  {
   "cell_type": "markdown",
   "id": "91531355",
   "metadata": {},
   "source": [
    "- 단순 대치법\n",
    "- 다중 대치법\n",
    "- 결측치가 존재하는 행 제거\n",
    "- 평균 대치법\n",
    "- 패키지 활용"
   ]
  },
  {
   "cell_type": "markdown",
   "id": "54240172",
   "metadata": {},
   "source": [
    "## 이상치 인식"
   ]
  },
  {
   "cell_type": "markdown",
   "id": "72ab008c",
   "metadata": {},
   "source": [
    "- 사분위수\n",
    "- boxplot을 활용한 이상치 판별"
   ]
  },
  {
   "cell_type": "markdown",
   "id": "73793e4d",
   "metadata": {},
   "source": [
    "# 날짜 데이터 전처리"
   ]
  },
  {
   "cell_type": "markdown",
   "id": "cdfb0495",
   "metadata": {},
   "source": [
    "## 날짜 데이터 다루기"
   ]
  },
  {
   "cell_type": "markdown",
   "id": "4939a029",
   "metadata": {},
   "source": [
    "### 날짜 데이터 형식 확인"
   ]
  },
  {
   "cell_type": "markdown",
   "id": "efac00cd",
   "metadata": {},
   "source": [
    "### 날짜 표시 형식 변경"
   ]
  },
  {
   "cell_type": "markdown",
   "id": "16a6b58a",
   "metadata": {},
   "source": [
    "### 날짜 데이터의 연산"
   ]
  },
  {
   "cell_type": "markdown",
   "id": "7d4b57c1",
   "metadata": {},
   "source": [
    "- 날짜 간 거리 계산"
   ]
  },
  {
   "cell_type": "markdown",
   "id": "c23d908c",
   "metadata": {},
   "source": [
    "------------------------- 통계 분석 -------------------------"
   ]
  },
  {
   "cell_type": "markdown",
   "id": "160d0d82",
   "metadata": {},
   "source": [
    "# 데이터 샘플링"
   ]
  },
  {
   "cell_type": "markdown",
   "id": "13d5030b",
   "metadata": {},
   "source": [
    "## 표본추출 방법"
   ]
  },
  {
   "cell_type": "markdown",
   "id": "72b9ab20",
   "metadata": {},
   "source": [
    "### 표본 추출 방법"
   ]
  },
  {
   "cell_type": "markdown",
   "id": "77e6e09f",
   "metadata": {},
   "source": [
    "- 단순 임의 추출법\n",
    "- 계통 추출법\n",
    "- 집락 추출법\n",
    "- 층화 추출법\n",
    "- 다단계 추출"
   ]
  },
  {
   "cell_type": "markdown",
   "id": "0a675b6a",
   "metadata": {},
   "source": [
    "## R을 이용한 표본 추출"
   ]
  },
  {
   "cell_type": "markdown",
   "id": "80b45a1a",
   "metadata": {},
   "source": [
    "### 단순 임의 추출"
   ]
  },
  {
   "cell_type": "markdown",
   "id": "c40a3fa8",
   "metadata": {},
   "source": [
    "### 층화 임의 추출"
   ]
  },
  {
   "cell_type": "markdown",
   "id": "84e5c271",
   "metadata": {},
   "source": [
    "## T-test"
   ]
  },
  {
   "cell_type": "markdown",
   "id": "bb37778e",
   "metadata": {},
   "source": [
    "## 일표본 T-검정"
   ]
  },
  {
   "cell_type": "markdown",
   "id": "93044dc0",
   "metadata": {},
   "source": [
    "## 대응표본 T-검정"
   ]
  },
  {
   "cell_type": "markdown",
   "id": "f1eb6fde",
   "metadata": {},
   "source": [
    "## 독립 표본 T-검정"
   ]
  },
  {
   "cell_type": "markdown",
   "id": "c1ab7d40",
   "metadata": {},
   "source": [
    "# 교차 분석"
   ]
  },
  {
   "cell_type": "markdown",
   "id": "d49cf0e2",
   "metadata": {},
   "source": [
    "## 교차 분석의 개념"
   ]
  },
  {
   "cell_type": "markdown",
   "id": "90e78fca",
   "metadata": {},
   "source": [
    "- 범주형 자료인 두 변수 간의 관계를 알아보기 위해 실시하는 분석 기법\n",
    "- 적합성 검정, 독립성 검정, 동질성 검정에 사용되며, 카이제곱 검정 통계량을 이용\n",
    "- 교차표를 이용"
   ]
  },
  {
   "cell_type": "markdown",
   "id": "5ca89273",
   "metadata": {},
   "source": [
    "## 적합성 검정"
   ]
  },
  {
   "cell_type": "markdown",
   "id": "f7b2ac64",
   "metadata": {},
   "source": [
    "- 실험에서 얻어진 관측값들이 예상한 이론과 일치하는지 아닌지를 검정"
   ]
  },
  {
   "cell_type": "markdown",
   "id": "8067cbaf",
   "metadata": {},
   "source": [
    "## 독립성 검정"
   ]
  },
  {
   "cell_type": "markdown",
   "id": "26858e0c",
   "metadata": {},
   "source": [
    "## 동질성 검정"
   ]
  },
  {
   "cell_type": "markdown",
   "id": "42efd80b",
   "metadata": {},
   "source": [
    "# 분산 분석 (ANOVA)"
   ]
  },
  {
   "cell_type": "markdown",
   "id": "95bbb812",
   "metadata": {},
   "source": [
    "## 일원배치 분산 분석 (one-way ANOVA)"
   ]
  },
  {
   "cell_type": "markdown",
   "id": "c05383ae",
   "metadata": {},
   "source": [
    "## 이원배치 분산 분석 (two-way ANOVA)"
   ]
  },
  {
   "cell_type": "markdown",
   "id": "ed07c4f8",
   "metadata": {},
   "source": [
    "# 상관 분석"
   ]
  },
  {
   "cell_type": "markdown",
   "id": "69c67c25",
   "metadata": {},
   "source": [
    "## 상관 분석의 개념"
   ]
  },
  {
   "cell_type": "markdown",
   "id": "eb7f725e",
   "metadata": {},
   "source": [
    "## 상관 분석의 유형"
   ]
  },
  {
   "cell_type": "markdown",
   "id": "37621edf",
   "metadata": {},
   "source": [
    "## 상관 계수 검정"
   ]
  },
  {
   "cell_type": "markdown",
   "id": "a110d08b",
   "metadata": {},
   "source": [
    "# 회귀 분석 "
   ]
  },
  {
   "cell_type": "markdown",
   "id": "b51ca4bf",
   "metadata": {},
   "source": [
    "## 회귀 분석의 개념"
   ]
  },
  {
   "cell_type": "markdown",
   "id": "6688872a",
   "metadata": {},
   "source": [
    "## 단순선형회귀분석"
   ]
  },
  {
   "cell_type": "markdown",
   "id": "355d1376",
   "metadata": {},
   "source": [
    "## 다중선형회귀분석"
   ]
  },
  {
   "cell_type": "markdown",
   "id": "bd5d1050",
   "metadata": {},
   "source": [
    "------------------------- 시각화 -------------------------"
   ]
  },
  {
   "cell_type": "markdown",
   "id": "527e45fa",
   "metadata": {},
   "source": [
    "# 산점도"
   ]
  },
  {
   "cell_type": "markdown",
   "id": "405be5dd",
   "metadata": {},
   "source": [
    "## 산점도란?"
   ]
  },
  {
   "cell_type": "markdown",
   "id": "31a51165",
   "metadata": {},
   "source": [
    "## Plot 함수의 옵션"
   ]
  },
  {
   "cell_type": "markdown",
   "id": "dcb13ad8",
   "metadata": {},
   "source": [
    "## 그래프 서식"
   ]
  },
  {
   "cell_type": "markdown",
   "id": "9424446f",
   "metadata": {},
   "source": [
    "# 그래프"
   ]
  },
  {
   "cell_type": "markdown",
   "id": "9d7a5094",
   "metadata": {},
   "source": [
    "## 점 그래프"
   ]
  },
  {
   "cell_type": "markdown",
   "id": "e766f3a4",
   "metadata": {},
   "source": [
    "## 선 그래프"
   ]
  },
  {
   "cell_type": "markdown",
   "id": "8749482f",
   "metadata": {},
   "source": [
    "## 막대 그래프"
   ]
  },
  {
   "cell_type": "markdown",
   "id": "bec9d570",
   "metadata": {},
   "source": [
    "## 히스토그램"
   ]
  },
  {
   "cell_type": "markdown",
   "id": "987abb41",
   "metadata": {},
   "source": [
    "## 히스토그램"
   ]
  },
  {
   "cell_type": "markdown",
   "id": "3dbffaca",
   "metadata": {},
   "source": [
    "## 파이 차트"
   ]
  },
  {
   "cell_type": "markdown",
   "id": "c5167bb7",
   "metadata": {},
   "source": [
    "## 산점도 행렬"
   ]
  },
  {
   "cell_type": "markdown",
   "id": "acd79720",
   "metadata": {},
   "source": [
    "------------------------- 정형 데이터 마이닝 -------------------------"
   ]
  },
  {
   "cell_type": "markdown",
   "id": "2fccef3f",
   "metadata": {},
   "source": [
    "# 데이터 분할과 성과 분석 "
   ]
  },
  {
   "cell_type": "markdown",
   "id": "0a7c1d50",
   "metadata": {},
   "source": [
    "## 데이터 분할"
   ]
  },
  {
   "cell_type": "markdown",
   "id": "8f493578",
   "metadata": {},
   "source": [
    "## 성과 분석"
   ]
  },
  {
   "cell_type": "markdown",
   "id": "a3a5cb61",
   "metadata": {},
   "source": [
    "### 오분류표"
   ]
  },
  {
   "cell_type": "markdown",
   "id": "f2220794",
   "metadata": {},
   "source": [
    "# 분류 분석"
   ]
  },
  {
   "cell_type": "markdown",
   "id": "2157518e",
   "metadata": {},
   "source": [
    "## 로지스틱 회귀 분석"
   ]
  },
  {
   "cell_type": "markdown",
   "id": "abbea4c4",
   "metadata": {},
   "source": [
    "## 의사결정나무"
   ]
  },
  {
   "cell_type": "markdown",
   "id": "04363fcd",
   "metadata": {},
   "source": [
    "## 앙상블 기법"
   ]
  },
  {
   "cell_type": "markdown",
   "id": "8cf2162d",
   "metadata": {},
   "source": [
    "### 배깅"
   ]
  },
  {
   "cell_type": "markdown",
   "id": "467395c4",
   "metadata": {},
   "source": [
    "### 부스팅"
   ]
  },
  {
   "cell_type": "markdown",
   "id": "1c847443",
   "metadata": {},
   "source": [
    "### 랜덤 포레스트"
   ]
  },
  {
   "cell_type": "markdown",
   "id": "d9a04a6e",
   "metadata": {},
   "source": [
    "## SVM (Support Vector Machine)"
   ]
  },
  {
   "cell_type": "markdown",
   "id": "26cdd3a8",
   "metadata": {},
   "source": [
    "## 나이브 베이즈 분류"
   ]
  },
  {
   "cell_type": "markdown",
   "id": "a952e740",
   "metadata": {},
   "source": [
    "## K-NN (K-Nearest Neighbor)"
   ]
  },
  {
   "cell_type": "markdown",
   "id": "e5bda12d",
   "metadata": {},
   "source": [
    "## 인공신경망 모형 (Artificial Neural Network)"
   ]
  },
  {
   "cell_type": "markdown",
   "id": "f8e9367a",
   "metadata": {},
   "source": [
    "# 군집 분석"
   ]
  },
  {
   "cell_type": "markdown",
   "id": "2fa6968b",
   "metadata": {},
   "source": [
    "## 군집 분석"
   ]
  },
  {
   "cell_type": "markdown",
   "id": "353499bd",
   "metadata": {},
   "source": [
    "- 군집 분석의 개념"
   ]
  },
  {
   "cell_type": "markdown",
   "id": "73a59ebf",
   "metadata": {},
   "source": [
    "## 계층적 군집 분석"
   ]
  },
  {
   "cell_type": "markdown",
   "id": "6fcdd2ef",
   "metadata": {},
   "source": [
    "## 비계층적 군집 분석"
   ]
  },
  {
   "cell_type": "markdown",
   "id": "d6edee98",
   "metadata": {},
   "source": [
    "## 혼합 분포 군집"
   ]
  },
  {
   "cell_type": "markdown",
   "id": "1e50a3b0",
   "metadata": {},
   "source": [
    "# 연관 분석"
   ]
  },
  {
   "cell_type": "markdown",
   "id": "efa2f32c",
   "metadata": {},
   "source": [
    "## 연관 규칙"
   ]
  },
  {
   "cell_type": "markdown",
   "id": "abfa3463",
   "metadata": {},
   "source": [
    "------------------------- 비정형 데이터 마이닝 -------------------------"
   ]
  },
  {
   "cell_type": "markdown",
   "id": "313da595",
   "metadata": {},
   "source": [
    "# 텍스트 마이닝"
   ]
  },
  {
   "cell_type": "markdown",
   "id": "c1b9d091",
   "metadata": {},
   "source": [
    "## 데이터 전처리"
   ]
  },
  {
   "cell_type": "markdown",
   "id": "f0b9f287",
   "metadata": {},
   "source": [
    "## Term-Document Matrix"
   ]
  },
  {
   "cell_type": "code",
   "execution_count": null,
   "id": "e2ce2f09",
   "metadata": {},
   "outputs": [],
   "source": []
  },
  {
   "cell_type": "code",
   "execution_count": null,
   "id": "3b8a4d8f",
   "metadata": {},
   "outputs": [],
   "source": []
  },
  {
   "cell_type": "code",
   "execution_count": null,
   "id": "06e7320f",
   "metadata": {},
   "outputs": [],
   "source": []
  }
 ],
 "metadata": {
  "kernelspec": {
   "display_name": "Python 3 (ipykernel)",
   "language": "python",
   "name": "python3"
  },
  "language_info": {
   "codemirror_mode": {
    "name": "ipython",
    "version": 3
   },
   "file_extension": ".py",
   "mimetype": "text/x-python",
   "name": "python",
   "nbconvert_exporter": "python",
   "pygments_lexer": "ipython3",
   "version": "3.9.7"
  },
  "toc": {
   "base_numbering": 1,
   "nav_menu": {},
   "number_sections": true,
   "sideBar": true,
   "skip_h1_title": false,
   "title_cell": "Table of Contents",
   "title_sidebar": "Contents",
   "toc_cell": false,
   "toc_position": {
    "height": "calc(100% - 180px)",
    "left": "10px",
    "top": "150px",
    "width": "288px"
   },
   "toc_section_display": true,
   "toc_window_display": true
  },
  "varInspector": {
   "cols": {
    "lenName": 16,
    "lenType": 16,
    "lenVar": 40
   },
   "kernels_config": {
    "python": {
     "delete_cmd_postfix": "",
     "delete_cmd_prefix": "del ",
     "library": "var_list.py",
     "varRefreshCmd": "print(var_dic_list())"
    },
    "r": {
     "delete_cmd_postfix": ") ",
     "delete_cmd_prefix": "rm(",
     "library": "var_list.r",
     "varRefreshCmd": "cat(var_dic_list()) "
    }
   },
   "types_to_exclude": [
    "module",
    "function",
    "builtin_function_or_method",
    "instance",
    "_Feature"
   ],
   "window_display": false
  }
 },
 "nbformat": 4,
 "nbformat_minor": 5
}
