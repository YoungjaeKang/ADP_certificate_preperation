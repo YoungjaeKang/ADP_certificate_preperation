{
 "cells": [
  {
   "cell_type": "markdown",
   "id": "80af05a0",
   "metadata": {},
   "source": [
    "# 공부해야 할 주제들"
   ]
  },
  {
   "cell_type": "markdown",
   "id": "f0e03600",
   "metadata": {},
   "source": [
    "## 데이터 마이닝"
   ]
  },
  {
   "cell_type": "markdown",
   "id": "b68c2a52",
   "metadata": {},
   "source": [
    "### 지도학습"
   ]
  },
  {
   "cell_type": "markdown",
   "id": "e8a4d400",
   "metadata": {},
   "source": [
    "1. 의사결정나무: CART, C5.0, C4.5, CHAID, 분리기준 (카이제곱통계량 p값, 지니 지수, 엔트로피 지수, F통계량, 분산의 감소량), 가지치기\n",
    "2. 앙상블분석: 배깅, 부스팅(Adaboost), 랜덤포레스트, 스태킹, 엑스트라트리, 에이다부스트\n",
    "3. 인공신경망\n",
    "- 활성화함수(계단함수, 부호함수, 시그모이드 함수, relu함수, softmax 함수)\n",
    "- 다층퍼셉트론\n",
    "- ANN, DNN, CNN, RNN, GAN(InfoGAN, CycleGAN), RBM, DBN\n",
    "- MLP-CNN-RNN 구현 및 비교\n",
    "- ResNet, DenseNet\n",
    "- AutoEncoder, VAE, DQN\n",
    "- 진화 학습 (유전 알고리즘)\n",
    "- 강화학습 (마르코프 결정과정)\n",
    "- 대칭가중치와 심층신뢰 네트워크\n",
    "4. 회귀분석\n",
    "- 가정검토(선형성, 등분산성-잔차도, 정규성-히스토그램/QQplot/Shapiro-wilk, 오차항의 독립성-더빈왓슨검정)\n",
    "- 단순선형회귀분석(회귀계수 검정, 결정계수 계산-SST/SSR/SSE, 회귀직선의 적합도 검토)\n",
    "- 다중선형회귀분석(회귀계수 검정, 회귀식, 결정계수 계산, 모형의 통계적 유의성, 교호작용, 다중공선성-PCA회귀, VIF 상위변수 제거)\n",
    "- 다항회귀분석\n",
    "- 스플라인 회귀\n",
    "- 로지스틱 회귀\n",
    "- 최적회귀방정식(전진선택법, 후진제거법, 단계적선택법 - AIC/BIC)\n",
    "- 정규화 선형회귀 Regularized Linear Regression (Ridge회귀, Lasso회귀, Elastic Net 회귀)\n",
    "- 일반화 선형회귀 Generalized Linear Regression\n",
    "- 회귀분석의 기울기에 영향을 주는 영향점 진단: Cook's Distance, DFBETAS, DFFITS, Leverage H\n",
    "- 변수 선택의 기준: 결정계수, Mallow's Cp, AIC/BIC\n",
    "5. 최근접 이웃법 (KNN), 가우시안 혼합모델\n",
    "6. 베이지안 분류\n",
    "7. SVM\n",
    "8. 판별분석\n",
    "9. 사례기반 추론 (Case based reasoning)"
   ]
  },
  {
   "cell_type": "markdown",
   "id": "2e10d759",
   "metadata": {},
   "source": [
    "### 비지도학습"
   ]
  },
  {
   "cell_type": "markdown",
   "id": "f712e7cf",
   "metadata": {},
   "source": [
    "연관규칙학습 (패턴인식): 장바구니분석(Apriori, FP Growth, FPV, Eclat), 연관규칙, 서열분석 (순차패턴, 시차-연관분석; Sequence Analysis)\n",
    "주성분분석(Scree plot, 누적기여율, 주성분 별 가중치, Biplot) 및 요인분석\n",
    "차원축소, 특성추출, 매니폴드학습, PCA, NMF\n",
    "군집분석\n",
    "계층적군집: 합병형 Bottom-up 방식(최단연결법, 평균연결법, 와드연결법, 최장연결밥, 중심연결법), 분리형 top-down 방식 (다이아나 방법), 덴드로그램\n",
    "분할적 군집(비계층적군집): 프로토타입 centroid-based (K-centroid 군집, K-means 군집, K-median 군집, K-medoid 군집, Fuzzy 군집), 분포기반GMM(혼합분포군집; EM알고리즘, 로그-가능도 함수), 밀도기반(중심밀도군집, DBSCAN, OPTICS, DENCLUE), 격자기반(STING, WaveCluster, CLIQUE)\n",
    "거리: 유클리디안 거리, 마할라노비스 거리, 체비셰프 거리, 맨하탄 거리, 캔버라 거리, 민코우스키 거리, 자카드 거리, 코사인 거리\n",
    "SOM\n",
    "타당성지표: 실루엣 계수, Dunn Index\n",
    "사회연결망분석 (Social network)\n",
    "네트워크 구조 파악: 중심성, 밀도, 구조적틈새, 집중도 등\n",
    "커뮤니티 발견: walk trap, edge-betweenness\n",
    "Giraph 등"
   ]
  },
  {
   "cell_type": "markdown",
   "id": "0fbce0ba",
   "metadata": {},
   "source": [
    " 3] 기타 통계\n",
    "탐색적 자료 분석: 요약, 기술통계 (평균, 표준편차, 중위수, 사분위수, 변동계수, 최빈값, 그래프, 왜도, 첨도), 줄기잎그림, 도넛차트, 히스토그램, 상자수염 그림\n",
    "데이터와 표본분포 (정규분포, T분포, F분포, 이항분포, 포아송 분포 등)\n",
    "유의성검정:\n",
    "t-test\n",
    "정규성검정: 콜모고로프 스미르노프 검정, QQ도, Anderson-Darling test, 샤크로-윌크 검정\n",
    "등분산검정\n",
    "등분산성만족 못할시: Welch two sample t-test\n",
    "일표본 T검정, 대응표본 t검정, 독립표본 t검정\n",
    "분산분석(ANOVA)\n",
    "일원배치 분산분석: 분산분석표, 사후분석(던칸의 MRT, 피셔의 LSD, Scheffe의 방법)\n",
    "이원배치 분산분석: 분산분석표, 교호작용\n",
    "교차분석: 적합도 검정, 독립성 검정(교차표), 동질성 검정(교차표)\n",
    "다중검정\n",
    "공분산, 상관분석 (피어슨, 스피어만, 켄달 타우, 상관계수 검정)\n",
    "시계열분석:\n",
    "분해시계열, ARIMA모델 (ACF/PACF를 통한 모델 결정)\n",
    "ARIMA(p,d,q) - 정상성 (ADF, KPSS test), 차분, ACF, PACF, Ljung-Box test\n",
    "SARIMA(p,d,q)(P,D,Q)[s]\n",
    "다차원척도법: 계량적MDS, 비계량적 MDS\n",
    "비모수검정: 부호검정, 윌콕슨의 순위합 검정, 윌콕슨의 부호순위합검정, 만위트니의 U검정, 런검정\n",
    "성과분석\n",
    "분류분석: 정분류율, 오분류율, 특이도, 민감도, 정확도, 재현율, F1 Score, RoC Curve, AUROC, Lift Chart (Frequency of buy, captured response, response, lift), cross validation\n",
    "연관성분석: 지지도, 신뢰도, 향상도\n",
    "Bias-variance Trade-off\n",
    "과대적합, 과소적합, 일반화"
   ]
  },
  {
   "cell_type": "code",
   "execution_count": null,
   "id": "2686135e",
   "metadata": {},
   "outputs": [],
   "source": []
  }
 ],
 "metadata": {
  "kernelspec": {
   "display_name": "Python 3 (ipykernel)",
   "language": "python",
   "name": "python3"
  },
  "language_info": {
   "codemirror_mode": {
    "name": "ipython",
    "version": 3
   },
   "file_extension": ".py",
   "mimetype": "text/x-python",
   "name": "python",
   "nbconvert_exporter": "python",
   "pygments_lexer": "ipython3",
   "version": "3.9.7"
  },
  "toc": {
   "base_numbering": 1,
   "nav_menu": {},
   "number_sections": true,
   "sideBar": true,
   "skip_h1_title": false,
   "title_cell": "Table of Contents",
   "title_sidebar": "Contents",
   "toc_cell": false,
   "toc_position": {},
   "toc_section_display": true,
   "toc_window_display": false
  },
  "varInspector": {
   "cols": {
    "lenName": 16,
    "lenType": 16,
    "lenVar": 40
   },
   "kernels_config": {
    "python": {
     "delete_cmd_postfix": "",
     "delete_cmd_prefix": "del ",
     "library": "var_list.py",
     "varRefreshCmd": "print(var_dic_list())"
    },
    "r": {
     "delete_cmd_postfix": ") ",
     "delete_cmd_prefix": "rm(",
     "library": "var_list.r",
     "varRefreshCmd": "cat(var_dic_list()) "
    }
   },
   "types_to_exclude": [
    "module",
    "function",
    "builtin_function_or_method",
    "instance",
    "_Feature"
   ],
   "window_display": false
  }
 },
 "nbformat": 4,
 "nbformat_minor": 5
}
