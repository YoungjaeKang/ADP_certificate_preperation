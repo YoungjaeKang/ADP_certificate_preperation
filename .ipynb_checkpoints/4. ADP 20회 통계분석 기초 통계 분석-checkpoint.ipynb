{
 "cells": [
  {
   "cell_type": "markdown",
   "metadata": {},
   "source": [
    "## 통계 분석 모음 교차, 분산, 상관, 연관, t검정 등\n",
    "\n",
    "사실 ADP를 진행하면서 실기를 진행하셨던 분들의 후기를 보면 \n",
    "\n",
    "통계 분석이 단순히 통계 분석만 하는 경우는 거의 없었다.\n",
    "\n",
    "하더라도 해당 분석을 진행하고 이를 활용해서 추가적으로 분류 분석을 진행하는 식이었다.\n",
    "\n",
    "그것도 아니라면 아예 시계열 분석으로만 진행을 하거나 였다.\n",
    "\n",
    "사실 데이터 마이닝과 떼어넣고 이야기 하기 애매하기에\n",
    "\n",
    "통계분석 part를 시계열 분석, 각종 검증, 데이터 활용 및 샘플링으로 나누어서 포스팅 하는 것을 생각하였다.\n",
    "\n",
    "그 중에서 두번째인 각종 검증을 간단히 모아보았다. 이론적 설명 보다는 python으로 구현하는 코드를 위주로 해놓았다"
   ]
  },
  {
   "cell_type": "code",
   "execution_count": 5,
   "metadata": {
    "ExecuteTime": {
     "end_time": "2021-03-13T11:47:59.268504Z",
     "start_time": "2021-03-13T11:47:58.563834Z"
    }
   },
   "outputs": [],
   "source": [
    "import os\n",
    "import numpy as np\n",
    "import pandas as pd\n",
    "pd.set_option('display.max_row', 500)\n",
    "pd.set_option('display.max_columns', 30)\n",
    "from pandas import DataFrame\n",
    "\n",
    "import warnings\n",
    "warnings.filterwarnings(\"ignore\")\n",
    "\n",
    "from scipy import stats"
   ]
  },
  {
   "cell_type": "markdown",
   "metadata": {},
   "source": [
    "### 교차분석"
   ]
  },
  {
   "cell_type": "markdown",
   "metadata": {},
   "source": [
    "하나의 변수만 포함된 일원 카이제곱검정(one-way chi-squared test) (적합성 검정)\n",
    "\n",
    "xo는 본래 값이고, xe는 기대값이다.\n",
    "\n",
    "하나의 변수만 사용을 하기 때문에, 기대값을 직접 입력을 해줘야 하며\n",
    "\n",
    "(해당 변수만 그대로 바로 기대값으로 사용시, 기대값이 다 똑같다.)\n",
    "\n",
    "귀무 가설은 실제 값과 기대값은 다르다 입니다.\n",
    "\n",
    "(시험에 해당 일원 카이 제곱은 나올 가능성이 적습니다. 하지만 two-way와 비교를 하기 위해서 넣었습니다.)"
   ]
  },
  {
   "cell_type": "code",
   "execution_count": 24,
   "metadata": {
    "ExecuteTime": {
     "end_time": "2021-03-03T13:30:15.653125Z",
     "start_time": "2021-03-03T13:30:15.646129Z"
    }
   },
   "outputs": [
    {
     "name": "stdout",
     "output_type": "stream",
     "text": [
      "     Item A  Item B  Item C\n",
      "Obs     324      78     261\n",
      "Exp     371      80     212\n"
     ]
    },
    {
     "data": {
      "text/plain": [
       "Power_divergenceResult(statistic=17.329649595687332, pvalue=0.00017254977751013492)"
      ]
     },
     "execution_count": 24,
     "metadata": {},
     "output_type": "execute_result"
    }
   ],
   "source": [
    "from scipy.stats import chisquare #교차분석\n",
    "xo, xe = [324, 78, 261], [371, 80, 212]\n",
    "xc = DataFrame([xo, xe], columns=['Item A', 'Item B', 'Item C'], \n",
    "               index=['Obs', 'Exp'])\n",
    "print(xc)\n",
    "\n",
    "result = chisquare(xo, f_exp=xe)\n",
    "result"
   ]
  },
  {
   "cell_type": "markdown",
   "metadata": {},
   "source": [
    "pvalue가 0.05 이하로, 실제 값과 기대값의 차이가 있다는 것을 확인할 수 있었습니다.\n",
    "\n",
    "다음으로는 교차분석이 나올 경우, 수행할 가능성이 높은 two-way 카이제곱 검정입니다. (독립성, 동일성 검정)\n",
    "\n",
    "두 변수 간의 차이가 있느냐 없느냐를 보는 것으로\n",
    "\n",
    "예시로는 성별과 아이템 종류를 사용해보겠습니다.\n",
    "\n",
    "귀무 가설은 성별과 아이템의 종류는 관련성이 없다 이며,\n",
    "\n",
    "현재 결과에서는 pvalue 값이 0.05 이하이므로, 성별과 아이템의 종류는 서로 관련성이 있다는 것을 볼 수 있습니다."
   ]
  },
  {
   "cell_type": "markdown",
   "metadata": {},
   "source": [
    "출력 값 : chi-square 값, pvalue, degree of freedom, array(expected value)"
   ]
  },
  {
   "cell_type": "code",
   "execution_count": 6,
   "metadata": {
    "ExecuteTime": {
     "end_time": "2021-03-13T11:48:04.188696Z",
     "start_time": "2021-03-13T11:48:04.157807Z"
    }
   },
   "outputs": [
    {
     "name": "stdout",
     "output_type": "stream",
     "text": [
      "        Item 1  Item 2  Item 3\n",
      "Female     269      83     215\n",
      "Male       155      57     181\n"
     ]
    },
    {
     "data": {
      "text/plain": [
       "(7.094264414804222,\n",
       " 0.028807134195296135,\n",
       " 2,\n",
       " array([[250.425 ,  82.6875, 233.8875],\n",
       "        [173.575 ,  57.3125, 162.1125]]))"
      ]
     },
     "execution_count": 6,
     "metadata": {},
     "output_type": "execute_result"
    }
   ],
   "source": [
    "xf, xm = [269, 83, 215], [155, 57, 181]\n",
    "x = DataFrame([xf, xm], columns=['Item 1', 'Item 2', 'Item 3'], \n",
    "              index=['Female', 'Male'])\n",
    "print(x)\n",
    "\n",
    "stats.chi2_contingency(x)"
   ]
  },
  {
   "cell_type": "markdown",
   "metadata": {},
   "source": [
    "### 분산분석\n",
    "\n",
    "그룹간 단순하게 F검정으로 분산 분석을 하는 방법과\n",
    "\n",
    "여러 변수들과 함께 검정을 해야되는 경우 anova 검증하는 방법이 있다.\n",
    "\n",
    "기본적인 귀무 가설은 해당 변수의 그룹간에 차이가 없다 이다."
   ]
  },
  {
   "cell_type": "code",
   "execution_count": 28,
   "metadata": {
    "ExecuteTime": {
     "end_time": "2021-03-13T15:47:04.198990Z",
     "start_time": "2021-03-13T15:47:03.086317Z"
    }
   },
   "outputs": [
    {
     "data": {
      "text/plain": [
       "F_onewayResult(statistic=3.7113359882669763, pvalue=0.043589334959178244)"
      ]
     },
     "execution_count": 28,
     "metadata": {},
     "output_type": "execute_result"
    }
   ],
   "source": [
    "from statsmodels.formula.api import ols\n",
    "from statsmodels.stats.anova import anova_lm\n",
    "\n",
    "import urllib #데이터 불러오기 용도\n",
    "url = 'https://raw.githubusercontent.com/thomas-haslwanter/statsintro_python/master/ipynb/Data/data_altman/altman_910.txt'\n",
    "data = np.genfromtxt(urllib.request.urlopen(url), delimiter=',')\n",
    "\n",
    "# Sort them into groups, according to column 1\n",
    "group1, group2, group3 = data[data[:,1]==1,0], data[data[:,1]==2,0], data[data[:,1]==3,0]\n",
    "\n",
    "stats.f_oneway(group1, group2, group3)"
   ]
  },
  {
   "cell_type": "markdown",
   "metadata": {},
   "source": [
    "단순히 그룹간에 F검정을 하는 경우와 anova 검정을 사용해서 검증을 하는 방법이 있는데\n",
    "\n",
    "일원 분산 분석과 anova는 애초에 결과가 같을 수 밖에 없다"
   ]
  },
  {
   "cell_type": "code",
   "execution_count": 31,
   "metadata": {
    "ExecuteTime": {
     "end_time": "2021-03-03T13:37:05.679349Z",
     "start_time": "2021-03-03T13:37:05.660349Z"
    }
   },
   "outputs": [
    {
     "name": "stdout",
     "output_type": "stream",
     "text": [
      "                df        sum_sq      mean_sq         F    PR(>F)\n",
      "C(treatment)   2.0  15515.766414  7757.883207  3.711336  0.043589\n",
      "Residual      19.0  39716.097222  2090.320906       NaN       NaN\n"
     ]
    }
   ],
   "source": [
    "df = pd.DataFrame(data, columns=['value', 'treatment'])    \n",
    "\n",
    "# the \"C\" indicates categorical data\n",
    "model = ols('value ~ C(treatment)', df).fit()\n",
    "print(anova_lm(model))"
   ]
  },
  {
   "cell_type": "markdown",
   "metadata": {
    "ExecuteTime": {
     "end_time": "2021-03-13T16:13:25.375840Z",
     "start_time": "2021-03-13T16:13:25.371841Z"
    }
   },
   "source": [
    "다중 분산 분석을 하는 경우, 식에 교호작용까지 같이 넣어서 분석을 하는 경우\n",
    "\n",
    "그 결과까지 볼 수 있는데, 여기서는 pvalue 가 0.32정도로 fetus와 observer 변수간에는 교호작용이 없다는 귀무가설을 기각하지 못한다"
   ]
  },
  {
   "cell_type": "code",
   "execution_count": 36,
   "metadata": {
    "ExecuteTime": {
     "end_time": "2021-03-03T13:40:19.610414Z",
     "start_time": "2021-03-03T13:40:19.416731Z"
    }
   },
   "outputs": [
    {
     "name": "stdout",
     "output_type": "stream",
     "text": [
      "                        df      sum_sq     mean_sq            F        PR(>F)\n",
      "C(fetus)               2.0  324.008889  162.004444  2113.101449  1.051039e-27\n",
      "C(observer)            3.0    1.198611    0.399537     5.211353  6.497055e-03\n",
      "C(fetus):C(observer)   6.0    0.562222    0.093704     1.222222  3.295509e-01\n",
      "Residual              24.0    1.840000    0.076667          NaN           NaN\n"
     ]
    }
   ],
   "source": [
    "inFile = 'altman_12_6.txt'\n",
    "url_base = 'https://raw.githubusercontent.com/thomas-haslwanter/statsintro_python/master/ipynb/Data/data_altman/'\n",
    "url = url_base + inFile\n",
    "data = np.genfromtxt(urllib.request.urlopen(url), delimiter=',')\n",
    "\n",
    "# Bring them in dataframe-format\n",
    "df = pd.DataFrame(data, columns=['head_size', 'fetus', 'observer'])\n",
    "\n",
    "formula = 'head_size ~ C(fetus) + C(observer) + C(fetus):C(observer)'\n",
    "lm = ols(formula, df).fit()\n",
    "print(anova_lm(lm))"
   ]
  },
  {
   "cell_type": "markdown",
   "metadata": {},
   "source": [
    "### 상관분석"
   ]
  },
  {
   "cell_type": "code",
   "execution_count": 17,
   "metadata": {
    "ExecuteTime": {
     "end_time": "2021-03-13T11:56:32.265696Z",
     "start_time": "2021-03-13T11:56:32.253696Z"
    }
   },
   "outputs": [
    {
     "name": "stdout",
     "output_type": "stream",
     "text": [
      "                hour  attendance    weight        iq   library\n",
      "hour        1.000000    0.492917 -0.362082  0.791026  0.673212\n",
      "attendance  0.492917    1.000000 -0.029190  0.588915  0.341568\n",
      "weight     -0.362082   -0.029190  1.000000 -0.295475  0.128588\n",
      "iq          0.791026    0.588915 -0.295475  1.000000  0.436244\n",
      "library     0.673212    0.341568  0.128588  0.436244  1.000000\n"
     ]
    }
   ],
   "source": [
    "import matplotlib.pyplot as plt\n",
    "import seaborn as sns\n",
    "\n",
    "##########데이터 로드\n",
    "df = pd.DataFrame([\n",
    "        ['A01', 2, 1, 60, 139, 'country', 0, 'fail'],\n",
    "        ['A02', 3, 2, 80, 148, 'country', 0, 'fail'],\n",
    "        ['A03', 3, 4, 50, 149, 'country', 0, 'fail'],\n",
    "        ['A04', 5, 5, 40, 151, 'country', 0, 'pass'],\n",
    "        ['A05', 7, 5, 35, 154, 'city', 0, 'pass'],\n",
    "        ['A06', 2, 5, 45, 149, 'country', 0, 'fail'],\n",
    "        ['A07',8, 9, 40, 155, 'city', 1, 'pass'],\n",
    "        ['A08', 9, 10, 70, 155, 'city', 3, 'pass'],\n",
    "        ['A09', 6, 12, 55, 154, 'city', 0, 'pass'],\n",
    "        ['A10', 9, 2, 40, 156, 'city', 1, 'pass'],\n",
    "        ['A11', 6, 10, 60, 153, 'city', 0, 'pass'],\n",
    "        ['A12', 2, 4, 75, 151, 'country', 0, 'fail']\n",
    "    ], columns=['ID', 'hour', 'attendance', 'weight', 'iq', 'region', 'library', 'pass'])\n",
    "\n",
    "##########데이터 분석\n",
    "\n",
    "corr = df.corr(method='pearson')\n",
    "print(corr)"
   ]
  },
  {
   "cell_type": "markdown",
   "metadata": {},
   "source": [
    "상관분석은 크게 어려운 것이 없이, 단순하게 corr을 이용하면 되고,\n",
    "\n",
    "시각화의 경우도 heatmap을 그리면 완성입니다.\n",
    "\n",
    "하지만 시각화의 경우, 단순하게 heatmap만 그리고 끝내는 것보다는\n",
    "\n",
    "자기 자신과의 상관관계가 1인 것은 제거를 해주고 \n",
    "\n",
    "좀 더 명확하게 관계가 드러날 수 있게 하는 것이 개인적으로는 좋다고 생각됩니다.\n",
    "\n",
    "해당 분석이 시험에 나온다면, 전체적인 변수들간의 관계, 그리고 시각화 이외에는 나올 것이 없을 것으로 보입니다.\n",
    "\n",
    "추가적으로 분석을 더 하자면 이와 관련된 다중공선성이 나올 수 있지만\n",
    "\n",
    "그것은 데이터 마이닝쪽 회귀 분석을 하면서 보도록 하겠습니다."
   ]
  },
  {
   "cell_type": "code",
   "execution_count": 21,
   "metadata": {
    "ExecuteTime": {
     "end_time": "2021-03-13T11:57:15.943807Z",
     "start_time": "2021-03-13T11:57:15.621791Z"
    }
   },
   "outputs": [
    {
     "data": {
      "image/png": "[encoded data removed]",
      "text/plain": [
       "<Figure size 432x288 with 2 Axes>"
      ]
     },
     "metadata": {},
     "output_type": "display_data"
    },
    {
     "data": {
      "image/png": "[encoded data removed]",
      "text/plain": [
       "<Figure size 864x648 with 2 Axes>"
      ]
     },
     "metadata": {},
     "output_type": "display_data"
    }
   ],
   "source": [
    "sns.heatmap(corr, cmap='viridis')\n",
    "plt.show();\n",
    "\n",
    "sns.set(style=\"white\")\n",
    "mask=np.zeros_like(corr,dtype=np.bool)\n",
    "mask[np.triu_indices_from(mask)]=True\n",
    "\n",
    "f,ax=plt.subplots(figsize=(12,9))\n",
    "cmap=sns.diverging_palette(200,10,as_cmap=True)\n",
    "sns.heatmap(corr,mask=mask,cmap=cmap,center=0,square=True,\n",
    "            linewidths=0.5,cbar_kws={\"shrink\":1},annot=True);\n",
    "#annot는 히트맵 안에 숫자 생성해주는 것\n",
    "#글자 잘림은 subplots 사이즈 등 조절하면 쉽게 조절 가능"
   ]
  },
  {
   "cell_type": "markdown",
   "metadata": {},
   "source": [
    "### 연관 분석"
   ]
  },
  {
   "cell_type": "markdown",
   "metadata": {},
   "source": [
    "분석용 데이터는 해당 사이트에서 구하였습니다.\n",
    "\n",
    "https://tjansry354.tistory.com/10\n",
    "\n",
    "해당 데이터를 가공하였던 설명입니다.\n",
    "\n",
    "----------------------------------------------\n",
    "\n",
    "연관분석 함수를 쓰려면 DataFrame을 list로 만들어야합니다.\n",
    "\n",
    "그럼 다른 데이터는 지우고, item_name을 order_id에 따라 그룹짓도록 하겠습니다.\n",
    "\n",
    "order_id가 1834까지 있기 때문에, 리스트의 크기를 1835로 해서 2차원 리스트를 만듭니다.\n",
    "\n",
    "order_id가 1부터 시작이다 보니, 0은 null값으로 들어갔군요. pop()으로 제거하고 계속하겠습니다.\n",
    "\n",
    "그리고 한테이블에 같은 메뉴를 다수로 시킨 경우도 있으니, 중복값을 제거하는 set()도 사용합니다."
   ]
  },
  {
   "cell_type": "code",
   "execution_count": 31,
   "metadata": {
    "ExecuteTime": {
     "end_time": "2021-03-13T16:16:31.919620Z",
     "start_time": "2021-03-13T16:16:31.452952Z"
    }
   },
   "outputs": [
    {
     "data": {
      "text/plain": [
       "['Izze',\n",
       " 'Chips and Tomatillo-Green Chili Salsa',\n",
       " 'Nantucket Nectar',\n",
       " 'Chips and Fresh Tomato Salsa']"
      ]
     },
     "execution_count": 31,
     "metadata": {},
     "output_type": "execute_result"
    }
   ],
   "source": [
    "from mlxtend.preprocessing import TransactionEncoder\n",
    "from mlxtend.frequent_patterns import apriori, association_rules\n",
    "\n",
    "df1 = pd.read_csv(\"chipotle.tsv\",error_bad_lines=False, sep='\\t')\n",
    "\n",
    "df_tmp=df1[['order_id','item_name']]\n",
    "df_tmp_arr=[[]for i in range(1835)]\n",
    "num=0\n",
    "for i in df_tmp['item_name'] :\n",
    "    df_tmp_arr[df_tmp['order_id'][num]].append(i)\n",
    "    num+=1\n",
    "    \n",
    "df_tmp_arr.pop(0)\n",
    "num=0\n",
    "for i in df_tmp_arr :\n",
    "    df_tmp_arr[num] = list(set(df_tmp_arr[num]))\n",
    "    num+=1\n",
    "df_tmp_arr[0]"
   ]
  },
  {
   "cell_type": "code",
   "execution_count": 32,
   "metadata": {
    "ExecuteTime": {
     "end_time": "2021-03-13T16:16:36.139957Z",
     "start_time": "2021-03-13T16:16:36.124962Z"
    }
   },
   "outputs": [
    {
     "data": {
      "text/html": [
       "<div>\n",
       "<style scoped>\n",
       "    .dataframe tbody tr th:only-of-type {\n",
       "        vertical-align: middle;\n",
       "    }\n",
       "\n",
       "    .dataframe tbody tr th {\n",
       "        vertical-align: top;\n",
       "    }\n",
       "\n",
       "    .dataframe thead th {\n",
       "        text-align: right;\n",
       "    }\n",
       "</style>\n",
       "<table border=\"1\" class=\"dataframe\">\n",
       "  <thead>\n",
       "    <tr style=\"text-align: right;\">\n",
       "      <th></th>\n",
       "      <th>support</th>\n",
       "      <th>itemsets</th>\n",
       "    </tr>\n",
       "  </thead>\n",
       "  <tbody>\n",
       "    <tr>\n",
       "      <th>0</th>\n",
       "      <td>0.083969</td>\n",
       "      <td>(Bottled Water)</td>\n",
       "    </tr>\n",
       "    <tr>\n",
       "      <th>1</th>\n",
       "      <td>0.051254</td>\n",
       "      <td>(Canned Soda)</td>\n",
       "    </tr>\n",
       "    <tr>\n",
       "      <th>2</th>\n",
       "      <td>0.150491</td>\n",
       "      <td>(Canned Soft Drink)</td>\n",
       "    </tr>\n",
       "    <tr>\n",
       "      <th>3</th>\n",
       "      <td>0.335333</td>\n",
       "      <td>(Chicken Bowl)</td>\n",
       "    </tr>\n",
       "    <tr>\n",
       "      <th>4</th>\n",
       "      <td>0.266630</td>\n",
       "      <td>(Chicken Burrito)</td>\n",
       "    </tr>\n",
       "    <tr>\n",
       "      <th>5</th>\n",
       "      <td>0.053435</td>\n",
       "      <td>(Chicken Salad Bowl)</td>\n",
       "    </tr>\n",
       "    <tr>\n",
       "      <th>6</th>\n",
       "      <td>0.058342</td>\n",
       "      <td>(Chicken Soft Tacos)</td>\n",
       "    </tr>\n",
       "    <tr>\n",
       "      <th>7</th>\n",
       "      <td>0.113413</td>\n",
       "      <td>(Chips)</td>\n",
       "    </tr>\n",
       "    <tr>\n",
       "      <th>8</th>\n",
       "      <td>0.059978</td>\n",
       "      <td>(Chips and Fresh Tomato Salsa)</td>\n",
       "    </tr>\n",
       "    <tr>\n",
       "      <th>9</th>\n",
       "      <td>0.258451</td>\n",
       "      <td>(Chips and Guacamole)</td>\n",
       "    </tr>\n",
       "    <tr>\n",
       "      <th>10</th>\n",
       "      <td>0.055071</td>\n",
       "      <td>(Side of Chips)</td>\n",
       "    </tr>\n",
       "    <tr>\n",
       "      <th>11</th>\n",
       "      <td>0.102508</td>\n",
       "      <td>(Steak Bowl)</td>\n",
       "    </tr>\n",
       "    <tr>\n",
       "      <th>12</th>\n",
       "      <td>0.186478</td>\n",
       "      <td>(Steak Burrito)</td>\n",
       "    </tr>\n",
       "    <tr>\n",
       "      <th>13</th>\n",
       "      <td>0.060523</td>\n",
       "      <td>(Canned Soft Drink, Chicken Bowl)</td>\n",
       "    </tr>\n",
       "    <tr>\n",
       "      <th>14</th>\n",
       "      <td>0.066521</td>\n",
       "      <td>(Chips, Chicken Bowl)</td>\n",
       "    </tr>\n",
       "    <tr>\n",
       "      <th>15</th>\n",
       "      <td>0.081243</td>\n",
       "      <td>(Chips and Guacamole, Chicken Bowl)</td>\n",
       "    </tr>\n",
       "    <tr>\n",
       "      <th>16</th>\n",
       "      <td>0.062159</td>\n",
       "      <td>(Chicken Burrito, Chips and Guacamole)</td>\n",
       "    </tr>\n",
       "  </tbody>\n",
       "</table>\n",
       "</div>"
      ],
      "text/plain": [
       "     support                                itemsets\n",
       "0   0.083969                         (Bottled Water)\n",
       "1   0.051254                           (Canned Soda)\n",
       "2   0.150491                     (Canned Soft Drink)\n",
       "3   0.335333                          (Chicken Bowl)\n",
       "4   0.266630                       (Chicken Burrito)\n",
       "5   0.053435                    (Chicken Salad Bowl)\n",
       "6   0.058342                    (Chicken Soft Tacos)\n",
       "7   0.113413                                 (Chips)\n",
       "8   0.059978          (Chips and Fresh Tomato Salsa)\n",
       "9   0.258451                   (Chips and Guacamole)\n",
       "10  0.055071                         (Side of Chips)\n",
       "11  0.102508                            (Steak Bowl)\n",
       "12  0.186478                         (Steak Burrito)\n",
       "13  0.060523       (Canned Soft Drink, Chicken Bowl)\n",
       "14  0.066521                   (Chips, Chicken Bowl)\n",
       "15  0.081243     (Chips and Guacamole, Chicken Bowl)\n",
       "16  0.062159  (Chicken Burrito, Chips and Guacamole)"
      ]
     },
     "execution_count": 32,
     "metadata": {},
     "output_type": "execute_result"
    }
   ],
   "source": [
    "te = TransactionEncoder()\n",
    "#주어진 코드에서 fit 함수를 통해 dataset은 고유한 라벨을 갖게 되고 , \n",
    "#transform함수를 통해서 파이썬 리스트를 one-hot 인코딩 된 numPy 배열로 변환합니다.\n",
    "te_ary = te.fit(df_tmp_arr).transform(df_tmp_arr) \n",
    "df = pd.DataFrame(te_ary, columns=te.columns_)\n",
    "\n",
    "frequent_itemsets = apriori(df, min_support=0.05, use_colnames=True)\n",
    "frequent_itemsets"
   ]
  },
  {
   "cell_type": "markdown",
   "metadata": {},
   "source": [
    "apriori에 가공된 데이터를 넣고 최소한의 support를 지정해주면 위와 같은 결과가 나온다\n",
    "\n",
    "여기서 쉼표로 구분이 없는 것들은 연관성의 메인은 아니고\n",
    "\n",
    "조건절과 결과절을 연결 할 수 있는 것은 쉼표가 있는 것들이다."
   ]
  },
  {
   "cell_type": "markdown",
   "metadata": {},
   "source": [
    "antecedents : 조건절\n",
    "\n",
    "consequents : 결과절\n",
    "\n",
    "→만일 (조건절)이라면 (결과절)\n",
    "\n",
    "lift가 1이면 두 항목은 독립\n",
    "\n",
    "1보다 크면 양의 상관관계, 1보다 작으면 음의 상관관계(우연보다 낮은 확률)"
   ]
  },
  {
   "cell_type": "code",
   "execution_count": 64,
   "metadata": {
    "ExecuteTime": {
     "end_time": "2021-03-03T14:53:22.222115Z",
     "start_time": "2021-03-03T14:53:22.196115Z"
    }
   },
   "outputs": [
    {
     "data": {
      "text/html": [
       "<div>\n",
       "<style scoped>\n",
       "    .dataframe tbody tr th:only-of-type {\n",
       "        vertical-align: middle;\n",
       "    }\n",
       "\n",
       "    .dataframe tbody tr th {\n",
       "        vertical-align: top;\n",
       "    }\n",
       "\n",
       "    .dataframe thead th {\n",
       "        text-align: right;\n",
       "    }\n",
       "</style>\n",
       "<table border=\"1\" class=\"dataframe\">\n",
       "  <thead>\n",
       "    <tr style=\"text-align: right;\">\n",
       "      <th></th>\n",
       "      <th>antecedents</th>\n",
       "      <th>consequents</th>\n",
       "      <th>antecedent support</th>\n",
       "      <th>consequent support</th>\n",
       "      <th>support</th>\n",
       "      <th>confidence</th>\n",
       "      <th>lift</th>\n",
       "      <th>leverage</th>\n",
       "      <th>conviction</th>\n",
       "    </tr>\n",
       "  </thead>\n",
       "  <tbody>\n",
       "    <tr>\n",
       "      <th>0</th>\n",
       "      <td>(Canned Soft Drink)</td>\n",
       "      <td>(Chicken Bowl)</td>\n",
       "      <td>0.150491</td>\n",
       "      <td>0.335333</td>\n",
       "      <td>0.060523</td>\n",
       "      <td>0.402174</td>\n",
       "      <td>1.199328</td>\n",
       "      <td>0.010059</td>\n",
       "      <td>1.111807</td>\n",
       "    </tr>\n",
       "    <tr>\n",
       "      <th>1</th>\n",
       "      <td>(Chicken Bowl)</td>\n",
       "      <td>(Canned Soft Drink)</td>\n",
       "      <td>0.335333</td>\n",
       "      <td>0.150491</td>\n",
       "      <td>0.060523</td>\n",
       "      <td>0.180488</td>\n",
       "      <td>1.199328</td>\n",
       "      <td>0.010059</td>\n",
       "      <td>1.036604</td>\n",
       "    </tr>\n",
       "    <tr>\n",
       "      <th>2</th>\n",
       "      <td>(Chips)</td>\n",
       "      <td>(Chicken Bowl)</td>\n",
       "      <td>0.113413</td>\n",
       "      <td>0.335333</td>\n",
       "      <td>0.066521</td>\n",
       "      <td>0.586538</td>\n",
       "      <td>1.749124</td>\n",
       "      <td>0.028490</td>\n",
       "      <td>1.607568</td>\n",
       "    </tr>\n",
       "    <tr>\n",
       "      <th>3</th>\n",
       "      <td>(Chicken Bowl)</td>\n",
       "      <td>(Chips)</td>\n",
       "      <td>0.335333</td>\n",
       "      <td>0.113413</td>\n",
       "      <td>0.066521</td>\n",
       "      <td>0.198374</td>\n",
       "      <td>1.749124</td>\n",
       "      <td>0.028490</td>\n",
       "      <td>1.105985</td>\n",
       "    </tr>\n",
       "  </tbody>\n",
       "</table>\n",
       "</div>"
      ],
      "text/plain": [
       "           antecedents          consequents  antecedent support  \\\n",
       "0  (Canned Soft Drink)       (Chicken Bowl)            0.150491   \n",
       "1       (Chicken Bowl)  (Canned Soft Drink)            0.335333   \n",
       "2              (Chips)       (Chicken Bowl)            0.113413   \n",
       "3       (Chicken Bowl)              (Chips)            0.335333   \n",
       "\n",
       "   consequent support   support  confidence      lift  leverage  conviction  \n",
       "0            0.335333  0.060523    0.402174  1.199328  0.010059    1.111807  \n",
       "1            0.150491  0.060523    0.180488  1.199328  0.010059    1.036604  \n",
       "2            0.335333  0.066521    0.586538  1.749124  0.028490    1.607568  \n",
       "3            0.113413  0.066521    0.198374  1.749124  0.028490    1.105985  "
      ]
     },
     "execution_count": 64,
     "metadata": {},
     "output_type": "execute_result"
    }
   ],
   "source": [
    "association_rules(frequent_itemsets, metric=\"lift\", min_threshold=1)"
   ]
  },
  {
   "cell_type": "code",
   "execution_count": 69,
   "metadata": {
    "ExecuteTime": {
     "end_time": "2021-03-03T15:07:54.829611Z",
     "start_time": "2021-03-03T15:07:54.810577Z"
    }
   },
   "outputs": [
    {
     "data": {
      "text/html": [
       "<div>\n",
       "<style scoped>\n",
       "    .dataframe tbody tr th:only-of-type {\n",
       "        vertical-align: middle;\n",
       "    }\n",
       "\n",
       "    .dataframe tbody tr th {\n",
       "        vertical-align: top;\n",
       "    }\n",
       "\n",
       "    .dataframe thead th {\n",
       "        text-align: right;\n",
       "    }\n",
       "</style>\n",
       "<table border=\"1\" class=\"dataframe\">\n",
       "  <thead>\n",
       "    <tr style=\"text-align: right;\">\n",
       "      <th></th>\n",
       "      <th>antecedents</th>\n",
       "      <th>consequents</th>\n",
       "      <th>antecedent support</th>\n",
       "      <th>consequent support</th>\n",
       "      <th>support</th>\n",
       "      <th>confidence</th>\n",
       "      <th>lift</th>\n",
       "      <th>leverage</th>\n",
       "      <th>conviction</th>\n",
       "    </tr>\n",
       "  </thead>\n",
       "  <tbody>\n",
       "    <tr>\n",
       "      <th>0</th>\n",
       "      <td>(Canned Soft Drink)</td>\n",
       "      <td>(Chicken Bowl)</td>\n",
       "      <td>0.150491</td>\n",
       "      <td>0.335333</td>\n",
       "      <td>0.060523</td>\n",
       "      <td>0.402174</td>\n",
       "      <td>1.199328</td>\n",
       "      <td>0.010059</td>\n",
       "      <td>1.111807</td>\n",
       "    </tr>\n",
       "    <tr>\n",
       "      <th>1</th>\n",
       "      <td>(Chicken Bowl)</td>\n",
       "      <td>(Canned Soft Drink)</td>\n",
       "      <td>0.335333</td>\n",
       "      <td>0.150491</td>\n",
       "      <td>0.060523</td>\n",
       "      <td>0.180488</td>\n",
       "      <td>1.199328</td>\n",
       "      <td>0.010059</td>\n",
       "      <td>1.036604</td>\n",
       "    </tr>\n",
       "    <tr>\n",
       "      <th>2</th>\n",
       "      <td>(Chips)</td>\n",
       "      <td>(Chicken Bowl)</td>\n",
       "      <td>0.113413</td>\n",
       "      <td>0.335333</td>\n",
       "      <td>0.066521</td>\n",
       "      <td>0.586538</td>\n",
       "      <td>1.749124</td>\n",
       "      <td>0.028490</td>\n",
       "      <td>1.607568</td>\n",
       "    </tr>\n",
       "    <tr>\n",
       "      <th>3</th>\n",
       "      <td>(Chicken Bowl)</td>\n",
       "      <td>(Chips)</td>\n",
       "      <td>0.335333</td>\n",
       "      <td>0.113413</td>\n",
       "      <td>0.066521</td>\n",
       "      <td>0.198374</td>\n",
       "      <td>1.749124</td>\n",
       "      <td>0.028490</td>\n",
       "      <td>1.105985</td>\n",
       "    </tr>\n",
       "    <tr>\n",
       "      <th>4</th>\n",
       "      <td>(Chips and Guacamole)</td>\n",
       "      <td>(Chicken Bowl)</td>\n",
       "      <td>0.258451</td>\n",
       "      <td>0.335333</td>\n",
       "      <td>0.081243</td>\n",
       "      <td>0.314346</td>\n",
       "      <td>0.937416</td>\n",
       "      <td>-0.005424</td>\n",
       "      <td>0.969392</td>\n",
       "    </tr>\n",
       "    <tr>\n",
       "      <th>5</th>\n",
       "      <td>(Chicken Bowl)</td>\n",
       "      <td>(Chips and Guacamole)</td>\n",
       "      <td>0.335333</td>\n",
       "      <td>0.258451</td>\n",
       "      <td>0.081243</td>\n",
       "      <td>0.242276</td>\n",
       "      <td>0.937416</td>\n",
       "      <td>-0.005424</td>\n",
       "      <td>0.978653</td>\n",
       "    </tr>\n",
       "    <tr>\n",
       "      <th>6</th>\n",
       "      <td>(Chips and Guacamole)</td>\n",
       "      <td>(Chicken Burrito)</td>\n",
       "      <td>0.258451</td>\n",
       "      <td>0.266630</td>\n",
       "      <td>0.062159</td>\n",
       "      <td>0.240506</td>\n",
       "      <td>0.902022</td>\n",
       "      <td>-0.006752</td>\n",
       "      <td>0.965603</td>\n",
       "    </tr>\n",
       "    <tr>\n",
       "      <th>7</th>\n",
       "      <td>(Chicken Burrito)</td>\n",
       "      <td>(Chips and Guacamole)</td>\n",
       "      <td>0.266630</td>\n",
       "      <td>0.258451</td>\n",
       "      <td>0.062159</td>\n",
       "      <td>0.233129</td>\n",
       "      <td>0.902022</td>\n",
       "      <td>-0.006752</td>\n",
       "      <td>0.966979</td>\n",
       "    </tr>\n",
       "  </tbody>\n",
       "</table>\n",
       "</div>"
      ],
      "text/plain": [
       "             antecedents            consequents  antecedent support  \\\n",
       "0    (Canned Soft Drink)         (Chicken Bowl)            0.150491   \n",
       "1         (Chicken Bowl)    (Canned Soft Drink)            0.335333   \n",
       "2                (Chips)         (Chicken Bowl)            0.113413   \n",
       "3         (Chicken Bowl)                (Chips)            0.335333   \n",
       "4  (Chips and Guacamole)         (Chicken Bowl)            0.258451   \n",
       "5         (Chicken Bowl)  (Chips and Guacamole)            0.335333   \n",
       "6  (Chips and Guacamole)      (Chicken Burrito)            0.258451   \n",
       "7      (Chicken Burrito)  (Chips and Guacamole)            0.266630   \n",
       "\n",
       "   consequent support   support  confidence      lift  leverage  conviction  \n",
       "0            0.335333  0.060523    0.402174  1.199328  0.010059    1.111807  \n",
       "1            0.150491  0.060523    0.180488  1.199328  0.010059    1.036604  \n",
       "2            0.335333  0.066521    0.586538  1.749124  0.028490    1.607568  \n",
       "3            0.113413  0.066521    0.198374  1.749124  0.028490    1.105985  \n",
       "4            0.335333  0.081243    0.314346  0.937416 -0.005424    0.969392  \n",
       "5            0.258451  0.081243    0.242276  0.937416 -0.005424    0.978653  \n",
       "6            0.266630  0.062159    0.240506  0.902022 -0.006752    0.965603  \n",
       "7            0.258451  0.062159    0.233129  0.902022 -0.006752    0.966979  "
      ]
     },
     "execution_count": 69,
     "metadata": {},
     "output_type": "execute_result"
    }
   ],
   "source": [
    "association_rules(frequent_itemsets, metric=\"confidence\", min_threshold=0.1)"
   ]
  },
  {
   "cell_type": "markdown",
   "metadata": {},
   "source": [
    "### t검정\n",
    "\n",
    "t검정은 3종류로 하나의 표본이 특정 값과 차이가 있는지 없는지를 검증하는 단일표본 t 검정\n",
    "\n",
    "두 집단간의 차이가 있는지 검증하는 독립표본 t 검정 (A그룹 약 복용 / B그룹 약 미 복용)\n",
    "\n",
    "한 집단의 전과 후를 비교하는 대응표본 t 검정으로 나뉩니다. (A그룹 약 복용 전 / B그룹 약 복용 후)\n",
    "\n",
    "기본적으로 귀무가설은 표본과 해당 값은 차이가 없다, 두 집단은 차이가 없다, 해당 그룹의 전과 후는 차이가 없다 입니다."
   ]
  },
  {
   "cell_type": "code",
   "execution_count": 22,
   "metadata": {
    "ExecuteTime": {
     "end_time": "2021-03-13T12:07:29.213702Z",
     "start_time": "2021-03-13T12:07:29.196179Z"
    }
   },
   "outputs": [
    {
     "data": {
      "text/plain": [
       "Ttest_1sampResult(statistic=-2.3501608059776435, pvalue=0.029721802204110182)"
      ]
     },
     "execution_count": 22,
     "metadata": {},
     "output_type": "execute_result"
    }
   ],
   "source": [
    "dat_M = [117, 108, 105, 89, 101, 93, 96, 108, 108, 94, 93, 112, 92, 91, 100, 96, 120, 86, 96, 95]\n",
    "dat_F = [121, 101, 102, 114, 103, 105, 101, 131, 96, 109, 109, 113, 115, 94, 108, 96, 110, 112, 120, 100]\n",
    "\n",
    "stats.ttest_1samp(dat_M, 105) #일표본 t 검정"
   ]
  },
  {
   "cell_type": "markdown",
   "metadata": {},
   "source": [
    "독립표본의 경우, 두 집단을 비교하는 stats.ttest_ind 함수 안에 equal_var 이라는 옵션이 있습니다.\n",
    "\n",
    "바로, 두 집단이 등분산인지 이분산인지 표시를 해주는 옵션으로\n",
    "\n",
    "이는 일원 분산 분석을 수행해서 결과를 확인 후 결정하면 됩니다."
   ]
  },
  {
   "cell_type": "code",
   "execution_count": 26,
   "metadata": {
    "ExecuteTime": {
     "end_time": "2021-03-13T12:08:17.063919Z",
     "start_time": "2021-03-13T12:08:17.051401Z"
    }
   },
   "outputs": [
    {
     "name": "stdout",
     "output_type": "stream",
     "text": [
      "F_onewayResult(statistic=7.131964809384164, pvalue=0.011082895240510133)\n"
     ]
    },
    {
     "data": {
      "text/plain": [
       "Ttest_indResult(statistic=-2.670573872669349, pvalue=0.01108318824471652)"
      ]
     },
     "execution_count": 26,
     "metadata": {},
     "output_type": "execute_result"
    }
   ],
   "source": [
    "print(stats.f_oneway(dat_M, dat_F)) # -> 검증결과 pvalue 0.01로 분산 다름 확인 완료\n",
    "\n",
    "#독립표본 t검정\n",
    "stats.ttest_ind(dat_M, dat_F, equal_var=False) #마지막 옵션은 분산 동일 여부"
   ]
  },
  {
   "cell_type": "markdown",
   "metadata": {},
   "source": [
    "대응표본"
   ]
  },
  {
   "cell_type": "code",
   "execution_count": 27,
   "metadata": {
    "ExecuteTime": {
     "end_time": "2021-03-13T12:08:24.547522Z",
     "start_time": "2021-03-13T12:08:24.529498Z"
    }
   },
   "outputs": [
    {
     "data": {
      "text/plain": [
       "Ttest_relResult(statistic=-2.9868874599588247, pvalue=0.007578486289181322)"
      ]
     },
     "execution_count": 27,
     "metadata": {},
     "output_type": "execute_result"
    }
   ],
   "source": [
    "stats.ttest_rel(dat_M, dat_F)"
   ]
  }
 ],
 "metadata": {
  "hide_input": false,
  "kernelspec": {
   "display_name": "Python 3 (ipykernel)",
   "language": "python",
   "name": "python3"
  },
  "language_info": {
   "codemirror_mode": {
    "name": "ipython",
    "version": 3
   },
   "file_extension": ".py",
   "mimetype": "text/x-python",
   "name": "python",
   "nbconvert_exporter": "python",
   "pygments_lexer": "ipython3",
   "version": "3.9.12"
  },
  "toc": {
   "base_numbering": 1,
   "nav_menu": {},
   "number_sections": true,
   "sideBar": true,
   "skip_h1_title": false,
   "title_cell": "Table of Contents",
   "title_sidebar": "Contents",
   "toc_cell": false,
   "toc_position": {
    "height": "calc(100% - 180px)",
    "left": "10px",
    "top": "150px",
    "width": "191.594px"
   },
   "toc_section_display": true,
   "toc_window_display": true
  },
  "varInspector": {
   "cols": {
    "lenName": 16,
    "lenType": 16,
    "lenVar": 40
   },
   "kernels_config": {
    "python": {
     "delete_cmd_postfix": "",
     "delete_cmd_prefix": "del ",
     "library": "var_list.py",
     "varRefreshCmd": "print(var_dic_list())"
    },
    "r": {
     "delete_cmd_postfix": ") ",
     "delete_cmd_prefix": "rm(",
     "library": "var_list.r",
     "varRefreshCmd": "cat(var_dic_list()) "
    }
   },
   "types_to_exclude": [
    "module",
    "function",
    "builtin_function_or_method",
    "instance",
    "_Feature"
   ],
   "window_display": false
  }
 },
 "nbformat": 4,
 "nbformat_minor": 4
}
