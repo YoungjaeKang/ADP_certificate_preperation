{
 "cells": [
  {
   "cell_type": "markdown",
   "id": "ef7a985b",
   "metadata": {},
   "source": [
    "------------------------- 데이터 전처리 -------------------------"
   ]
  },
  {
   "cell_type": "markdown",
   "id": "511726ae",
   "metadata": {},
   "source": [
    "# 파이썬 기초"
   ]
  },
  {
   "cell_type": "markdown",
   "id": "12191c3f",
   "metadata": {},
   "source": [
    "## 파이썬 다루기"
   ]
  },
  {
   "cell_type": "markdown",
   "id": "62d106a3",
   "metadata": {},
   "source": [
    "### 패키지 사용하기"
   ]
  },
  {
   "cell_type": "markdown",
   "id": "0933ae5f",
   "metadata": {},
   "source": [
    "#### 기본 명령어\n",
    "- ADP 시험에서 사용할 수 있는 패키지 확인 (공식 홈페이지)\n",
    "- 설치된 패키지 목록을 확인 : pip list (conda list)\n",
    "- pwd, ls 등"
   ]
  },
  {
   "cell_type": "markdown",
   "id": "d8a0994c",
   "metadata": {},
   "source": [
    "### 데이터 타입"
   ]
  },
  {
   "cell_type": "markdown",
   "id": "e48e0f3a",
   "metadata": {},
   "source": [
    "#### 데이터 타입 종류"
   ]
  },
  {
   "cell_type": "markdown",
   "id": "35ac1f77",
   "metadata": {},
   "source": [
    "1. Numeric Types: int(정수), float(소수), complex(복소수)\n",
    "2. Sequence Types: str(문자열), list(리스트), tuple(튜플)\n",
    "3. Mapping Type: dict(딕셔너리)\n",
    "4. Set Types: set(집합)\n",
    "5. Boolean Type: bool(불린)\n",
    "6. Binary Types: bytes, bytearray, memoryview\n"
   ]
  },
  {
   "cell_type": "markdown",
   "id": "14172e90",
   "metadata": {},
   "source": [
    "1. Numeric Types : Int / Float / Complex\n",
    "- Int(정수형) : 숫자형의 하나로 소수점이 없는 정수\n",
    "- Float(소수형) : 숫자형의 하나로 소수점이 있는 실수\n",
    "- Complex(복소수) : 실수와 허수의 합인 복소수\n",
    "- 일반적으로 수학에서 가능한 모든 기능을 사용할 수 있음\n",
    "- import math를 통해 수학적 기능을 확장시켜 활용 가능"
   ]
  },
  {
   "cell_type": "markdown",
   "id": "e2b47179",
   "metadata": {},
   "source": [
    "2. Sequence Types : Str / List / Tuple\n",
    "    1. 문자형(str)\n",
    "    - 문자열(String)이란 문자, 단어 등으로 구성된 문자들의 집합을 의미함\n",
    "    - 문자형은 문자를 다룰 수 있는 다양한 추가, 삽입, 수정, 삭제 기능을 제공함\n",
    "    - 길이 구하기, 인덱싱, 슬라이싱, 갯수 세기, 위치 찾기, 삽입, 대체하기, 나누기 등..\n",
    "    2. 리스트(list)\n",
    "    - 리스트를 사용하여 데이터를 묶어서 사용할 수 있음\n",
    "    - 불필요하게 각 각의 변수를 생성하여 데이터를 하나씩 담아줘야하는 문제점을 개선\n",
    "    - 리스트는 문자형처럼 인덱싱(indexing)과 슬라이싱(slicing) 사용 가능\n",
    "    - 또한, 수정, 삭제, 추가, 정렬, 뒤집기, 삽입 등 모두 가능\n",
    "    3. 튜플(tuple)\n",
    "    - 튜플은 2가지 점을 제외하고는 전반적으로 리스트와 유사함\n",
    "    - 차이점1. 리스트는 []로 감싸지만, 튜플은 ()로 감쌈\n",
    "    - 차이점2. 리스트는 요소의 생성, 삭제, 수정이 가능하지만 튜플은 그 값을 바꿀 수 없음\n",
    "    - 다만, 튜플은 인덱싱, 슬라이싱, 더하기, 곱하기, 길이구하기 처럼 기본적인 것은 가능\n",
    "    - 덧셈은 튜플끼리도 가능하지만, 곱셈은 튜플에 숫자를 곱해서만 가능(튜플끼리 곱셉 안됨)\n",
    "    - 또한 튜플이 1개의 값을 갖고 있다면 값 뒤에 콤마(,)를 찍어줘야하고, ()를 생략해도 가능"
   ]
  },
  {
   "cell_type": "markdown",
   "id": "04006b5d",
   "metadata": {},
   "source": [
    "3. Mapping Type : dict\n",
    "    1. 딕셔너리(dict)\n",
    "    - 자바스크립트에서 배열과 유사하기 key와 value를 갖고 있음\n",
    "    - 리스트와 같이 순차적인 index값을 요구하지 않고 key값을 통해 value를 얻음\n",
    "    - {} 중괄호로 감싸서 만들 수 있음. {key1:value1, key2:value2, key3:value3, ...key(N):value(N)}\n",
    "    - 요소를 추가, 삭제, 값 가져오기, 지우기 등..."
   ]
  },
  {
   "cell_type": "markdown",
   "id": "e4754b8c",
   "metadata": {},
   "source": [
    "4. Set Type : set\n",
    "    1. 집합(set)\n",
    "    - 집합 자료형은 set 키워드를 사용해 만들 수 있음. 비어있는 집합 : set()\n",
    "    - 집합은 중복을 허용하지 않기 때문에 집합으로 변환시켰을 때 중복된 값은 제거됨(종종 중복을 없애는 필터 기능으로 사용됨)\n",
    "    - 집합은 순서가 없기 때문에 저장된 값을 인덱싱으로 접근 불가\n",
    "    - 집합에서 인덱싱으로 저장된 값을 저장하기 위해서는 자료형을 리스트나 튜플로 변환 후 제어해야 함\n",
    "    - 집합은 교집합, 합집합, 차집합을 구하는데 이용함"
   ]
  },
  {
   "cell_type": "markdown",
   "id": "4b19dc5c",
   "metadata": {},
   "source": [
    "5. Boolean Type : bool\n",
    "- 불 자료형은 참(True)와 거짓(False)로 나타내는 자료형임. 이 2가지 값만 가질 수 있음\n",
    "- 빈 자료값(\"\", (), {}, [] 등), 숫자 0, None 는 False, 나머지는 True\n",
    "- 조건문과 함께 활용"
   ]
  },
  {
   "cell_type": "markdown",
   "id": "46227fde",
   "metadata": {},
   "source": [
    "#### 형 변환"
   ]
  },
  {
   "cell_type": "markdown",
   "id": "1b662669",
   "metadata": {},
   "source": [
    "- type, astype (df)"
   ]
  },
  {
   "cell_type": "markdown",
   "id": "f349323a",
   "metadata": {},
   "source": [
    "### 데이터 구조"
   ]
  },
  {
   "cell_type": "markdown",
   "id": "45c219d8",
   "metadata": {},
   "source": [
    "#### 리스트\n",
    "- 데이터 타입에 대한 글에서 숫자, 문자형 데이터는 변할 수 없는(immutable) 데이터라고 설명한 적 있습니다. 리스트의 경우 변할 수 있는(mutable) 데이터 입니다."
   ]
  },
  {
   "cell_type": "markdown",
   "id": "e0c0c22d",
   "metadata": {},
   "source": [
    "##### 내장 함수"
   ]
  },
  {
   "cell_type": "code",
   "execution_count": 11,
   "id": "ff766622",
   "metadata": {},
   "outputs": [
    {
     "name": "stdout",
     "output_type": "stream",
     "text": [
      "['수박', '참외', '자몽', '멜론', '망고']\n",
      "['수박', '참외', '망고', '자몽', '멜론', '망고']\n",
      "['수박', '참외', '자몽', '멜론', '망고']\n",
      "망고\n",
      "['수박', '참외', '자몽', '멜론']\n",
      "['멜론', '자몽', '참외', '수박']\n",
      "[]\n"
     ]
    }
   ],
   "source": [
    "# 과일을 담은 리스트\n",
    "fruits = ['수박', '참외', '자몽', '멜론']\n",
    "\n",
    "# 리스트 끝에 추가\n",
    "fruits.append('망고')\n",
    "print(fruits) # ['수박', '참외', '자몽', '멜론', '망고']\n",
    "\n",
    "# 리스트 특정 위치에 삽입 --> 지정한 인덱스에 값을 저장한다.\n",
    "fruits.insert(2, '망고')\n",
    "print(fruits) # ['수박', '참외', '망고', '자몽', '멜론', '망고']\n",
    "\n",
    "# 리스트에서 값으로 제거(첫번 째 값 만 제거된다)\n",
    "fruits.remove('망고')\n",
    "print(fruits) # ['수박', '참외', '자몽', '멜론', '망고']\n",
    "\n",
    "# 리스트에서 인덱스로 값 제거하고 반환한다\n",
    "print(fruits.pop(4)) # 망고\n",
    "print(fruits) # ['수박', '참외', '자몽', '멜론']\n",
    "\n",
    "# 리스트 역순으로 재배치한다.\n",
    "fruits.reverse()\n",
    "print(fruits) # ['멜론', '자몽', '참외', '수박']\n",
    "\n",
    "# 리스트의 모든 값을 제거한다.\n",
    "fruits.clear()\n",
    "print(fruits) # []"
   ]
  },
  {
   "cell_type": "markdown",
   "id": "697b07cd",
   "metadata": {},
   "source": [
    "##### Slicing"
   ]
  },
  {
   "cell_type": "code",
   "execution_count": 12,
   "id": "8e045c4d",
   "metadata": {},
   "outputs": [
    {
     "name": "stdout",
     "output_type": "stream",
     "text": [
      "['수박', '참외']\n",
      "['자몽', '멜론']\n",
      "['참외', '자몽', '멜론']\n",
      "['수박', '자몽']\n"
     ]
    }
   ],
   "source": [
    "# Object[start:end:step]\n",
    "\n",
    "# 과일을 담은 리스트\n",
    "fruits = ['수박', '참외', '자몽', '멜론']\n",
    "\n",
    "# 인덱스 2 전까지 범위로 한다.\n",
    "print(fruits[:2]) # ['수박', '참외']\n",
    "\n",
    "# 인덱스 2를 포함해서 끝까지 범위로 한다.\n",
    "print(fruits[2:]) # ['자몽', '멜론']\n",
    "\n",
    "# 인덱스 1부터 4 전까지 범위로 한다.\n",
    "print(fruits[1:4]) # ['참외', '자몽', '멜론']\n",
    "\n",
    "# 인덱스 0 부터 4 전까지 범위로 잡고 2개씩 건너 뛴다.\n",
    "print(fruits[0:4:2]) # ['수박', '자몽']"
   ]
  },
  {
   "cell_type": "markdown",
   "id": "306645ac",
   "metadata": {},
   "source": [
    "##### del 예약어\n",
    "- 인덱스로 리스트의 값을 제거하는 방법으로 del 예약어를 사용하는 방법이 있습니다. 리스트의 pop 메소드와의 차이는 값을 반환해주지 않는 다는 점입니다. 그리고 slicing을 통해서 범위로 값을 삭제할 수 있습니다."
   ]
  },
  {
   "cell_type": "code",
   "execution_count": 15,
   "id": "5820f28d",
   "metadata": {},
   "outputs": [
    {
     "name": "stdout",
     "output_type": "stream",
     "text": [
      "['수박', '자몽', '멜론']\n",
      "['수박']\n",
      "[]\n"
     ]
    }
   ],
   "source": [
    "# 과일을 담은 리스트\n",
    "fruits = ['수박', '참외', '자몽', '멜론']\n",
    "\n",
    "# 인덱스 1의 값을 삭제한다.\n",
    "del fruits[1]\n",
    "print(fruits) # ['수박', '자몽', '멜론']\n",
    "\n",
    "# 인덱스 1부터 3 전까지의 범위를 삭제한다.\n",
    "del fruits[1:3]\n",
    "print(fruits) # ['수박']\n",
    "\n",
    "# 리스트의 모든 값을 삭제한다. --> clear함수와 동등합니다.\n",
    "del fruits[:]\n",
    "print(fruits) # []"
   ]
  },
  {
   "cell_type": "markdown",
   "id": "86aaffb1",
   "metadata": {},
   "source": [
    "##### pop"
   ]
  },
  {
   "cell_type": "code",
   "execution_count": 21,
   "id": "4395e047",
   "metadata": {},
   "outputs": [
    {
     "data": {
      "text/plain": [
       "'자몽'"
      ]
     },
     "execution_count": 21,
     "metadata": {},
     "output_type": "execute_result"
    }
   ],
   "source": [
    "fruits = ['수박', '참외', '자몽', '멜론']\n",
    "fruits.pop(2)"
   ]
  },
  {
   "cell_type": "markdown",
   "id": "4b0bddbc",
   "metadata": {},
   "source": [
    "#### Tuple\n",
    "- Tuple은 immutable한 list입니다. list와 똑같이 인덱스를 이용해서 읽을 수 있고 데이터가 순차적으로 되어 있는 데이터 구조입니다.\n",
    "- 리스트와는 다르게 immutable하기 때문에 append나 remove와 같이 데이터를 변경하는 함수를 사용할 수 없고 직접 인덱스에 접근해서 데이터를 수정할수도 없습니다.\n",
    "- 성능의 차이가 있다는 것이 가장 큰 차이 입니다. list와는 다르게 tuple은 immutable하기 때문에 append나 remove처럼 데이터를 제어하는 메소드를 객체에서 갖고 있지 않습니다. 그러다보니 메모리에서는 상대적은 적은 공간을 차지하게 될 것이고 객체를 생성하거나 탐색할 때 더 적은 시간이 소요됩니다."
   ]
  },
  {
   "cell_type": "code",
   "execution_count": null,
   "id": "2bb405c3",
   "metadata": {},
   "outputs": [],
   "source": []
  },
  {
   "cell_type": "markdown",
   "id": "1956a658",
   "metadata": {},
   "source": [
    "##### packing / unpacking\n",
    "- packing : 튜플로 데이터를 묶어주는 것을 패킹이라고 힙니다. 즉 튜플로 데이터들을 할당해주는 것이 packing 입니다.\n",
    "- unpacking : 튜플의 데이터를 풀어서 각각 변수에 할당해주는 것이 unpacking입니다."
   ]
  },
  {
   "cell_type": "code",
   "execution_count": 26,
   "id": "50d150c9",
   "metadata": {},
   "outputs": [
    {
     "name": "stdout",
     "output_type": "stream",
     "text": [
      "합격 True 95\n"
     ]
    }
   ],
   "source": [
    "# tuple packing\n",
    "result = '수학', 100, '영어', 95.5\n",
    "\n",
    "# tuple unpacking\n",
    "math, m_score, english, e_score = result\n",
    "\n",
    "# 함수의 반환값을 tuple packing\n",
    "def report(x, y):\n",
    "    result = '불합격'\n",
    "    is_smart = False\n",
    "    if x + y > 90:\n",
    "        result = '합격'\n",
    "        is_smart = True\n",
    "    return result, is_smart, x + y\n",
    "\n",
    "# 함수의 반환값을 tuple unpacking\n",
    "pass_result, smart_bool, score = report(50, 45)\n",
    "print(pass_result, smart_bool, score) # 합격 True 95"
   ]
  },
  {
   "cell_type": "markdown",
   "id": "6bf5baaa",
   "metadata": {},
   "source": [
    "#### Set\n",
    "- 세트는 순서가 없고 중복이 없는 데이터 집합입니다. 과일 가게에서 판매하고 있는 과일들의 종류를 알기 위해 사용한다던가... 회사에서 프로그래머들이 사용할 수 있는 프로그래밍 언어의 종류가 어떤것이 있는지 확인하는 등 중복을 없애고 존재하고 있는 데이터를 확인하기 위해 많이 사용됩니다.\n",
    "- 세트는 중괄호를 이용해서 초기화할 수 있습니다. 하지만... 뒤에서 알아볼 dictionary 타입도 중괄호를 사용하기 때문에 빈 세트를 생성할 때는 set함수를 꼭 사용해야합니다.\n",
    "- set도 mutable 데이터 구조입니다. 값을 변경할 수 있습니다."
   ]
  },
  {
   "cell_type": "code",
   "execution_count": 27,
   "id": "ce532b79",
   "metadata": {},
   "outputs": [
    {
     "name": "stdout",
     "output_type": "stream",
     "text": [
      "<class 'set'>\n",
      "{'watermelon', 'lemon', 'apple'}\n",
      "<class 'dict'>\n",
      "<class 'set'>\n",
      "set()\n"
     ]
    }
   ],
   "source": [
    "fruits = {'apple', 'lemon', 'watermelon', 'apple'}\n",
    "print(type(fruits)) # <class 'set'>\n",
    "print(fruits) # {'lemon', 'watermelon', 'apple'} 순서가 없으므로 출력이 매번 변경됩니다.\n",
    "\n",
    "# 빈 세트는 함수를 통해서만 생성할 수 있다.\n",
    "d = {}\n",
    "print(type(d)) # <class 'dict'>\n",
    "\n",
    "s = set()\n",
    "print(type(s)) # <class 'set'>\n",
    "print(s) # set()"
   ]
  },
  {
   "cell_type": "code",
   "execution_count": 28,
   "id": "2a71168f",
   "metadata": {},
   "outputs": [
    {
     "name": "stdout",
     "output_type": "stream",
     "text": [
      "{'watermelon', 'lemon', 'apple'}\n",
      "{'watermelon', 'melon', 'lemon', 'apple'}\n",
      "{'watermelon', 'apple', 'melon', 'mango', 'grape', 'lemon'}\n",
      "{'watermelon', 'apple', 'melon', 'mango', 'lemon'}\n",
      "{'apple', 'melon', 'mango', 'lemon'}\n",
      "apple\n",
      "set()\n"
     ]
    }
   ],
   "source": [
    "fruits = {'apple', 'lemon', 'watermelon', 'apple'}\n",
    "print(fruits) # {'lemon', 'watermelon', 'apple'} 순서가 없으므로 출력이 매번 변경됩니다.\n",
    "\n",
    "# 세트에 추가하기\n",
    "fruits.add('melon')\n",
    "print(fruits) # {'apple', 'melon', 'lemon', 'watermelon'}\n",
    "\n",
    "# 세트에 모든 엘러멘트 추가하기\n",
    "fruits.update(['grape', 'watermelon', 'mango'])\n",
    "print(fruits) # {'melon', 'apple', 'lemon', 'mango', 'grape', 'watermelon'}\n",
    "\n",
    "# 세트에서 제거하기(매개변수로 받은 값이 세트에 없으면 오류가 발생한다.)\n",
    "fruits.remove('grape')\n",
    "print(fruits) # {'apple', 'watermelon', 'lemon', 'mango', 'melon'}\n",
    "# fruits.remove('grape') # KeyError: 'grape'\n",
    "\n",
    "# 세트에서 제거하기(매개변수로 받은 값이 세트에 있으면 삭제한다. 오류가 발생하지 않는다.)\n",
    "fruits.discard('watermelon')\n",
    "print(fruits) # {'lemon', 'melon', 'mango', 'apple'}\n",
    "fruits.discard('watermelon')\n",
    "\n",
    "# 세트에서 무작위로 값을 반환하고 제거한다.\n",
    "print(fruits.pop()) # 무작위로 값이 나오기 때문에 어떤 값이 나올지 모른다.\n",
    "\n",
    "# 세트에서 모든 값을 제거한다.\n",
    "fruits.clear()\n",
    "print(fruits) # set()"
   ]
  },
  {
   "cell_type": "code",
   "execution_count": 29,
   "id": "93456c39",
   "metadata": {},
   "outputs": [
    {
     "name": "stdout",
     "output_type": "stream",
     "text": [
      "True\n",
      "True\n",
      "False\n",
      "False\n",
      "True\n",
      "False\n",
      "{'grape', 'lemon', 'apple'}\n",
      "{'apple'}\n",
      "{'watermelon'}\n",
      "{'watermelon', 'grape', 'lemon'}\n"
     ]
    }
   ],
   "source": [
    "fruits1 = {'apple', 'lemon', 'watermelon', 'apple'}\n",
    "fruits2 = {'apple', 'lemon'}\n",
    "fruits3 = {'apple', 'lemon'}\n",
    "fruits4 = {'apple', 'grape'}\n",
    "\"\"\"\n",
    "비교 연산으로 크다 작다의 개념으로 이해하면 됩니다. subset\n",
    "이하, 이상 --> 같은 경우를 포함\n",
    "초과, 미만 --> 같은 경우는 미포함\n",
    "\"\"\"\n",
    "# fruits1이 fruits2의 상위집합인가?\n",
    "print(fruits1 >= fruits2) # True\n",
    "print(fruits1 > fruits2) # True\n",
    "\n",
    "# fruits1이 fruits2의 부분집합인가?\n",
    "print(fruits1 <= fruits2) # False\n",
    "print(fruits1 < fruits2) # False\n",
    "\n",
    "# fruits2가 fruits3의 상위 집합인가?\n",
    "print(fruits2 >= fruits3) # True\n",
    "# 같은 경우는 False\n",
    "print(fruits2 > fruits3) # False\n",
    "\n",
    "# 합집합\n",
    "print(fruits2 | fruits4) # {'grape', 'lemon', 'apple'}\n",
    "\n",
    "# 교집합\n",
    "print(fruits2 & fruits4) # {'apple'}\n",
    "\n",
    "# 차집합\n",
    "print(fruits1 - fruits2) # {'watermelon'}\n",
    "\n",
    "# 여집합\n",
    "print(fruits1 ^ fruits4) # {'grape', 'watermelon', 'lemon'}"
   ]
  },
  {
   "cell_type": "markdown",
   "id": "2dae3351",
   "metadata": {},
   "source": [
    "#### Dictionary\n",
    "- 다른 언어에서의 Map이라는 오브젝트와 동일한 데이터 구조 입니다. key, value를 쌍으로 구성된 집합입니다. list나 tuple은 인덱스가 숫자의 형태로 되어 있는데 dictionary의 경우 인덱스를 문자형이나 숫자형처럼 immutable한 데이터 타입으로 되어 있습니다. 숫자보다는 문자형으로 key를 사용합니다.\n",
    "- dictionary는 key의 값만 mutable한 데이터 타입으로 지정해주면 됩니다. value로는 숫자형, 문자형과 같은 데이터 타입이나 list, set과 같은 데이터 구조가 들어갈수도 있습니다."
   ]
  },
  {
   "cell_type": "code",
   "execution_count": 31,
   "id": "2a0b9df5",
   "metadata": {},
   "outputs": [
    {
     "name": "stdout",
     "output_type": "stream",
     "text": [
      "tom\n",
      "3\n",
      "['apple', 'watermelon']\n",
      "25\n"
     ]
    }
   ],
   "source": [
    "d = {\n",
    "    'name': 'tom',\n",
    "    'age': 30,\n",
    "    'items': {\n",
    "        'pockets': 3,\n",
    "        'baskets': [\n",
    "            [\n",
    "                'grape',\n",
    "                'lemon'\n",
    "            ],\n",
    "            [\n",
    "                'apple',\n",
    "                'watermelon'\n",
    "            ]\n",
    "        ]\n",
    "    },\n",
    "    1: 25\n",
    "}\n",
    "\n",
    "print(d['name']) # tom\n",
    "print(d['items']['pockets']) # 3\n",
    "print(d['items']['baskets'][1]) # ['apple', 'watermelon']\n",
    "print(d[1]) # 25"
   ]
  },
  {
   "cell_type": "markdown",
   "id": "5076f3f2",
   "metadata": {},
   "source": [
    "##### dict 생성 예제"
   ]
  },
  {
   "cell_type": "code",
   "execution_count": 33,
   "id": "036b3242",
   "metadata": {},
   "outputs": [
    {
     "name": "stdout",
     "output_type": "stream",
     "text": [
      "True\n"
     ]
    }
   ],
   "source": [
    "a = {'name': 'jamong', 'age': 30}\n",
    "b = dict(name='jamong', age=30)\n",
    "c = dict(zip(['name', 'age'], ['jamong', 30]))\n",
    "d = dict([('name', 'jamong'), ('age', 30)])\n",
    "e = dict({'age': 30}, name='jamong')\n",
    "\n",
    "print(a == b == c == d == e) # True"
   ]
  },
  {
   "cell_type": "markdown",
   "id": "c90f2d3c",
   "metadata": {},
   "source": [
    "##### dict 데이터 제어"
   ]
  },
  {
   "cell_type": "code",
   "execution_count": 35,
   "id": "0802bc0f",
   "metadata": {},
   "outputs": [
    {
     "name": "stdout",
     "output_type": "stream",
     "text": [
      "{'name': 'tom', 'age': 30}\n",
      "{'age': 30}\n"
     ]
    }
   ],
   "source": [
    "d = {'name': 'tom'}\n",
    "\n",
    "# dictionary 데이터 추가\n",
    "d['age'] = 30 # {'name': 'tom', 'age': 30}\n",
    "print(d)\n",
    "\n",
    "# dictionary 데이터 삭제\n",
    "del d['name']\n",
    "print(d) # {'age': 30}"
   ]
  },
  {
   "cell_type": "code",
   "execution_count": 36,
   "id": "22775d49",
   "metadata": {},
   "outputs": [
    {
     "name": "stdout",
     "output_type": "stream",
     "text": [
      "True\n",
      "False\n",
      "dict_items([('name', 'tom'), ('age', 30)])\n",
      "dict_keys(['name', 'age'])\n",
      "dict_values(['tom', 30])\n",
      "tom\n",
      "None\n",
      "123\n",
      "{'name': 'tom', 'age': 20}\n",
      "20\n",
      "{'name': 'tom'}\n"
     ]
    },
    {
     "ename": "KeyError",
     "evalue": "'age'",
     "output_type": "error",
     "traceback": [
      "\u001b[0;31m---------------------------------------------------------------------------\u001b[0m",
      "\u001b[0;31mKeyError\u001b[0m                                  Traceback (most recent call last)",
      "Input \u001b[0;32mIn [36]\u001b[0m, in \u001b[0;36m<module>\u001b[0;34m\u001b[0m\n\u001b[1;32m     34\u001b[0m \u001b[38;5;28mprint\u001b[39m(d\u001b[38;5;241m.\u001b[39mpop(\u001b[38;5;124m'\u001b[39m\u001b[38;5;124mage\u001b[39m\u001b[38;5;124m'\u001b[39m)) \u001b[38;5;66;03m# 20\u001b[39;00m\n\u001b[1;32m     35\u001b[0m \u001b[38;5;28mprint\u001b[39m(d) \u001b[38;5;66;03m# {'name': 'tom'}\u001b[39;00m\n\u001b[0;32m---> 36\u001b[0m \u001b[38;5;28mprint\u001b[39m(\u001b[43md\u001b[49m\u001b[38;5;241;43m.\u001b[39;49m\u001b[43mpop\u001b[49m\u001b[43m(\u001b[49m\u001b[38;5;124;43m'\u001b[39;49m\u001b[38;5;124;43mage\u001b[39;49m\u001b[38;5;124;43m'\u001b[39;49m\u001b[43m)\u001b[49m) \u001b[38;5;66;03m# KeyError: 'age'\u001b[39;00m\n\u001b[1;32m     37\u001b[0m \u001b[38;5;28mprint\u001b[39m(d\u001b[38;5;241m.\u001b[39mpop(\u001b[38;5;124m'\u001b[39m\u001b[38;5;124mage\u001b[39m\u001b[38;5;124m'\u001b[39m, \u001b[38;5;241m123\u001b[39m)) \u001b[38;5;66;03m# 123\u001b[39;00m\n\u001b[1;32m     39\u001b[0m \u001b[38;5;66;03m# dictionary 데이터 모두 삭제\u001b[39;00m\n",
      "\u001b[0;31mKeyError\u001b[0m: 'age'"
     ]
    }
   ],
   "source": [
    "d = {\n",
    "    'name': 'tom',\n",
    "    'age': 30\n",
    "}\n",
    "\n",
    "# dictionary에 key의 존재여부 확인\n",
    "print('name' in d) # True\n",
    "print('name' not in d) # False\n",
    "\n",
    "# dictionary (key, value) 형식으로 데이터 추출\n",
    "print(d.items()) # dict_items([('name', 'tom'), ('age', 30)])\n",
    "\n",
    "# dictionary key 값들을 추출한다.\n",
    "print(d.keys()) # dict_keys(['name', 'age'])\n",
    "\n",
    "# dictionary value 값드을 추출한다.\n",
    "print(d.values()) # dict_values(['tom', 30])\n",
    "\n",
    "# dictionary의 value를 key값으로부터 얻을 수 있다.\n",
    "# key가 없는 경우 default로 None을 반환하고 2번째 인자를 지정해주면 해당 값을 반환한다.\n",
    "print(d.get('name')) # tome\n",
    "print(d.get('height')) # None\n",
    "print(d.get('height', 123)) # 123\n",
    "\n",
    "# dictionary의 데이터를 수정한다.\n",
    "# 이미 존재하는 key이면 overwrite하고 없으면 추가한다.\n",
    "d.update({'age': 20})\n",
    "print(d) # {'name': 'tom', 'age': 20}\n",
    "\n",
    "# key에 해당하는 값을 반환하고 dictionary에서 삭제한다.\n",
    "# key가 없으면 오류를 발생시킨다.\n",
    "# 2번째 인가자 지정되어 있으면 오류가 아닌 해당 값을 반환한다.\n",
    "# popitem 함수는 같은 기능이지만 값이 아닌 key:value 아이템을 반환한다.\n",
    "print(d.pop('age')) # 20\n",
    "print(d) # {'name': 'tom'}\n",
    "print(d.pop('age')) # KeyError: 'age'\n",
    "print(d.pop('age', 123)) # 123\n",
    "\n",
    "# dictionary 데이터 모두 삭제\n",
    "d.clear()\n",
    "print(d) # {}"
   ]
  },
  {
   "cell_type": "markdown",
   "id": "9c515a9a",
   "metadata": {},
   "source": [
    "# 데이터 전처리"
   ]
  },
  {
   "cell_type": "markdown",
   "id": "c45b15f8",
   "metadata": {},
   "source": [
    "## 제어문"
   ]
  },
  {
   "cell_type": "markdown",
   "id": "d03a0676",
   "metadata": {},
   "source": [
    "- 조건문\n",
    "- 반복문"
   ]
  },
  {
   "cell_type": "code",
   "execution_count": null,
   "id": "abf30f36",
   "metadata": {},
   "outputs": [],
   "source": []
  },
  {
   "cell_type": "code",
   "execution_count": null,
   "id": "f9fab474",
   "metadata": {},
   "outputs": [],
   "source": []
  },
  {
   "cell_type": "code",
   "execution_count": null,
   "id": "55de577f",
   "metadata": {},
   "outputs": [],
   "source": []
  },
  {
   "cell_type": "code",
   "execution_count": null,
   "id": "068953e9",
   "metadata": {},
   "outputs": [],
   "source": []
  },
  {
   "cell_type": "code",
   "execution_count": null,
   "id": "465e3921",
   "metadata": {},
   "outputs": [],
   "source": []
  },
  {
   "cell_type": "markdown",
   "id": "311e2e5f",
   "metadata": {},
   "source": [
    "## 데이터 변환"
   ]
  },
  {
   "cell_type": "markdown",
   "id": "67cbb1ef",
   "metadata": {},
   "source": [
    "### 파생변수 생성"
   ]
  },
  {
   "cell_type": "markdown",
   "id": "9f2e1285",
   "metadata": {},
   "source": [
    "- 파생 데이터 프레임 생성은 꼭 .copy()로 해라\n",
    "- 열 추가, 행 추가 방법 공부\n",
    "    - 조건에 따라 새로운 열(변수)를 추가하는 방법"
   ]
  },
  {
   "cell_type": "markdown",
   "id": "58fd2ae2",
   "metadata": {},
   "source": [
    "### 변수 축소"
   ]
  },
  {
   "cell_type": "markdown",
   "id": "fee0c211",
   "metadata": {},
   "source": [
    "#### 주성분 분석"
   ]
  },
  {
   "cell_type": "markdown",
   "id": "f52770cd",
   "metadata": {},
   "source": [
    "주성분 (변수) 선택 시\n",
    "- 기여율\n",
    "- Scree Plot\n",
    "- 산점도를 활용한 변수간 상관관계 파악\n",
    "- 행렬도 (biplot)"
   ]
  },
  {
   "cell_type": "markdown",
   "id": "264c1da9",
   "metadata": {},
   "source": [
    "#### 요인 분석"
   ]
  },
  {
   "cell_type": "markdown",
   "id": "28ae703c",
   "metadata": {},
   "source": [
    "- 주성분 분석과 요인 분석 비교"
   ]
  },
  {
   "cell_type": "markdown",
   "id": "ca327cac",
   "metadata": {},
   "source": [
    "### 표준화와 정규화"
   ]
  },
  {
   "cell_type": "markdown",
   "id": "1c053316",
   "metadata": {},
   "source": [
    "#### 표준화 "
   ]
  },
  {
   "cell_type": "markdown",
   "id": "d59a18ce",
   "metadata": {},
   "source": [
    "- 평균을 기준으로 얼마나 떨어져 있는지를 나타내는 값으로 변환하는 과정\n",
    "- z-score 표준화는 각 요소의 값에서 평균을 뺀 후 표준편차로 나누어 수행한다"
   ]
  },
  {
   "cell_type": "markdown",
   "id": "00a3b81e",
   "metadata": {},
   "source": [
    "#### 정규화"
   ]
  },
  {
   "cell_type": "markdown",
   "id": "320dc24a",
   "metadata": {},
   "source": [
    "- 데이터의 범위를 0과 1 사이로 변환하여 데이터의 분포를 조정하는 방법\n",
    "- scale 함수? 사용자 정의 normalize?"
   ]
  },
  {
   "cell_type": "markdown",
   "id": "dfa80e51",
   "metadata": {},
   "source": [
    "# 데이터 결합 및 요약"
   ]
  },
  {
   "cell_type": "markdown",
   "id": "ef34a4fe",
   "metadata": {},
   "source": [
    "## 데이터 결합"
   ]
  },
  {
   "cell_type": "markdown",
   "id": "8d6e614d",
   "metadata": {},
   "source": [
    "- rbind, cbind, merge 등"
   ]
  },
  {
   "cell_type": "markdown",
   "id": "72f74f30",
   "metadata": {},
   "source": [
    "## 데이터 요약"
   ]
  },
  {
   "cell_type": "markdown",
   "id": "c6ccc1c8",
   "metadata": {},
   "source": [
    "- aggregate, table (도수분포표), prop.table, subset 등"
   ]
  },
  {
   "cell_type": "markdown",
   "id": "bd0531fb",
   "metadata": {},
   "source": [
    "## apply 계열 함수"
   ]
  },
  {
   "cell_type": "markdown",
   "id": "32a06304",
   "metadata": {},
   "source": [
    "- apply, lapply, sapply, vapply, mapply, tapply"
   ]
  },
  {
   "cell_type": "markdown",
   "id": "f0cd2a90",
   "metadata": {},
   "source": [
    "# 패키지를 활용한 데이터 전처리"
   ]
  },
  {
   "cell_type": "markdown",
   "id": "02155811",
   "metadata": {},
   "source": [
    "## plyr"
   ]
  },
  {
   "cell_type": "markdown",
   "id": "633039f8",
   "metadata": {},
   "source": [
    "- 데이터를 분할한 뒤 원하는 방향(행, 열)으로 특정 함수를 적용하고(apply), 그 결과를 재조합(combine)하여 반환해 준다. 여러 함수로 처리해야 할 데이터의 분할, 함수 적용, 재조합을 한 번에 처리할 수 있기 때문에 매우 효율적이고 편리한 패키지이다.\n",
    "- plyr 함수는 xxply로 이루어져 있으며, 첫 번째 글자는 데이터의 입력 형태를 의미하고 두 번째 글자는 출력 데이터의 형태를 의미한다.\n",
    "- a: array, l: list, d: data frame, _: 출력 없음\n",
    "- adply, ddply 등"
   ]
  },
  {
   "cell_type": "markdown",
   "id": "d97904ba",
   "metadata": {},
   "source": [
    "## dplyr"
   ]
  },
  {
   "cell_type": "markdown",
   "id": "5cfcb8b5",
   "metadata": {},
   "source": [
    "- 데이터의 일부 추출, 새로운 변수 생성, 다른 데이터와 병합 등 다양한 기능을 지원한다.\n",
    "- select: 지정한 열 추출\n",
    "- summarise: 요약 통계량 계산\n",
    "- filter: 조건에 맞는 행 추출\n",
    "- arrange: 데이터 정렬\n",
    "- mutate: 변수 추가\n",
    "- left, right, inner, full join\n",
    "- group_by: 그룹화\n",
    "- bind rows, cols"
   ]
  },
  {
   "cell_type": "markdown",
   "id": "712546b3",
   "metadata": {},
   "source": [
    "## reshape2"
   ]
  },
  {
   "cell_type": "markdown",
   "id": "769fe3be",
   "metadata": {},
   "source": [
    "- melt & cast"
   ]
  },
  {
   "cell_type": "markdown",
   "id": "8e3a66e8",
   "metadata": {},
   "source": [
    "## data.table"
   ]
  },
  {
   "cell_type": "markdown",
   "id": "9e2a10c1",
   "metadata": {},
   "source": [
    "- 여기서 loc, iloc이랑 비슷한 듯 "
   ]
  },
  {
   "cell_type": "markdown",
   "id": "c0a8ad03",
   "metadata": {},
   "source": [
    "# 결측치 처리"
   ]
  },
  {
   "cell_type": "markdown",
   "id": "39ae8daf",
   "metadata": {},
   "source": [
    "## 결측치 인식"
   ]
  },
  {
   "cell_type": "markdown",
   "id": "3edf44ba",
   "metadata": {},
   "source": [
    "- is.na()\n",
    "- "
   ]
  },
  {
   "cell_type": "markdown",
   "id": "b8595a82",
   "metadata": {},
   "source": [
    "## 결측치 처리"
   ]
  },
  {
   "cell_type": "markdown",
   "id": "91531355",
   "metadata": {},
   "source": [
    "- 단순 대치법\n",
    "- 다중 대치법\n",
    "- 결측치가 존재하는 행 제거\n",
    "- 평균 대치법\n",
    "- 패키지 활용"
   ]
  },
  {
   "cell_type": "markdown",
   "id": "54240172",
   "metadata": {},
   "source": [
    "## 이상치 인식"
   ]
  },
  {
   "cell_type": "markdown",
   "id": "72ab008c",
   "metadata": {},
   "source": [
    "- 사분위수\n",
    "- boxplot을 활용한 이상치 판별"
   ]
  },
  {
   "cell_type": "markdown",
   "id": "73793e4d",
   "metadata": {},
   "source": [
    "# 날짜 데이터 전처리"
   ]
  },
  {
   "cell_type": "markdown",
   "id": "cdfb0495",
   "metadata": {},
   "source": [
    "## 날짜 데이터 다루기"
   ]
  },
  {
   "cell_type": "markdown",
   "id": "4939a029",
   "metadata": {},
   "source": [
    "### 날짜 데이터 형식 확인"
   ]
  },
  {
   "cell_type": "markdown",
   "id": "efac00cd",
   "metadata": {},
   "source": [
    "### 날짜 표시 형식 변경"
   ]
  },
  {
   "cell_type": "markdown",
   "id": "16a6b58a",
   "metadata": {},
   "source": [
    "### 날짜 데이터의 연산"
   ]
  },
  {
   "cell_type": "markdown",
   "id": "7d4b57c1",
   "metadata": {},
   "source": [
    "- 날짜 간 거리 계산"
   ]
  },
  {
   "cell_type": "markdown",
   "id": "c23d908c",
   "metadata": {},
   "source": [
    "------------------------- 통계 분석 -------------------------"
   ]
  },
  {
   "cell_type": "markdown",
   "id": "160d0d82",
   "metadata": {},
   "source": [
    "# 데이터 샘플링"
   ]
  },
  {
   "cell_type": "markdown",
   "id": "13d5030b",
   "metadata": {},
   "source": [
    "## 표본추출 방법"
   ]
  },
  {
   "cell_type": "markdown",
   "id": "72b9ab20",
   "metadata": {},
   "source": [
    "### 표본 추출 방법"
   ]
  },
  {
   "cell_type": "markdown",
   "id": "77e6e09f",
   "metadata": {},
   "source": [
    "- 단순 임의 추출법\n",
    "- 계통 추출법\n",
    "- 집락 추출법\n",
    "- 층화 추출법\n",
    "- 다단계 추출"
   ]
  },
  {
   "cell_type": "markdown",
   "id": "0a675b6a",
   "metadata": {},
   "source": [
    "## R을 이용한 표본 추출"
   ]
  },
  {
   "cell_type": "markdown",
   "id": "80b45a1a",
   "metadata": {},
   "source": [
    "### 단순 임의 추출"
   ]
  },
  {
   "cell_type": "markdown",
   "id": "c40a3fa8",
   "metadata": {},
   "source": [
    "### 층화 임의 추출"
   ]
  },
  {
   "cell_type": "markdown",
   "id": "84e5c271",
   "metadata": {},
   "source": [
    "## T-test"
   ]
  },
  {
   "cell_type": "markdown",
   "id": "bb37778e",
   "metadata": {},
   "source": [
    "## 일표본 T-검정"
   ]
  },
  {
   "cell_type": "markdown",
   "id": "93044dc0",
   "metadata": {},
   "source": [
    "## 대응표본 T-검정"
   ]
  },
  {
   "cell_type": "markdown",
   "id": "f1eb6fde",
   "metadata": {},
   "source": [
    "## 독립 표본 T-검정"
   ]
  },
  {
   "cell_type": "markdown",
   "id": "c1ab7d40",
   "metadata": {},
   "source": [
    "# 교차 분석"
   ]
  },
  {
   "cell_type": "markdown",
   "id": "d49cf0e2",
   "metadata": {},
   "source": [
    "## 교차 분석의 개념"
   ]
  },
  {
   "cell_type": "markdown",
   "id": "90e78fca",
   "metadata": {},
   "source": [
    "- 범주형 자료인 두 변수 간의 관계를 알아보기 위해 실시하는 분석 기법\n",
    "- 적합성 검정, 독립성 검정, 동질성 검정에 사용되며, 카이제곱 검정 통계량을 이용\n",
    "- 교차표를 이용"
   ]
  },
  {
   "cell_type": "markdown",
   "id": "5ca89273",
   "metadata": {},
   "source": [
    "## 적합성 검정"
   ]
  },
  {
   "cell_type": "markdown",
   "id": "f7b2ac64",
   "metadata": {},
   "source": [
    "- 실험에서 얻어진 관측값들이 예상한 이론과 일치하는지 아닌지를 검정"
   ]
  },
  {
   "cell_type": "markdown",
   "id": "8067cbaf",
   "metadata": {},
   "source": [
    "## 독립성 검정"
   ]
  },
  {
   "cell_type": "markdown",
   "id": "26858e0c",
   "metadata": {},
   "source": [
    "## 동질성 검정"
   ]
  },
  {
   "cell_type": "markdown",
   "id": "42efd80b",
   "metadata": {},
   "source": [
    "# 분산 분석 (ANOVA)"
   ]
  },
  {
   "cell_type": "markdown",
   "id": "95bbb812",
   "metadata": {},
   "source": [
    "## 일원배치 분산 분석 (one-way ANOVA)"
   ]
  },
  {
   "cell_type": "markdown",
   "id": "c05383ae",
   "metadata": {},
   "source": [
    "## 이원배치 분산 분석 (two-way ANOVA)"
   ]
  },
  {
   "cell_type": "markdown",
   "id": "ed07c4f8",
   "metadata": {},
   "source": [
    "# 상관 분석"
   ]
  },
  {
   "cell_type": "markdown",
   "id": "69c67c25",
   "metadata": {},
   "source": [
    "## 상관 분석의 개념"
   ]
  },
  {
   "cell_type": "markdown",
   "id": "eb7f725e",
   "metadata": {},
   "source": [
    "## 상관 분석의 유형"
   ]
  },
  {
   "cell_type": "markdown",
   "id": "37621edf",
   "metadata": {},
   "source": [
    "## 상관 계수 검정"
   ]
  },
  {
   "cell_type": "markdown",
   "id": "a110d08b",
   "metadata": {},
   "source": [
    "# 회귀 분석 "
   ]
  },
  {
   "cell_type": "markdown",
   "id": "b51ca4bf",
   "metadata": {},
   "source": [
    "## 회귀 분석의 개념"
   ]
  },
  {
   "cell_type": "markdown",
   "id": "6688872a",
   "metadata": {},
   "source": [
    "## 단순선형회귀분석"
   ]
  },
  {
   "cell_type": "markdown",
   "id": "355d1376",
   "metadata": {},
   "source": [
    "## 다중선형회귀분석"
   ]
  },
  {
   "cell_type": "markdown",
   "id": "bd5d1050",
   "metadata": {},
   "source": [
    "------------------------- 시각화 -------------------------"
   ]
  },
  {
   "cell_type": "markdown",
   "id": "527e45fa",
   "metadata": {},
   "source": [
    "# 산점도"
   ]
  },
  {
   "cell_type": "markdown",
   "id": "405be5dd",
   "metadata": {},
   "source": [
    "## 산점도란?"
   ]
  },
  {
   "cell_type": "markdown",
   "id": "31a51165",
   "metadata": {},
   "source": [
    "## Plot 함수의 옵션"
   ]
  },
  {
   "cell_type": "markdown",
   "id": "dcb13ad8",
   "metadata": {},
   "source": [
    "## 그래프 서식"
   ]
  },
  {
   "cell_type": "markdown",
   "id": "9424446f",
   "metadata": {},
   "source": [
    "# 그래프"
   ]
  },
  {
   "cell_type": "markdown",
   "id": "9d7a5094",
   "metadata": {},
   "source": [
    "## 점 그래프"
   ]
  },
  {
   "cell_type": "markdown",
   "id": "e766f3a4",
   "metadata": {},
   "source": [
    "## 선 그래프"
   ]
  },
  {
   "cell_type": "markdown",
   "id": "8749482f",
   "metadata": {},
   "source": [
    "## 막대 그래프"
   ]
  },
  {
   "cell_type": "markdown",
   "id": "bec9d570",
   "metadata": {},
   "source": [
    "## 히스토그램"
   ]
  },
  {
   "cell_type": "markdown",
   "id": "987abb41",
   "metadata": {},
   "source": [
    "## 히스토그램"
   ]
  },
  {
   "cell_type": "markdown",
   "id": "3dbffaca",
   "metadata": {},
   "source": [
    "## 파이 차트"
   ]
  },
  {
   "cell_type": "markdown",
   "id": "c5167bb7",
   "metadata": {},
   "source": [
    "## 산점도 행렬"
   ]
  },
  {
   "cell_type": "markdown",
   "id": "acd79720",
   "metadata": {},
   "source": [
    "------------------------- 정형 데이터 마이닝 -------------------------"
   ]
  },
  {
   "cell_type": "markdown",
   "id": "2fccef3f",
   "metadata": {},
   "source": [
    "# 데이터 분할과 성과 분석 "
   ]
  },
  {
   "cell_type": "markdown",
   "id": "0a7c1d50",
   "metadata": {},
   "source": [
    "## 데이터 분할"
   ]
  },
  {
   "cell_type": "markdown",
   "id": "8f493578",
   "metadata": {},
   "source": [
    "## 성과 분석"
   ]
  },
  {
   "cell_type": "markdown",
   "id": "a3a5cb61",
   "metadata": {},
   "source": [
    "### 오분류표"
   ]
  },
  {
   "cell_type": "markdown",
   "id": "f2220794",
   "metadata": {},
   "source": [
    "# 분류 분석"
   ]
  },
  {
   "cell_type": "markdown",
   "id": "2157518e",
   "metadata": {},
   "source": [
    "## 로지스틱 회귀 분석"
   ]
  },
  {
   "cell_type": "markdown",
   "id": "abbea4c4",
   "metadata": {},
   "source": [
    "## 의사결정나무"
   ]
  },
  {
   "cell_type": "markdown",
   "id": "04363fcd",
   "metadata": {},
   "source": [
    "## 앙상블 기법"
   ]
  },
  {
   "cell_type": "markdown",
   "id": "8cf2162d",
   "metadata": {},
   "source": [
    "### 배깅"
   ]
  },
  {
   "cell_type": "markdown",
   "id": "467395c4",
   "metadata": {},
   "source": [
    "### 부스팅"
   ]
  },
  {
   "cell_type": "markdown",
   "id": "1c847443",
   "metadata": {},
   "source": [
    "### 랜덤 포레스트"
   ]
  },
  {
   "cell_type": "markdown",
   "id": "d9a04a6e",
   "metadata": {},
   "source": [
    "## SVM (Support Vector Machine)"
   ]
  },
  {
   "cell_type": "markdown",
   "id": "26cdd3a8",
   "metadata": {},
   "source": [
    "## 나이브 베이즈 분류"
   ]
  },
  {
   "cell_type": "markdown",
   "id": "a952e740",
   "metadata": {},
   "source": [
    "## K-NN (K-Nearest Neighbor)"
   ]
  },
  {
   "cell_type": "markdown",
   "id": "e5bda12d",
   "metadata": {},
   "source": [
    "## 인공신경망 모형 (Artificial Neural Network)"
   ]
  },
  {
   "cell_type": "markdown",
   "id": "f8e9367a",
   "metadata": {},
   "source": [
    "# 군집 분석"
   ]
  },
  {
   "cell_type": "markdown",
   "id": "2fa6968b",
   "metadata": {},
   "source": [
    "## 군집 분석"
   ]
  },
  {
   "cell_type": "markdown",
   "id": "353499bd",
   "metadata": {},
   "source": [
    "- 군집 분석의 개념"
   ]
  },
  {
   "cell_type": "markdown",
   "id": "73a59ebf",
   "metadata": {},
   "source": [
    "## 계층적 군집 분석"
   ]
  },
  {
   "cell_type": "markdown",
   "id": "6fcdd2ef",
   "metadata": {},
   "source": [
    "## 비계층적 군집 분석"
   ]
  },
  {
   "cell_type": "markdown",
   "id": "d6edee98",
   "metadata": {},
   "source": [
    "## 혼합 분포 군집"
   ]
  },
  {
   "cell_type": "markdown",
   "id": "1e50a3b0",
   "metadata": {},
   "source": [
    "# 연관 분석"
   ]
  },
  {
   "cell_type": "markdown",
   "id": "efa2f32c",
   "metadata": {},
   "source": [
    "## 연관 규칙"
   ]
  },
  {
   "cell_type": "markdown",
   "id": "abfa3463",
   "metadata": {},
   "source": [
    "------------------------- 비정형 데이터 마이닝 -------------------------"
   ]
  },
  {
   "cell_type": "markdown",
   "id": "313da595",
   "metadata": {},
   "source": [
    "# 텍스트 마이닝"
   ]
  },
  {
   "cell_type": "markdown",
   "id": "c1b9d091",
   "metadata": {},
   "source": [
    "## 데이터 전처리"
   ]
  },
  {
   "cell_type": "markdown",
   "id": "f0b9f287",
   "metadata": {},
   "source": [
    "## Term-Document Matrix"
   ]
  },
  {
   "cell_type": "code",
   "execution_count": null,
   "id": "e2ce2f09",
   "metadata": {},
   "outputs": [],
   "source": []
  },
  {
   "cell_type": "code",
   "execution_count": null,
   "id": "3b8a4d8f",
   "metadata": {},
   "outputs": [],
   "source": []
  },
  {
   "cell_type": "code",
   "execution_count": null,
   "id": "06e7320f",
   "metadata": {},
   "outputs": [],
   "source": []
  }
 ],
 "metadata": {
  "kernelspec": {
   "display_name": "Python 3 (ipykernel)",
   "language": "python",
   "name": "python3"
  },
  "language_info": {
   "codemirror_mode": {
    "name": "ipython",
    "version": 3
   },
   "file_extension": ".py",
   "mimetype": "text/x-python",
   "name": "python",
   "nbconvert_exporter": "python",
   "pygments_lexer": "ipython3",
   "version": "3.9.7"
  },
  "toc": {
   "base_numbering": 1,
   "nav_menu": {},
   "number_sections": true,
   "sideBar": true,
   "skip_h1_title": false,
   "title_cell": "Table of Contents",
   "title_sidebar": "Contents",
   "toc_cell": false,
   "toc_position": {},
   "toc_section_display": true,
   "toc_window_display": true
  },
  "varInspector": {
   "cols": {
    "lenName": 16,
    "lenType": 16,
    "lenVar": 40
   },
   "kernels_config": {
    "python": {
     "delete_cmd_postfix": "",
     "delete_cmd_prefix": "del ",
     "library": "var_list.py",
     "varRefreshCmd": "print(var_dic_list())"
    },
    "r": {
     "delete_cmd_postfix": ") ",
     "delete_cmd_prefix": "rm(",
     "library": "var_list.r",
     "varRefreshCmd": "cat(var_dic_list()) "
    }
   },
   "types_to_exclude": [
    "module",
    "function",
    "builtin_function_or_method",
    "instance",
    "_Feature"
   ],
   "window_display": false
  }
 },
 "nbformat": 4,
 "nbformat_minor": 5
}
